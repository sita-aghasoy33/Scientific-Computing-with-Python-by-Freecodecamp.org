{
  "nbformat": 4,
  "nbformat_minor": 0,
  "metadata": {
    "colab": {
      "provenance": []
    },
    "kernelspec": {
      "name": "python3",
      "display_name": "Python 3"
    },
    "language_info": {
      "name": "python"
    }
  },
  "cells": [
    {
      "cell_type": "markdown",
      "source": [
        "# **4. Learn Python List Comprehesion by Building a Case Converter Program**\n",
        "\n",
        "[go to the task in official web-site: www.freecodecamp.org](https://www.freecodecamp.org/learn/scientific-computing-with-python/#learn-list-comprehension-by-building-a-case-converter-program)"
      ],
      "metadata": {
        "id": "ryZkyB4DqSFQ"
      }
    },
    {
      "cell_type": "markdown",
      "source": [
        "# **About the Case Converter Program**\n",
        "\n",
        "There are three famous cases in coding:\n",
        "\n",
        "1. camelCase\n",
        "2. PascalCase\n",
        "3. snake_case\n",
        "\n",
        "In this project, you are going to build a program that takes a camelCase or PascalCase formatted string as input and converts that to a snake_case formatted string using two approaches. First, you'll use a for loop and then list comprehension to achieve the same results. You'll see how list comprehension can make your code more concise."
      ],
      "metadata": {
        "id": "VxdSpXMVqjho"
      }
    },
    {
      "cell_type": "code",
      "source": [
        "# try convert the string to the list\n",
        "list('hello')"
      ],
      "metadata": {
        "colab": {
          "base_uri": "https://localhost:8080/"
        },
        "id": "rC_F9NPMa-Kk",
        "outputId": "5ed614c4-4c6f-4956-d0d0-e02aca1efcc5"
      },
      "execution_count": 62,
      "outputs": [
        {
          "output_type": "execute_result",
          "data": {
            "text/plain": [
              "['h', 'e', 'l', 'l', 'o']"
            ]
          },
          "metadata": {},
          "execution_count": 62
        }
      ]
    },
    {
      "cell_type": "code",
      "execution_count": 63,
      "metadata": {
        "colab": {
          "base_uri": "https://localhost:8080/",
          "height": 35
        },
        "id": "T7UIrdB9qMDN",
        "outputId": "3700bd7b-2ac5-4cdf-df6b-862ce4d5f3a5"
      },
      "outputs": [
        {
          "output_type": "execute_result",
          "data": {
            "text/plain": [
              "'hello'"
            ],
            "application/vnd.google.colaboratory.intrinsic+json": {
              "type": "string"
            }
          },
          "metadata": {},
          "execution_count": 63
        }
      ],
      "source": [
        "# try converting list to the string\n",
        "''.join(['h', 'e', 'l', 'l', 'o'])"
      ]
    },
    {
      "cell_type": "code",
      "source": [
        "# define a function to conver Pascal or Camel case string into Snake case.\n",
        "def convert_to_snake_case(pascal_or_camel_cased_string):\n",
        "    \"\"\"\n",
        "    This function converts a PascalCase or camelCase string to a snake_case string.\n",
        "\n",
        "    Args:\n",
        "        pascal_or_camel_cased_string (str): A string to be converted.\n",
        "\n",
        "    Returns:\n",
        "        str: The converted string.\n",
        "\n",
        "    Raises:\n",
        "        TypeError: If the input is not a string (or any other iterable object)\n",
        "        TypeError: If the reuired argument is missing.\n",
        "        AttributeError: If the itarated element in argument is not string.\n",
        "\n",
        "    Examples:\n",
        "        >>> convert_to_snake_case('IAmAPascalCasedString')\n",
        "        'i_am_a_pascal_cased_string'\n",
        "\n",
        "    \"\"\"\n",
        "\n",
        "    # create an empty list to collect converted chars\n",
        "    snake_cased_char_list = []\n",
        "\n",
        "    # for each character in given string...\n",
        "    for char in pascal_or_camel_cased_string:\n",
        "        # ...check whether it is upper or lower case\n",
        "        if char.isupper():\n",
        "          # if it is upper, then lower it and prepend \"_\",\n",
        "          # and append to the predefined empty list 'snake_cased_char_list'\n",
        "          converted_character = '_' + char.lower()\n",
        "          snake_cased_char_list.append(converted_character)\n",
        "        else:\n",
        "            # if it is lower, directly append to the 'snake_cased_char_list'\n",
        "            snake_cased_char_list.append(char)\n",
        "\n",
        "    # convert list to the string\n",
        "    snake_cased_string = ''.join(snake_cased_char_list)\n",
        "\n",
        "    # clean list removing '_' character in the beginning and the end\n",
        "    clean_snake_cased_string = snake_cased_string.strip('_')\n",
        "\n",
        "    # return the final result\n",
        "    return clean_snake_cased_string"
      ],
      "metadata": {
        "id": "rtepQD9_DZXq"
      },
      "execution_count": 8,
      "outputs": []
    },
    {
      "cell_type": "code",
      "source": [
        "# Check for a camel case string\n",
        "def main():\n",
        "  print(convert_to_snake_case('aLongAndComplexString'))\n",
        "if __name__ == '__main__':\n",
        "    main()"
      ],
      "metadata": {
        "colab": {
          "base_uri": "https://localhost:8080/"
        },
        "id": "UsMyAvjDWxPP",
        "outputId": "0c0b5d97-be28-4a51-e867-496c82423c95"
      },
      "execution_count": 55,
      "outputs": [
        {
          "output_type": "stream",
          "name": "stdout",
          "text": [
            "a_long_and_complex_string\n"
          ]
        }
      ]
    },
    {
      "cell_type": "code",
      "source": [
        "# even if the function is intended for strings,\n",
        "# it also works with tuples, as it is iterable object like strings\n",
        "def main():\n",
        "  print(convert_to_snake_case(('H', 'e', 'l', 'l','o')))\n",
        "if __name__ == '__main__':\n",
        "    main()"
      ],
      "metadata": {
        "colab": {
          "base_uri": "https://localhost:8080/"
        },
        "id": "lcXtRTgEHQxu",
        "outputId": "7273cc21-8cff-4aa6-a476-7ee54ea1764c"
      },
      "execution_count": 56,
      "outputs": [
        {
          "output_type": "stream",
          "name": "stdout",
          "text": [
            "hello\n"
          ]
        }
      ]
    },
    {
      "cell_type": "code",
      "source": [
        "# with sets, it does not give error,\n",
        "# but as set contains only unique elements in alphabetical order,\n",
        "# it yields unintended result\n",
        "def main():\n",
        "  print(convert_to_snake_case(set(('H', 'e', 'l', 'l','o'))))\n",
        "if __name__ == '__main__':\n",
        "    main()"
      ],
      "metadata": {
        "colab": {
          "base_uri": "https://localhost:8080/"
        },
        "id": "sp0KtpsgYVIk",
        "outputId": "0b22575a-b885-4412-9a27-3101ad8fe386"
      },
      "execution_count": 57,
      "outputs": [
        {
          "output_type": "stream",
          "name": "stdout",
          "text": [
            "oe_hl\n"
          ]
        }
      ]
    },
    {
      "cell_type": "code",
      "source": [
        "# it also works with lists, as it is also an iterable object\n",
        "def main():\n",
        "  print(convert_to_snake_case(['H', 'e', 'l', 'l','o', \"S\"]))\n",
        "if __name__ == '__main__':\n",
        "    main()"
      ],
      "metadata": {
        "colab": {
          "base_uri": "https://localhost:8080/"
        },
        "id": "6YreQ0EmWrmb",
        "outputId": "00ab681c-d239-499a-a594-71c3ab0c01cc"
      },
      "execution_count": 58,
      "outputs": [
        {
          "output_type": "stream",
          "name": "stdout",
          "text": [
            "hello_s\n"
          ]
        }
      ]
    },
    {
      "cell_type": "code",
      "source": [
        "# define a function than converts Pascal and Camel case strings to Snake case\n",
        "# This time we use list comprehession method instead of direct for loop\n",
        "def convert_to_snake_case(pascal_or_camel_cased_string):\n",
        "    \"\"\"\n",
        "    This function converts a PascalCase or camelCase string to a snake_case string.\n",
        "\n",
        "    Args:\n",
        "        pascal_or_camel_cased_string (str): A string to be converted.\n",
        "\n",
        "    Returns:\n",
        "        str: The converted string.\n",
        "\n",
        "    Raises:\n",
        "        TypeError: If the input is not a string (or any other iterable object)\n",
        "        TypeError: If the reuired argument is missing.\n",
        "        AttributeError: If the itarated element in argument is not string.\n",
        "\n",
        "    Examples:\n",
        "        >>> convert_to_snake_case('IAmAPascalCasedString')\n",
        "        'i_am_a_pascal_cased_string'\n",
        "    \"\"\"\n",
        "\n",
        "    # create list comprehenced with if and for statement\n",
        "    # that checks whether each char in given string is lower or upper\n",
        "    # if upper, lower it, prepend '_',\n",
        "    # if lower, keep it as original.\n",
        "    snake_cased_char_list = [\n",
        "        '_' + char.lower() if char.isupper()\n",
        "        else char\n",
        "        for char in pascal_or_camel_cased_string\n",
        "    ]\n",
        "\n",
        "    # convert the list to a new string and return the result\n",
        "    return ''.join(snake_cased_char_list).strip('_')"
      ],
      "metadata": {
        "id": "IH0cKb1rHT2W"
      },
      "execution_count": 32,
      "outputs": []
    },
    {
      "cell_type": "code",
      "source": [
        "# check the function for a Pascal case string\n",
        "def main():\n",
        "  print(convert_to_snake_case('IAmAPascalCasedString'))\n",
        "if __name__ == '__main__':\n",
        "    main()"
      ],
      "metadata": {
        "colab": {
          "base_uri": "https://localhost:8080/"
        },
        "id": "-3-GKcmgLkCz",
        "outputId": "89f5a8d1-d47c-4597-d7bc-84e7d51dc741"
      },
      "execution_count": 48,
      "outputs": [
        {
          "output_type": "stream",
          "name": "stdout",
          "text": [
            "i_am_a_pascal_cased_string\n"
          ]
        }
      ]
    },
    {
      "cell_type": "code",
      "source": [
        "# even if the function is intended for strings,\n",
        "# it also works with tuples, as it is iterable object like strings\n",
        "def main():\n",
        "  print(convert_to_snake_case(('H', 'e', 'l', 'l','o')))\n",
        "if __name__ == '__main__':\n",
        "    main()"
      ],
      "metadata": {
        "colab": {
          "base_uri": "https://localhost:8080/"
        },
        "id": "P_mSwZFCZwKY",
        "outputId": "780dd2be-8777-4606-8b7d-dc07b672aa48"
      },
      "execution_count": 59,
      "outputs": [
        {
          "output_type": "stream",
          "name": "stdout",
          "text": [
            "hello\n"
          ]
        }
      ]
    },
    {
      "cell_type": "code",
      "source": [
        "# with sets, it does not give error,\n",
        "# but as set contains only unique elements in alphabetical order,\n",
        "# it yields unintended result\n",
        "def main():\n",
        "  print(convert_to_snake_case(set(('H', 'e', 'l', 'l','o'))))\n",
        "if __name__ == '__main__':\n",
        "    main()"
      ],
      "metadata": {
        "colab": {
          "base_uri": "https://localhost:8080/"
        },
        "id": "sbkGxI32ZwpK",
        "outputId": "3cf15be3-9379-4a48-948c-817821a7ac46"
      },
      "execution_count": 60,
      "outputs": [
        {
          "output_type": "stream",
          "name": "stdout",
          "text": [
            "oe_hl\n"
          ]
        }
      ]
    },
    {
      "cell_type": "code",
      "source": [
        "# it also works with lists, as it is also an iterable object\n",
        "def main():\n",
        "  print(convert_to_snake_case(['H', 'e', 'l', 'l','o', \"S\"]))\n",
        "if __name__ == '__main__':\n",
        "    main()"
      ],
      "metadata": {
        "colab": {
          "base_uri": "https://localhost:8080/"
        },
        "id": "snL03qI_Z-i4",
        "outputId": "70254a92-980c-4d12-a9d5-a3351f6fe87b"
      },
      "execution_count": 61,
      "outputs": [
        {
          "output_type": "stream",
          "name": "stdout",
          "text": [
            "hello_s\n"
          ]
        }
      ]
    }
  ]
}
