{
  "nbformat": 4,
  "nbformat_minor": 0,
  "metadata": {
    "colab": {
      "provenance": [],
      "authorship_tag": "ABX9TyNbNO87I4XtaKj/L7W+OQk/",
      "include_colab_link": true
    },
    "kernelspec": {
      "name": "python3",
      "display_name": "Python 3"
    },
    "language_info": {
      "name": "python"
    }
  },
  "cells": [
    {
      "cell_type": "markdown",
      "metadata": {
        "id": "view-in-github",
        "colab_type": "text"
      },
      "source": [
        "<a href=\"https://colab.research.google.com/github/sita-aghasoy33/Scientific-Computing-with-Python-by-Freecodecamp.org/blob/main/hanoi_visuals.ipynb\" target=\"_parent\"><img src=\"https://colab.research.google.com/assets/colab-badge.svg\" alt=\"Open In Colab\"/></a>"
      ]
    },
    {
      "cell_type": "markdown",
      "source": [
        "## **Create Visualizations for Hanoi Towers solution statets**"
      ],
      "metadata": {
        "id": "15V5VfBx4uDJ"
      }
    },
    {
      "cell_type": "code",
      "source": [
        "# @title #### Install packages if they do not exist yet.\n",
        "!pip install -q tabulate colorama"
      ],
      "metadata": {
        "id": "Pu98YieJ8nhp"
      },
      "execution_count": 5,
      "outputs": []
    },
    {
      "cell_type": "code",
      "source": [
        "from colorama import Fore, Style\n",
        "import pandas as pd\n",
        "import random\n",
        "from tabulate import tabulate"
      ],
      "metadata": {
        "id": "dImKAGrba3Lh"
      },
      "execution_count": 6,
      "outputs": []
    },
    {
      "cell_type": "code",
      "source": [
        "# Define function for colorization\n",
        "def color_disk(disk, number_of_disks, seed = 331):\n",
        "    \"\"\"\n",
        "    Returns the disk as a colored string based on its size.\n",
        "\n",
        "    Args:\n",
        "        disk (int): The disk number.\n",
        "        number_of_disks (int): The total number of disks.\n",
        "        seed (int, optional): The random seed. Defaults to 331.\n",
        "\n",
        "    Returns:\n",
        "        str: The colored disk string.\n",
        "\n",
        "    Raises:\n",
        "        TypeError: if disk or number_of_disks is not an integer.\n",
        "        ValueError: if number_of_disks is negative.\n",
        "\n",
        "    Examples:\n",
        "        >>> color_disk(1,5)\n",
        "        '\\x1b[90m1\\x1b[0m'\n",
        "\n",
        "    \"\"\"\n",
        "    random.seed(seed)\n",
        "    # create a list of colors with the given number of disks\n",
        "    colors = random.sample([getattr(Fore, color) for color in dir(Fore) if not color.startswith(\"_\")], number_of_disks)\n",
        "    # color each disk according to its number with the color of same index\n",
        "    return f\"{colors[disk % len(colors)]}{disk}{Style.RESET_ALL}\""
      ],
      "metadata": {
        "id": "jY_219Ie4OUi"
      },
      "execution_count": 7,
      "outputs": []
    },
    {
      "cell_type": "code",
      "source": [
        "color_disk(1, 5)"
      ],
      "metadata": {
        "colab": {
          "base_uri": "https://localhost:8080/",
          "height": 35
        },
        "id": "5FDU5UcdKhX7",
        "outputId": "c4e8ba7c-e5dd-4006-c9d6-10230d0986a4"
      },
      "execution_count": 8,
      "outputs": [
        {
          "output_type": "execute_result",
          "data": {
            "text/plain": [
              "'\\x1b[94m1\\x1b[0m'"
            ],
            "application/vnd.google.colaboratory.intrinsic+json": {
              "type": "string"
            }
          },
          "metadata": {},
          "execution_count": 8
        }
      ]
    },
    {
      "cell_type": "code",
      "source": [
        "# Define function for colorization with custom colors\n",
        "def color_disk_custom(disk, number_of_disks, colors = None, seed = 331):\n",
        "    \"\"\"Returns the disk as a colored string based on its size.\"\"\"\n",
        "    random.seed(seed)\n",
        "    # create a list of colors with the given number of disks\n",
        "    if colors is None:\n",
        "        colors = random.sample([getattr(Fore, color) for color in dir(Fore) \\\n",
        "                                                     if not color.startswith(\"_\")],\n",
        "                                                     number_of_disks)\n",
        "    if len(colors) < number_of_disks:\n",
        "        raise ValueError(\"Number of colors must be greater than or equal to the number of disks.\")\n",
        "    # color each disk according to its number with the color of same index\n",
        "    return f\"{colors[disk % len(colors)]}{disk}{Style.RESET_ALL}\""
      ],
      "metadata": {
        "id": "lov1by9pJCiF"
      },
      "execution_count": 9,
      "outputs": []
    },
    {
      "cell_type": "code",
      "source": [
        "# @title #### create a random state of Hanoi Towers solution process as variables\n",
        "A = [4, 3, 2]\n",
        "B = [5]\n",
        "C = [6, 1]\n",
        "\n",
        "number_of_disks = len(A) + len(B) + len(C)\n",
        "\n",
        "rodlist = [A, B, C]\n",
        "rodnames = ['A', 'B', 'C']\n",
        "\n",
        "colored = True"
      ],
      "metadata": {
        "id": "6La1LWNKRqlK"
      },
      "execution_count": 10,
      "outputs": []
    },
    {
      "cell_type": "code",
      "source": [
        "# @title #### create visual for given state of Hanoi Tower solution wihout function\n",
        "\n",
        "_dict = {}\n",
        "for index in range(len(rodlist)):\n",
        "    rod = rodlist[index]\n",
        "    rodname = rodnames[index]\n",
        "    if colored:\n",
        "        _ =  ([\"|\"] * (number_of_disks - len(rod))) + [color_disk(disk, number_of_disks) for disk in rod[::-1]]\n",
        "        _dict[rodname] = _\n",
        "    else:\n",
        "        _ = (n-len(rod))*\" | \".lstrip(\" \") + \" \".join([str(i) for i in rod])[::-1]\n",
        "        _dict[rodname] = _.split(\" \")\n",
        "\n",
        "print(_dict)\n",
        "print(\"\\n\")\n",
        "df = pd.DataFrame(_dict)\n",
        "print(tabulate(df, headers='keys', tablefmt='simple', stralign='center'))"
      ],
      "metadata": {
        "colab": {
          "base_uri": "https://localhost:8080/"
        },
        "id": "HLJO-WJXGLQR",
        "outputId": "9c51d166-a96f-42e2-b1b7-cb1c23d16f7e"
      },
      "execution_count": 11,
      "outputs": [
        {
          "output_type": "stream",
          "name": "stdout",
          "text": [
            "{'A': ['|', '|', '|', '\\x1b[32m2\\x1b[0m', '\\x1b[31m3\\x1b[0m', '\\x1b[33m4\\x1b[0m'], 'B': ['|', '|', '|', '|', '|', '\\x1b[34m5\\x1b[0m'], 'C': ['|', '|', '|', '|', '\\x1b[94m1\\x1b[0m', '\\x1b[97m6\\x1b[0m']}\n",
            "\n",
            "\n",
            "     A    B    C\n",
            "--  ---  ---  ---\n",
            " 0   |    |    |\n",
            " 1   |    |    |\n",
            " 2   |    |    |\n",
            " 3   \u001b[32m2\u001b[0m    |    |\n",
            " 4   \u001b[31m3\u001b[0m    |    \u001b[94m1\u001b[0m\n",
            " 5   \u001b[33m4\u001b[0m    \u001b[34m5\u001b[0m    \u001b[97m6\u001b[0m\n"
          ]
        }
      ]
    },
    {
      "cell_type": "code",
      "source": [
        "# @title #### create visual for given state of Hanoi Tower solution wihout function\n",
        "\n",
        "for i in range(3):\n",
        "    reversed = rodlist[i][::-1]\n",
        "    if colored:\n",
        "        globals()[rodnames[i].lower()] =  ([\"|\"] * (number_of_disks - len(reversed))) + [color_disk(disk, number_of_disks) for disk in reversed]\n",
        "    else:\n",
        "        globals()[rodnames[i].lower()] = list((n-len(reversed))*\"|\") + reversed\n",
        "\n",
        "print(\"\")\n",
        "for i in range(number_of_disks):\n",
        "    print(a[i], b[i], c[i])\n",
        "print(\"\\n\")\n",
        "\n",
        "data = [a, b, c]\n",
        "print(data)\n",
        "print(\"\\n\")\n",
        "\n",
        "df = pd.DataFrame(data).transpose()\n",
        "df.columns = rodnames\n",
        "print(tabulate(df, headers='keys', tablefmt='simple', stralign='center'))\n"
      ],
      "metadata": {
        "colab": {
          "base_uri": "https://localhost:8080/"
        },
        "id": "mFFyGbxI93Db",
        "outputId": "858f234d-7d60-4845-c2f1-1bd5992ecb41"
      },
      "execution_count": 12,
      "outputs": [
        {
          "output_type": "stream",
          "name": "stdout",
          "text": [
            "\n",
            "| | |\n",
            "| | |\n",
            "| | |\n",
            "\u001b[32m2\u001b[0m | |\n",
            "\u001b[31m3\u001b[0m | \u001b[94m1\u001b[0m\n",
            "\u001b[33m4\u001b[0m \u001b[34m5\u001b[0m \u001b[97m6\u001b[0m\n",
            "\n",
            "\n",
            "[['|', '|', '|', '\\x1b[32m2\\x1b[0m', '\\x1b[31m3\\x1b[0m', '\\x1b[33m4\\x1b[0m'], ['|', '|', '|', '|', '|', '\\x1b[34m5\\x1b[0m'], ['|', '|', '|', '|', '\\x1b[94m1\\x1b[0m', '\\x1b[97m6\\x1b[0m']]\n",
            "\n",
            "\n",
            "     A    B    C\n",
            "--  ---  ---  ---\n",
            " 0   |    |    |\n",
            " 1   |    |    |\n",
            " 2   |    |    |\n",
            " 3   \u001b[32m2\u001b[0m    |    |\n",
            " 4   \u001b[31m3\u001b[0m    |    \u001b[94m1\u001b[0m\n",
            " 5   \u001b[33m4\u001b[0m    \u001b[34m5\u001b[0m    \u001b[97m6\u001b[0m\n"
          ]
        }
      ]
    },
    {
      "cell_type": "markdown",
      "source": [
        "## **Define seperate functions for progress Visualization**"
      ],
      "metadata": {
        "id": "cJ9ijsBo5UiB"
      }
    },
    {
      "cell_type": "code",
      "source": [
        "def display_rods_custom(number_of_disks, A, B, C, colored = False, colors = None, seed = 331):\n",
        "    \"\"\"\n",
        "    Displays the rods and disks in a dataframe-style format with colors.\n",
        "\n",
        "    Args:\n",
        "        number_of_disks (int): The total number of disks.\n",
        "        A (list): List of disks on rod A.\n",
        "        B (list): List of disks on rod B.\n",
        "        C (list): List of disks on rod C.\n",
        "        colored (bool, optional): Whether to colorize the disks. Defaults to False.\n",
        "        colors (list, optional): List of colors for the disks. Defaults to None.\n",
        "        seed (int, optional): The random seed. Defaults to 331.\n",
        "\n",
        "    Returns:\n",
        "        None (prints the current state of Hanoi Towers puzzle)\n",
        "\n",
        "    Raises:\n",
        "        ValueError: if the length of given colors list is not equal to number of disks.\n",
        "\n",
        "    \"\"\"\n",
        "    rodnames = ['A', 'B', 'C']\n",
        "    rodlist = [A, B, C]\n",
        "\n",
        "    _dict = {}\n",
        "    for index in range(len(rodlist)):\n",
        "        rod = rodlist[index]\n",
        "        rodname = rodnames[index]\n",
        "        if colored:\n",
        "            _ = ([\"|\"] * (number_of_disks - len(rod))) + \\\n",
        "                [color_disk_custom(disk, number_of_disks, colors) for disk in rod[::-1]]\n",
        "\n",
        "        else:\n",
        "            _ = ([\"|\"] * (number_of_disks - len(rod))) + [disk for disk in rod[::-1]]\n",
        "        _dict[rodname] = _\n",
        "\n",
        "    df = pd.DataFrame(_dict)\n",
        "\n",
        "    # Use tabulate for cleaner output\n",
        "    print(tabulate(df, headers='keys', tablefmt='simple', stralign='center'))\n",
        "    print(\"\\n\")"
      ],
      "metadata": {
        "id": "AGx-hY3vPmIE"
      },
      "execution_count": 44,
      "outputs": []
    },
    {
      "cell_type": "code",
      "source": [
        "def display_rods_auto(number_of_disks, A, B, C, colored = False, seed = 331):\n",
        "    \"\"\"\n",
        "    Displays the rods and disks in a dataframe-style format with colors.\n",
        "\n",
        "    Args:\n",
        "        number_of_disks (int): The total number of disks.\n",
        "        A (list): List of disks on rod A.\n",
        "        B (list): List of disks on rod B.\n",
        "        C (list): List of disks on rod C.\n",
        "        colored (bool, optional): Whether to colorize the disks. Defaults to False.\n",
        "        seed (int, optional): The random seed. Defaults to 331.\n",
        "\n",
        "    Returns:\n",
        "        None (prints the current state of Hanoi Towers puzzle)\n",
        "    \"\"\"\n",
        "    rodnames = ['A', 'B', 'C']\n",
        "    rodlist = [A, B, C]\n",
        "\n",
        "    for i in range(3):\n",
        "        reversed = rodlist[i][::-1]\n",
        "\n",
        "        _ = rodnames[i].lower()\n",
        "        if colored:\n",
        "\n",
        "            globals()[_] = ([\"|\"] * (number_of_disks - len(reversed))) + \\\n",
        "                           [color_disk(disk, number_of_disks, seed = 331)\n",
        "\n",
        "                            for disk in reversed]\n",
        "        else:\n",
        "            globals()[_] = list((n-len(reversed))*\"|\") + reversed\n",
        "\n",
        "    df = pd.DataFrame([a, b, c]).transpose()\n",
        "    df.columns = rodnames\n",
        "    print(tabulate(df, headers='keys', tablefmt='simple', stralign='center'))\n",
        "    print(\"\\n\")"
      ],
      "metadata": {
        "id": "R9rwrPzTR6eq"
      },
      "execution_count": 58,
      "outputs": []
    },
    {
      "cell_type": "code",
      "source": [
        "def display_rods_string(number_of_disks, A, B, C, colored = False,\n",
        "                        colors = None, seed = 331, space = \"    \"):\n",
        "    \"\"\"\n",
        "    Displays the rods and disks in a string format with colors.\n",
        "    Color list and seed are customizable.\n",
        "\n",
        "    Args:\n",
        "        number_of_disks (int): The total number of disks.\n",
        "        A (list): List of disks on rod A.\n",
        "        B (list): List of disks on rod B.\n",
        "        C (list): List of disks on rod C.\n",
        "        colored (bool, optional): Whether to colorize the disks. Defaults to False.\n",
        "        colors (list, optional): List of colors for the disks. Defaults to None.\n",
        "        seed (int, optional): The random seed. Defaults to 331.\n",
        "        space (str, optional): The space between each disk. Defaults to \"    \".\n",
        "\n",
        "    Returns:\n",
        "        None\n",
        "    \"\"\"\n",
        "    rodnames = ['A', 'B', 'C']\n",
        "    rodlist = [A, B, C]\n",
        "\n",
        "    for i in range(3):\n",
        "        reversed = rodlist[i][::-1]\n",
        "\n",
        "        _ = rodnames[i].lower()\n",
        "        if colored:\n",
        "\n",
        "            globals()[_] = ([\"|\"] * (number_of_disks - len(reversed))) + \\\n",
        "                           [color_disk_custom(disk, number_of_disks, colors, seed) \\\n",
        "\n",
        "                            for disk in reversed]\n",
        "        else:\n",
        "            globals()[_] = list((n-len(reversed))*\"|\") + reversed\n",
        "\n",
        "\n",
        "    print(\"A\", \"B\", \"C\", sep = space)\n",
        "    print(\"=\"*(len(space)*2+3))\n",
        "    for i in range(number_of_disks):\n",
        "        print(a[i], b[i], c[i], sep = space)\n",
        "    print(\"\\n\")"
      ],
      "metadata": {
        "id": "gBeD0TnIV_si"
      },
      "execution_count": 61,
      "outputs": []
    },
    {
      "cell_type": "code",
      "source": [
        "def main():\n",
        "    # Example 1\n",
        "    NUMBER_OF_DISKS = 5\n",
        "    number_of_moves = 2 ** NUMBER_OF_DISKS - 1\n",
        "    rods = {\n",
        "        'A': list(range(NUMBER_OF_DISKS, 0, -1)),\n",
        "        'B': [],\n",
        "        'C': []\n",
        "    }\n",
        "\n",
        "    display_rods_auto(NUMBER_OF_DISKS, rods['A'], rods['B'], rods['C'], True)\n",
        "    display_rods_custom(NUMBER_OF_DISKS, rods['A'], rods['B'], rods['C'], True)\n",
        "    display_rods_string(NUMBER_OF_DISKS, rods['A'], rods['B'], rods['C'], True)\n",
        "\n",
        "    print(\"\\n\")\n",
        "\n",
        "    # Example 2\n",
        "    A = [4, 3, 2]\n",
        "    B = [5]\n",
        "    C = [6, 1]\n",
        "\n",
        "    n = len(A) + len(B) + len(C)\n",
        "\n",
        "    display_rods_auto(n, A, B, C, True)\n",
        "    display_rods_custom(n, A, B, C, True)\n",
        "    display_rods_string(n, A, B, C, True, space = \"     \")\n",
        "\n",
        "if __name__ == \"__main__\":\n",
        "    main()"
      ],
      "metadata": {
        "colab": {
          "base_uri": "https://localhost:8080/"
        },
        "id": "SYw01jyaashR",
        "outputId": "7196b815-f65b-4dfc-b622-5ab1c11637a5"
      },
      "execution_count": 62,
      "outputs": [
        {
          "output_type": "stream",
          "name": "stdout",
          "text": [
            "      A   B    C\n",
            "--  ---  ---  ---\n",
            " 0    \u001b[94m1\u001b[0m   |    |\n",
            " 1    \u001b[32m2\u001b[0m   |    |\n",
            " 2    \u001b[31m3\u001b[0m   |    |\n",
            " 3    \u001b[33m4\u001b[0m   |    |\n",
            " 4    \u001b[97m5\u001b[0m   |    |\n",
            "\n",
            "\n",
            "      A   B    C\n",
            "--  ---  ---  ---\n",
            " 0    \u001b[94m1\u001b[0m   |    |\n",
            " 1    \u001b[32m2\u001b[0m   |    |\n",
            " 2    \u001b[31m3\u001b[0m   |    |\n",
            " 3    \u001b[33m4\u001b[0m   |    |\n",
            " 4    \u001b[97m5\u001b[0m   |    |\n",
            "\n",
            "\n",
            "A    B    C\n",
            "===========\n",
            "\u001b[94m1\u001b[0m    |    |\n",
            "\u001b[32m2\u001b[0m    |    |\n",
            "\u001b[31m3\u001b[0m    |    |\n",
            "\u001b[33m4\u001b[0m    |    |\n",
            "\u001b[97m5\u001b[0m    |    |\n",
            "\n",
            "\n",
            "\n",
            "\n",
            "     A    B    C\n",
            "--  ---  ---  ---\n",
            " 0   |    |    |\n",
            " 1   |    |    |\n",
            " 2   |    |    |\n",
            " 3   \u001b[32m2\u001b[0m    |    |\n",
            " 4   \u001b[31m3\u001b[0m    |    \u001b[94m1\u001b[0m\n",
            " 5   \u001b[33m4\u001b[0m    \u001b[34m5\u001b[0m    \u001b[97m6\u001b[0m\n",
            "\n",
            "\n",
            "     A    B    C\n",
            "--  ---  ---  ---\n",
            " 0   |    |    |\n",
            " 1   |    |    |\n",
            " 2   |    |    |\n",
            " 3   \u001b[32m2\u001b[0m    |    |\n",
            " 4   \u001b[31m3\u001b[0m    |    \u001b[94m1\u001b[0m\n",
            " 5   \u001b[33m4\u001b[0m    \u001b[34m5\u001b[0m    \u001b[97m6\u001b[0m\n",
            "\n",
            "\n",
            "A     B     C\n",
            "=============\n",
            "|     |     |\n",
            "|     |     |\n",
            "|     |     |\n",
            "\u001b[32m2\u001b[0m     |     |\n",
            "\u001b[31m3\u001b[0m     |     \u001b[94m1\u001b[0m\n",
            "\u001b[33m4\u001b[0m     \u001b[34m5\u001b[0m     \u001b[97m6\u001b[0m\n",
            "\n",
            "\n"
          ]
        }
      ]
    }
  ]
}