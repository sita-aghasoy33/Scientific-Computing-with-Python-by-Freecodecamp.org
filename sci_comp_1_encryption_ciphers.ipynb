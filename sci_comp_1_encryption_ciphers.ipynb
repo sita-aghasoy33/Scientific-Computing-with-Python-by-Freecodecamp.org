{
  "nbformat": 4,
  "nbformat_minor": 0,
  "metadata": {
    "colab": {
      "provenance": []
    },
    "kernelspec": {
      "name": "python3",
      "display_name": "Python 3"
    },
    "language_info": {
      "name": "python"
    }
  },
  "cells": [
    {
      "cell_type": "markdown",
      "source": [
        "# **1. Learn String Manipulation by Building a Cipher**\n",
        "\n",
        "[go to the task in official web-site: www.freecodecamp.org](https://www.freecodecamp.org/learn/scientific-computing-with-python/learn-string-manipulation-by-building-a-cipher/)"
      ],
      "metadata": {
        "id": "cH12ws0XBcgZ"
      }
    },
    {
      "cell_type": "markdown",
      "source": [
        "# **About Caesar Cipher**\n",
        "\n",
        "The Caesar Cipher is one of the earliest known encryption techniques, attributed to Julius Caesar, the Roman general and dictator, who used it to send confidential messages to his military commanders. The cipher is a type of substitution cipher where each letter in the plaintext is shifted by a fixed number of places in the alphabet.\n",
        "\n",
        "### **Historical Background**\n",
        "**Origin:** Named after Julius Caesar, who reportedly used it around 50 BCE to encode military communications.\n",
        "\n",
        "**Usage:** Caesar used a shift of 3 to encrypt his messages, making them unintelligible to unauthorized recipients.\n",
        "\n",
        "**Legacy:** Despite its simplicity, the Caesar Cipher represents one of the earliest examples of cryptography in history, highlighting the human need for secure communication."
      ],
      "metadata": {
        "id": "eFmujDAcyak6"
      }
    },
    {
      "cell_type": "markdown",
      "source": [
        "### **Key characteristics**\n",
        "\n",
        "Shift Value (Key):\n",
        "\n",
        "    A number determines how many positions each letter is shifted.\n",
        "    For example, with a shift of 3:\n",
        "        A → D, B → E, ..., X → A.\n",
        "\n",
        "Encryption:\n",
        "\n",
        "    Replace each letter in the plaintext with the letter shifted by the key.\n",
        "    Non-alphabet characters (e.g., numbers, punctuation) typically remain unchanged.\n",
        "\n",
        "Decryption:\n",
        "\n",
        "    Reverse the process by shifting letters back by the same key.\n",
        "\n",
        "Modular Arithmetic:\n",
        "\n",
        "    The cipher wraps around the alphabet using modular arithmetic. For example:\n",
        "        Z shifted by 1 becomes A."
      ],
      "metadata": {
        "id": "P2qG2HnJ8dp4"
      }
    },
    {
      "cell_type": "markdown",
      "source": [
        "### **Examples**\n",
        "\n",
        "Encryption:\n",
        "\n",
        "    Plaintext: HELLO\n",
        "    Key: 3\n",
        "    Ciphertext: KHOOR\n",
        "\n",
        "Decryption:\n",
        "\n",
        "    Ciphertext: KHOOR\n",
        "    Key: 3\n",
        "    Plaintext: HELLO"
      ],
      "metadata": {
        "id": "rzdKRSbl87d7"
      }
    },
    {
      "cell_type": "markdown",
      "source": [
        "### **Pros and Cons**\n",
        "Strengths:\n",
        "\n",
        "    Simple and easy to implement.\n",
        "    Useful for educational purposes.\n",
        "\n",
        "Weaknesses:\n",
        "\n",
        "    Easily breakable using brute force since there are only 25 possible shifts.\n",
        "    Frequency analysis can reveal patterns in the text.\n",
        "\n",
        "Significance:\n",
        "\n",
        "    The Caesar Cipher symbolizes the early stages of cryptography and the timeless importance of secure communication in military and political affairs.\n",
        "    While no longer secure by modern standards, its principles laid the foundation for more advanced cryptographic techniques."
      ],
      "metadata": {
        "id": "yO7ivdyd9C89"
      }
    },
    {
      "cell_type": "code",
      "source": [
        "text = 'Hello Zaira'\n",
        "shift = 3\n",
        "\n",
        "def caesar(message, offset):\n",
        "    alphabet = 'abcdefghijklmnopqrstuvwxyz'\n",
        "    encrypted_text = ''\n",
        "\n",
        "    for char in message.lower():\n",
        "        if char == ' ':\n",
        "            encrypted_text += char\n",
        "        else:\n",
        "            index = alphabet.find(char)\n",
        "            new_index = (index + offset) % len(alphabet)\n",
        "            encrypted_text += alphabet[new_index]\n",
        "    print('plain text:', message)\n",
        "    print('encrypted text:', encrypted_text)\n",
        "\n",
        "caesar(text, shift)\n",
        "caesar(text, 13)"
      ],
      "metadata": {
        "colab": {
          "base_uri": "https://localhost:8080/"
        },
        "id": "yvhKsoeSdLV7",
        "outputId": "c27af0f2-1fa6-4a3f-dd31-7582e2bc4d8a"
      },
      "execution_count": 5,
      "outputs": [
        {
          "output_type": "stream",
          "name": "stdout",
          "text": [
            "plain text: Hello Zaira\n",
            "encrypted text: khoor cdlud\n",
            "plain text: Hello Zaira\n",
            "encrypted text: uryyb mnven\n"
          ]
        }
      ]
    },
    {
      "cell_type": "markdown",
      "source": [
        "# Vigenère Cipher\n",
        "\n",
        "The Vigenère Cipher is a method of encrypting text using a polyalphabetic substitution cipher, which employs a keyword to shift each letter in the plaintext by different amounts. It is an improvement over the Caesar Cipher, as the key introduces variability, making it harder to break.\n",
        "\n",
        "### **Historical Background**\n",
        "**Origin:** First described by Giovanni Battista Bellaso in 1553 but later attributed to Blaise de Vigenère, who popularized it in the 16th century.\n",
        "\n",
        "**Usage:** Widely used for centuries in military and diplomatic communication due to its perceived security.\n",
        "\n",
        "**Legacy:** Known as the \"le chiffre indéchiffrable\" (the undecipherable cipher) until its weaknesses were revealed.\n"
      ],
      "metadata": {
        "id": "bPxkFCBG8n6Q"
      }
    },
    {
      "cell_type": "markdown",
      "source": [
        "### **Key chracteristics**\n",
        "\n",
        "Keyword-Based:\n",
        "\n",
        "    A keyword determines the shift for each letter.\n",
        "    Each letter in the keyword corresponds to a Caesar Cipher shift value.\n",
        "    The keyword repeats to match the length of the plaintext.\n",
        "\n",
        "Encryption:\n",
        "\n",
        "    Align the plaintext with the repeating keyword.\n",
        "    Shift each letter of the plaintext by the position of the corresponding letter in the keyword.\n",
        "    Use modular arithmetic to wrap around the alphabet.\n",
        "\n",
        "Decryption:\n",
        "\n",
        "    Reverse the encryption process using the same keyword."
      ],
      "metadata": {
        "id": "_J4SLnhX-vhO"
      }
    },
    {
      "cell_type": "markdown",
      "source": [
        "### **Examples**\n",
        "Encryption:\n",
        "\n",
        "    Plaintext: HELLO\n",
        "    Keyword: KEY\n",
        "    Align plaintext with keyword:\n",
        "\n",
        "    Plaintext: H E L L O\n",
        "    Keyword:   K E Y K E\n",
        "\n",
        "\n",
        "Shift each letter:\n",
        "\n",
        "    H + K = R, E + E = I, L + Y = J, L + K = V, O + E = S\n",
        "\n",
        "    Ciphertext: RIJVS\n",
        "\n",
        "Decryption:\n",
        "\n",
        "    Reverse the shifts using the same keyword.\n",
        "\n"
      ],
      "metadata": {
        "id": "d0KN8QNF-zhg"
      }
    },
    {
      "cell_type": "markdown",
      "source": [
        "### **Pros and Cons**\n",
        "\n",
        "Strengths:\n",
        "\n",
        "    More secure than Caesar Cipher due to variability introduced by the keyword.\n",
        "    Resistant to simple frequency analysis because a single plaintext letter maps to multiple ciphertext letters.\n",
        "\n",
        "Weaknesses:\n",
        "\n",
        "    Vulnerable to repeating-key attacks if the keyword is short and the plaintext is long.\n",
        "    Susceptible to the Kasiski Examination and frequency analysis of letter pairs once patterns in the keyword are identified.\n",
        "\n",
        "Significance:\n",
        "\n",
        "    The Vigenère Cipher marked a significant step forward in cryptography, remaining a strong encryption method for centuries.\n",
        "    Although now outdated, it represents the evolution from simple substitution ciphers to more sophisticated polyalphabetic systems."
      ],
      "metadata": {
        "id": "t_y45UOa_wEb"
      }
    },
    {
      "cell_type": "code",
      "source": [
        "# Vigenere cipher 1st\n",
        "text = 'Hello Zaira'\n",
        "custom_key = 'python'\n",
        "\n",
        "def vigenere(message, key, direction=1):\n",
        "    key_index = 0\n",
        "    alphabet = 'abcdefghijklmnopqrstuvwxyz'\n",
        "    final_message = ''\n",
        "\n",
        "    for char in message.lower():\n",
        "\n",
        "        # Append space to the message\n",
        "        if char == ' ':\n",
        "            final_message += char\n",
        "        else:\n",
        "            # Find the right key character to encode/decode\n",
        "            key_char = key[key_index % len(key)]\n",
        "            key_index += 1\n",
        "\n",
        "            # Define the offset and the encrypted/decrypted letter\n",
        "            offset = alphabet.index(key_char)\n",
        "            index = alphabet.find(char)\n",
        "            new_index = (index + offset*direction) % len(alphabet)\n",
        "            final_message += alphabet[new_index]\n",
        "\n",
        "    return final_message\n",
        "\n",
        "encryption = vigenere(text, custom_key, 1)\n",
        "print(encryption)\n",
        "decryption = vigenere(encryption, custom_key, -1)\n",
        "print(decryption)"
      ],
      "metadata": {
        "colab": {
          "base_uri": "https://localhost:8080/"
        },
        "id": "xDP3FZ_cdTk-",
        "outputId": "b1828efc-2a22-407d-8269-689e7be1fa80"
      },
      "execution_count": 3,
      "outputs": [
        {
          "output_type": "stream",
          "name": "stdout",
          "text": [
            "wcesc mpgkh\n",
            "hello zaira\n"
          ]
        }
      ]
    },
    {
      "cell_type": "code",
      "source": [
        "# Vigenere cipher 2nd\n",
        "text = 'Hello Zaira!'\n",
        "custom_key = 'python'\n",
        "\n",
        "def vigenere(message, key, direction=1):\n",
        "    key_index = 0\n",
        "    alphabet = 'abcdefghijklmnopqrstuvwxyz'\n",
        "    final_message = ''\n",
        "\n",
        "    for char in message.lower():\n",
        "\n",
        "        # Append any non-letter character to the message\n",
        "        if not char.isalpha():\n",
        "            final_message += char\n",
        "        else:\n",
        "            # Find the right key character to encode/decode\n",
        "            key_char = key[key_index % len(key)]\n",
        "            key_index += 1\n",
        "\n",
        "            # Define the offset and the encrypted/decrypted letter\n",
        "            offset = alphabet.index(key_char)\n",
        "            index = alphabet.find(char)\n",
        "            new_index = (index + offset*direction) % len(alphabet)\n",
        "            final_message += alphabet[new_index]\n",
        "\n",
        "    return final_message\n",
        "encryption = vigenere(text, custom_key)\n",
        "print(encryption)\n",
        "decryption = vigenere(encryption, custom_key, -1)\n",
        "print(decryption)"
      ],
      "metadata": {
        "colab": {
          "base_uri": "https://localhost:8080/"
        },
        "id": "t-B8Kb1SmasE",
        "outputId": "d29912ee-502a-45e6-bd48-2d2f6a7936b3"
      },
      "execution_count": 2,
      "outputs": [
        {
          "output_type": "stream",
          "name": "stdout",
          "text": [
            "wcesc mpgkh!\n",
            "hello zaira!\n"
          ]
        }
      ]
    },
    {
      "cell_type": "code",
      "source": [
        "# Vigenere cipher final code\n",
        "text = 'mrttaqrhknsw ih puggrur'\n",
        "custom_key = 'happycoding'\n",
        "\n",
        "def vigenere(message, key, direction=1):\n",
        "    key_index = 0\n",
        "    alphabet = 'abcdefghijklmnopqrstuvwxyz'\n",
        "    final_message = ''\n",
        "\n",
        "    for char in message.lower():\n",
        "\n",
        "        # Append any non-letter character to the message\n",
        "        if not char.isalpha():\n",
        "            final_message += char\n",
        "        else:\n",
        "            # Find the right key character to encode/decode\n",
        "            key_char = key[key_index % len(key)]\n",
        "            key_index += 1\n",
        "\n",
        "            # Define the offset and the encrypted/decrypted letter\n",
        "            offset = alphabet.index(key_char)\n",
        "            index = alphabet.find(char)\n",
        "            new_index = (index + offset*direction) % len(alphabet)\n",
        "            final_message += alphabet[new_index]\n",
        "\n",
        "    return final_message\n",
        "\n",
        "def encrypt(message, key):\n",
        "    return vigenere(message, key)\n",
        "\n",
        "def decrypt(message, key):\n",
        "    return vigenere(message, key, -1)\n",
        "\n",
        "print(f'\\nEncrypted text: {text}')\n",
        "print(f'Key: {custom_key}')\n",
        "decryption = decrypt(text, custom_key)\n",
        "print(f'\\nDecrypted text: {decryption}\\n')"
      ],
      "metadata": {
        "colab": {
          "base_uri": "https://localhost:8080/"
        },
        "id": "v0f3ejWSnsdz",
        "outputId": "d90f1945-674c-40ec-89ba-5274dfa51a26"
      },
      "execution_count": 4,
      "outputs": [
        {
          "output_type": "stream",
          "name": "stdout",
          "text": [
            "\n",
            "Encrypted text: mrttaqrhknsw ih puggrur\n",
            "Key: happycoding\n",
            "\n",
            "Decrypted text: freecodecamp is awesome\n",
            "\n"
          ]
        }
      ]
    },
    {
      "cell_type": "code",
      "source": [],
      "metadata": {
        "id": "VM6IUFr9yZR4"
      },
      "execution_count": null,
      "outputs": []
    }
  ]
}
