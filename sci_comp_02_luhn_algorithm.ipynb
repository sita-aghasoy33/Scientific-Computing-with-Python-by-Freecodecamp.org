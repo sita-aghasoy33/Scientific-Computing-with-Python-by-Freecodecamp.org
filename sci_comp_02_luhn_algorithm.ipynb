{
  "nbformat": 4,
  "nbformat_minor": 0,
  "metadata": {
    "colab": {
      "provenance": [],
      "include_colab_link": true
    },
    "kernelspec": {
      "name": "python3",
      "display_name": "Python 3"
    },
    "language_info": {
      "name": "python"
    }
  },
  "cells": [
    {
      "cell_type": "markdown",
      "metadata": {
        "id": "view-in-github",
        "colab_type": "text"
      },
      "source": [
        "<a href=\"https://colab.research.google.com/github/sita-aghasoy33/Scientific-Computing-with-Python-by-Freecodecamp.org/blob/main/sci_comp_2_luhn_algorithm.ipynb\" target=\"_parent\"><img src=\"https://colab.research.google.com/assets/colab-badge.svg\" alt=\"Open In Colab\"/></a>"
      ]
    },
    {
      "cell_type": "markdown",
      "source": [
        "# **2. Learn How to Work with Numbers and Strings  by Implementing the Luhn Algorithm**\n",
        "\n",
        "[go to the task in official web-site: www.freecodecamp.org](https://www.freecodecamp.org/learn/scientific-computing-with-python/learn-how-to-work-with-numbers-and-strings-by-implementing-the-luhn-algorithm/)"
      ],
      "metadata": {
        "id": "I7a2kwugd0az"
      }
    },
    {
      "cell_type": "markdown",
      "source": [
        "# **About the Luhn Algorithm**\n",
        "\n",
        "The **Luhn Algorithm**, also known as the **\"modulus 10\" or \"mod 10\"** algorithm, is a simple checksum formula used to validate various identification numbers, such as credit card numbers, IMEI numbers, and more. It was designed to detect common errors like single-digit mistakes and transposition of adjacent digits.\n",
        "\n",
        "### **Historical background**\n",
        "\n",
        "**Inventor:** The Luhn Algorithm was created by **Hans Peter Luhn**, a German computer scientist and IBM researcher, in **1954**.\n",
        "\n",
        "**Patent:** It was patented as \"Computer for Verifying Numbers\" in **1960**.\n",
        "\n",
        "**Adoption:**\n",
        "\n",
        "*   Widely adopted by credit card companies, telecommunications, and other industries for error detection.\n",
        "*   It's used primarily for validity checks rather than cryptographic security.\n",
        "\n",
        "\n"
      ],
      "metadata": {
        "id": "4vJ8I69kMX7_"
      }
    },
    {
      "cell_type": "markdown",
      "source": [
        "### **Significance:**\n",
        "\n",
        "*   Error Detection: Detects single-digit errors and most transpositions (e.g., swapping two adjacent digits).\n",
        "\n",
        "*   Efficiency: Simple and computationally inexpensive, making it ideal for large-scale systems.\n",
        "\n",
        "*   Limitations: Not designed to provide security; it can be easily bypassed if someone knows the algorithm.\n",
        "\n",
        "\n",
        "### **Modern Usage:**\n",
        "\n",
        "The Luhn Algorithm remains a standard for validating credit card numbers, IMEIs, and other identification systems, thanks to its simplicity and practicality. However, it is often combined with other security measures for better protection."
      ],
      "metadata": {
        "id": "TOxi8Ym8gE7F"
      }
    },
    {
      "cell_type": "code",
      "source": [
        "# define the function to verify card_number with Luhn algorithm\n",
        "def verify_card_number(card_number):\n",
        "    \"\"\"\n",
        "    Verifies given card number to prove whether it is valid or invalid.\n",
        "\n",
        "    The Luhn algorithm is as follows:\n",
        "\n",
        "    From the right to left, double the value of every second digit;\n",
        "    if the product is greater than 9, sum the digits of the products.\n",
        "    Take the sum of all the digits.\n",
        "\n",
        "    total%10\n",
        "\n",
        "    If the total%10 == 0, it is valid.\n",
        "    If the total%10 != 0, it is invalid.\n",
        "\n",
        "    Parameters:\n",
        "    card_number (string): 16 digits card number with all numeric elements.\n",
        "\n",
        "    Raises:\n",
        "    ValueError: If the card number contains any non-numeric elements.\n",
        "    TypeError: If the card number is not a string.\n",
        "\n",
        "    Example:\n",
        "    >>> verify_card_number('4111-1111-4555-1142')\n",
        "    True\n",
        "\n",
        "    >>> verify_card_number('4111-1111-4555-1143')\n",
        "    False\n",
        "    \"\"\"\n",
        "\n",
        "    # create a variable for sum of odd index numbers\n",
        "    sum_of_odd_digits = 0\n",
        "\n",
        "    # reverse the card number\n",
        "    card_number_reversed = card_number[::-1]\n",
        "\n",
        "    # take odd index digits\n",
        "    odd_digits = card_number_reversed[::2]\n",
        "    # adding up odd numbers to the 'sum_of_odd_digits' variable\n",
        "    for digit in odd_digits:\n",
        "        sum_of_odd_digits += int(digit)\n",
        "\n",
        "    # create a variable for sum of even index numbers\n",
        "    sum_of_even_digits = 0\n",
        "    # take even index digits\n",
        "    even_digits = card_number_reversed[1::2]\n",
        "    # adding up doubled even numbers to the 'sum_of_odd_digits' variable\n",
        "    for digit in even_digits:\n",
        "        number = int(digit) * 2\n",
        "        # if the doubled value is greater than 10, sum up the digits of number.\n",
        "        if number >= 10:\n",
        "            number = (number // 10) + (number % 10)\n",
        "        sum_of_even_digits += number\n",
        "\n",
        "    # check whether the modulo is 0\n",
        "    total = sum_of_odd_digits + sum_of_even_digits\n",
        "    return total % 10 == 0"
      ],
      "metadata": {
        "colab": {
          "base_uri": "https://localhost:8080/"
        },
        "id": "G8sFnvv_TeZG",
        "outputId": "ee44c0fb-b41c-4bdd-fd1a-158fa3134c4e"
      },
      "execution_count": null,
      "outputs": [
        {
          "output_type": "stream",
          "name": "stdout",
          "text": [
            "VALID!\n"
          ]
        }
      ]
    },
    {
      "cell_type": "code",
      "source": [
        "# check for valid card number\n",
        "def main():\n",
        "    card_number = '4111-1111-4555-1142'\n",
        "    card_translation = str.maketrans({'-': '', ' ': ''})\n",
        "    translated_card_number = card_number.translate(card_translation)\n",
        "\n",
        "    if verify_card_number(translated_card_number):\n",
        "        print('VALID!')\n",
        "    else:\n",
        "        print('INVALID!')\n",
        "\n",
        "main()"
      ],
      "metadata": {
        "colab": {
          "base_uri": "https://localhost:8080/"
        },
        "id": "Jzw0eiqaZtod",
        "outputId": "4d299e9c-09e2-43d7-8188-50fb8d6ac37e"
      },
      "execution_count": null,
      "outputs": [
        {
          "output_type": "stream",
          "name": "stdout",
          "text": [
            "VALID!\n"
          ]
        }
      ]
    },
    {
      "cell_type": "code",
      "source": [
        "# check for invalid card number\n",
        "def main():\n",
        "    card_number = '4111-1111-4555-1141'\n",
        "    card_translation = str.maketrans({'-': '', ' ': ''})\n",
        "    translated_card_number = card_number.translate(card_translation)\n",
        "\n",
        "    if verify_card_number(translated_card_number):\n",
        "        print('VALID!')\n",
        "    else:\n",
        "        print('INVALID!')\n",
        "\n",
        "main()"
      ],
      "metadata": {
        "colab": {
          "base_uri": "https://localhost:8080/"
        },
        "id": "QVa88A3Xgp6B",
        "outputId": "6adcbd48-d66b-4b8a-b69d-bf14b4cf16a9"
      },
      "execution_count": null,
      "outputs": [
        {
          "output_type": "stream",
          "name": "stdout",
          "text": [
            "INVALID!\n"
          ]
        }
      ]
    }
  ]
}
