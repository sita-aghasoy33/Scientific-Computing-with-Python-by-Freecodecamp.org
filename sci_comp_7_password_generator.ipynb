{
  "nbformat": 4,
  "nbformat_minor": 0,
  "metadata": {
    "colab": {
      "provenance": []
    },
    "kernelspec": {
      "name": "python3",
      "display_name": "Python 3"
    },
    "language_info": {
      "name": "python"
    }
  },
  "cells": [
    {
      "cell_type": "markdown",
      "source": [
        "# **7. Learn Regular Expressions by Building a Password Generator**\n",
        "\n",
        "[go to the task in official web-site: www.freecodecamp.org](https://www.freecodecamp.org/learn/scientific-computing-with-python/learn-regular-expressions-by-building-a-password-generator/)"
      ],
      "metadata": {
        "id": "A1E5Z0BhvSZR"
      }
    },
    {
      "cell_type": "markdown",
      "source": [
        "# **About the task**\n",
        "Regular expressions are a powerful tool used for matching patterns within strings. They are a sequence of characters that define a search pattern, primarily used for string searching and validation.\n",
        "\n",
        "In this project, you'll learn the basics of regular expressions. You'll also learn how to import modules from the Python standard library. A Python module is a file containing Python definitions and statements.\n",
        "\n",
        "You'll build your password generator that sets complexity requirements using regular expressions. Python's random module is used to generate random numbers within a range. It is also used to shuffle the characters in a string. The strings module is used to get a string containing all ASCII characters, both lowercase and uppercase, digits and punctuation.\n",
        "\n",
        "With the help of these modules, you'll also see how to create a password with specific strength requirements, such as including numbers, special characters, uppercase letters, and lowercase letters, all using regex patterns."
      ],
      "metadata": {
        "id": "y03qZ5t8vzva"
      }
    },
    {
      "cell_type": "markdown",
      "source": [
        "# **About 'string' library**\n",
        "\n",
        "Provides clean, concise constants for common character sets.\n",
        "Simplifies string validation, generation, and manipulation tasks.\n",
        "Useful for applications like password generation, input validation, or content templating."
      ],
      "metadata": {
        "id": "8OEm02Z3xwfx"
      }
    },
    {
      "cell_type": "markdown",
      "source": [
        "# **Before defining function lets learn some coding practices**"
      ],
      "metadata": {
        "id": "Yrcjc2-px_7W"
      }
    },
    {
      "cell_type": "code",
      "execution_count": 6,
      "metadata": {
        "colab": {
          "base_uri": "https://localhost:8080/"
        },
        "id": "UZoETB7obG2b",
        "outputId": "4fcf379a-32c2-4958-e97b-2757f8f0ece6"
      },
      "outputs": [
        {
          "output_type": "stream",
          "name": "stdout",
          "text": [
            "abcdefghijklmnopqrstuvwxyzABCDEFGHIJKLMNOPQRSTUVWXYZ0123456789!\"#$%&'()*+,-./:;<=>?@[\\]^_`{|}~\n",
            "7\n"
          ]
        }
      ],
      "source": [
        "import random\n",
        "import string\n",
        "\n",
        "\n",
        "# Define the possible characters for the password\n",
        "letters = string.ascii_letters\n",
        "digits = string.digits\n",
        "symbols = string.punctuation\n",
        "\n",
        "# Combine all characters\n",
        "all_characters = letters + digits + symbols\n",
        "\n",
        "print(all_characters)\n",
        "print(random.choice(all_characters))"
      ]
    },
    {
      "cell_type": "code",
      "source": [
        "# Although the effect might seem equal to random.choice(),\n",
        "# secrets ensure you the most secure source of randomness that your operating system can provide.\n",
        "import secrets\n",
        "import string\n",
        "\n",
        "\n",
        "# Define the possible characters for the password\n",
        "letters = string.ascii_letters\n",
        "digits = string.digits\n",
        "symbols = string.punctuation\n",
        "\n",
        "# Combine all characters\n",
        "all_characters = letters + digits + symbols\n",
        "\n",
        "print(all_characters)\n",
        "print(secrets.choice(all_characters))"
      ],
      "metadata": {
        "colab": {
          "base_uri": "https://localhost:8080/"
        },
        "id": "3BybGU73bIfu",
        "outputId": "650d92f5-7511-4dc2-fbcb-a864f6147304"
      },
      "execution_count": 7,
      "outputs": [
        {
          "output_type": "stream",
          "name": "stdout",
          "text": [
            "abcdefghijklmnopqrstuvwxyzABCDEFGHIJKLMNOPQRSTUVWXYZ0123456789!\"#$%&'()*+,-./:;<=>?@[\\]^_`{|}~\n",
            "4\n"
          ]
        }
      ]
    },
    {
      "cell_type": "code",
      "source": [
        "# define very basic random password generator without any constraints\n",
        "def generate_password(length):\n",
        "    \"\"\"\n",
        "    Generate a random password of the given length.\n",
        "\n",
        "    Args:\n",
        "        length (int): The desired length of the password.\n",
        "\n",
        "    Returns:\n",
        "        str: The generated password.\n",
        "\n",
        "    Raises:\n",
        "        ValueError: If the given length is not a positive integer.\n",
        "        TypeError: If the given length is not an integer.\n",
        "        TypeError: If the given length is missing.\n",
        "\n",
        "    Examples:\n",
        "       >>> generate_password(8)\n",
        "       kO(2!]=^\n",
        "\n",
        "       Note: the output is not repeated, as it is random.\n",
        "    \"\"\"\n",
        "\n",
        "    # Not mentioned in task, but added by me to prevent infinite loop\n",
        "    if length <= 0:\n",
        "        raise ValueError(\"Password length must be a positive integer.\")\n",
        "    else:\n",
        "        # Define the possible characters for the password\n",
        "        letters = string.ascii_letters\n",
        "        digits = string.digits\n",
        "        symbols = string.punctuation\n",
        "\n",
        "        # Combine all characters\n",
        "        all_characters = letters + digits + symbols\n",
        "\n",
        "        password = ''\n",
        "        # Generate password\n",
        "        for _ in range(length): # we do not use iteration variable, so it is good to name it as \"_\"\n",
        "            password += secrets.choice(all_characters)\n",
        "\n",
        "    return password"
      ],
      "metadata": {
        "id": "usISK28qbM7-"
      },
      "execution_count": 92,
      "outputs": []
    },
    {
      "cell_type": "code",
      "source": [
        "new_password = generate_password(8)\n",
        "print(new_password)"
      ],
      "metadata": {
        "colab": {
          "base_uri": "https://localhost:8080/"
        },
        "id": "tzMNJEYntMTe",
        "outputId": "b57485b6-2595-42ce-f556-db651da54ca2"
      },
      "execution_count": 93,
      "outputs": [
        {
          "output_type": "stream",
          "name": "stdout",
          "text": [
            "9_zRWqh-\n"
          ]
        }
      ]
    },
    {
      "cell_type": "markdown",
      "source": [
        "# **Practise with 're' library and regular expressions**"
      ],
      "metadata": {
        "id": "VND_2py2yKaL"
      }
    },
    {
      "cell_type": "code",
      "source": [
        "# import packages in the first cell in alphabetical order\n",
        "import re # regex functions library\n",
        "import secrets # random generator as random library, but in more advanced\n",
        "import string # contain symbols, letters, digits"
      ],
      "metadata": {
        "id": "f0FOQktszN7m"
      },
      "execution_count": 94,
      "outputs": []
    },
    {
      "cell_type": "code",
      "source": [
        "# compile function in re converts the regex string into a regex object.\n",
        "# This object can be reused multiple times for matching, searching, or replacing,\n",
        "# without recompiling the regex each time.\n",
        "pattern = re.compile('l+')\n",
        "quote = 'Not all those who wander are lost.'\n",
        "print(pattern.search(quote)) # search method finds the first obstance of given regex pattern"
      ],
      "metadata": {
        "colab": {
          "base_uri": "https://localhost:8080/"
        },
        "id": "TC5IcmABtRPZ",
        "outputId": "e9f4ebba-ef9a-4551-873c-1d730ef08c12"
      },
      "execution_count": 95,
      "outputs": [
        {
          "output_type": "stream",
          "name": "stdout",
          "text": [
            "<re.Match object; span=(5, 7), match='ll'>\n"
          ]
        }
      ]
    },
    {
      "cell_type": "code",
      "source": [
        "# you can do same operation without using compile function as well\n",
        "pattern = \"l+\"\n",
        "quote = 'Not all those who wander are lost.'\n",
        "print(re.search(pattern, quote)) # here string is not method, but function"
      ],
      "metadata": {
        "colab": {
          "base_uri": "https://localhost:8080/"
        },
        "id": "65XVt33e1y5x",
        "outputId": "33b69b96-8141-4287-a973-e310df362c9e"
      },
      "execution_count": 96,
      "outputs": [
        {
          "output_type": "stream",
          "name": "stdout",
          "text": [
            "<re.Match object; span=(5, 7), match='ll'>\n"
          ]
        }
      ]
    },
    {
      "cell_type": "markdown",
      "source": [
        "### Frequently Used Regex Patterns with Their Equivalents\n",
        "\n",
        "#### **1. Character Classes**\n",
        "\n",
        "| **Pattern**         | **Description**                                                                                 | **Example Usage**                                    | **Matches**                                         | **Equivalent**                                      |\n",
        "|----------------------|-----------------------------------------------------------------------------------------------|----------------------------------------------------|----------------------------------------------------|----------------------------------------------------|\n",
        "| `\\d`                | Matches any digit (0–9).                                                                       | `\\d+` in \"Order 123 shipped\"                       | `123`                                              | `[0-9]`                                             |\n",
        "| `\\D`                | Matches any non-digit character.                                                              | `\\D+` in \"Order 123 shipped\"                      | `Order `                                           | `[^0-9]`                                           |\n",
        "| `\\w`                | Matches any word character (alphanumeric + underscore).                                       | `\\w+` in \"Order_123 shipped\"                      | `Order_123`                                        | `[a-zA-Z0-9_]`                                     |\n",
        "| `\\W`                | Matches any non-word character (symbols, spaces, etc.).                                       | `\\W+` in \"Order, shipped!\"                        | `, `                                               | `[^a-zA-Z0-9_]`                                    |\n",
        "| `\\s`                | Matches any whitespace character (spaces, tabs, etc.).                                        | `\\s+` in \"Order 123 shipped\"                      | Space after `Order`                                | `[ \\t\\r\\n\\f\\v]`                                     |\n",
        "| `\\S`                | Matches any non-whitespace character.                                                         | `\\S+` in \"Order 123 shipped\"                      | `Order`                                            | `[^ \\t\\r\\n\\f\\v]`                                   |\n",
        "| `[]`                | Matches any one character inside the brackets.                                                | `[aeiou]` in \"Order\"                              | `o`, `e`                                           | Alternation: `a\\|e\\|i\\|o\\|u`                                                                       |\n",
        "| `[^]`               | Matches any one character **not** inside the brackets.                                        | `[^aeiou]` in \"Order\"                             | `r`, `d`                                           | None                                                |\n",
        "\n",
        "---"
      ],
      "metadata": {
        "id": "_DIVHpx93SCP"
      }
    },
    {
      "cell_type": "markdown",
      "source": [
        "#### **2. Anchors**\n",
        "\n",
        "| **Pattern**         | **Description**                                                                                 | **Example Usage**                                    | **Matches**                                         | **Equivalent**                                      |\n",
        "|----------------------|-----------------------------------------------------------------------------------------------|----------------------------------------------------|----------------------------------------------------|----------------------------------------------------|\n",
        "| `^`                 | Matches the start of a string.                                                                | `^Order` in \"Order 123 shipped\"                   | `Order`                                            | `\\A`                                               |\n",
        "| `$`                 | Matches the end of a string.                                                                  | `shipped$` in \"Order 123 shipped\"                 | `shipped`                                          | `\\Z`                                               |\n",
        "| `\\b`                | Matches a word boundary.                                                                      | `\\bcat\\b` in \"a cat is here\"                      | `cat`                                              | None                                                |\n",
        "\n",
        "---"
      ],
      "metadata": {
        "id": "sm9O8RyagqPA"
      }
    },
    {
      "cell_type": "markdown",
      "source": [
        "\n",
        "#### **3. Quantifiers**\n",
        "\n",
        "| **Pattern**         | **Description**                                                                                 | **Example Usage**                                    | **Matches**                                         | **Equivalent**                                      |\n",
        "|----------------------|-----------------------------------------------------------------------------------------------|----------------------------------------------------|----------------------------------------------------|----------------------------------------------------|\n",
        "| `*`                 | Matches zero or more occurrences of the preceding character or group.                         | `a*` in \"aaa123\"                                  | `aaa`                                              | None                                                |\n",
        "| `+`                 | Matches one or more occurrences of the preceding character or group.                          | `\\d+` in \"Order 123 shipped\"                      | `123`                                              | None                                                |\n",
        "| `?`                 | Matches zero or one occurrence of the preceding character or group.                           | `colou?r` in \"color\" or \"colour\"                  | `color`, `colour`                                  | `colo(u\\|)r`                                        |\n",
        "| `{n}`               | Matches exactly `n` occurrences of the preceding character or group.                          | `\\d{4}` in \"Year 2023\"                            | `2023`                                             | None                                                |\n",
        "| `{n,}`              | Matches `n` or more occurrences.                                                              | `\\d{2,}` in \"Value: 12345\"                        | `12345`                                            | None                                                |\n",
        "| `{n,m}`             | Matches between `n` and `m` occurrences.                                                      | `\\d{2,4}` in \"Value: 12345\"                       | `123`                                              | None                                                |\n"
      ],
      "metadata": {
        "id": "FdFH8ONJgwdW"
      }
    },
    {
      "cell_type": "markdown",
      "source": [
        "\n",
        "#### **4. Grouping and Alternation**\n",
        "\n",
        "| **Pattern**         | **Description**                                                                                 | **Example Usage**                                    | **Matches**                                         | **Equivalent**                                      |\n",
        "|----------------------|-----------------------------------------------------------------------------------------------|----------------------------------------------------|----------------------------------------------------|----------------------------------------------------|\n",
        "| `()`                | Groups characters for capturing or applying quantifiers.                                      | `(abc)+` in \"abcabc123\"                           | `abcabc`                                           | None                                                |\n",
        "| `|`                 | Matches either the pattern before or after the `|`.                                           | `cat\\|dog` in \"cat or dog\"                         | `cat`, `dog`                                       | None                                                |\n",
        "\n",
        "---"
      ],
      "metadata": {
        "id": "oLrvD-lEg0R1"
      }
    },
    {
      "cell_type": "markdown",
      "source": [
        "\n",
        "#### **5. Special Constructs**\n",
        "\n",
        "| **Pattern**         | **Description**                                                                                 | **Example Usage**                                    | **Matches**                                         | **Equivalent**                                      |\n",
        "|----------------------|-----------------------------------------------------------------------------------------------|----------------------------------------------------|----------------------------------------------------|----------------------------------------------------|\n",
        "| `.`                 | Matches any character except a newline.                                                       | `O.d` in \"Order\"                                  | `Ord`                                              | None                                                |\n",
        "| `.*`                | Matches as much as possible (greedy).                                                         | `<.*>` in \"<tag>content</tag>\"                    | `<tag>content</tag>`                               | None                                                |\n",
        "| `.*?`               | Matches as little as possible (lazy).                                                         | `<.*?>` in \"<tag>content</tag>\"                   | `<tag>`                                            | None                                                |\n",
        "| `\\`                 | Escapes special characters to treat them as literals.                                         | `\\$123` in \"Price is $123\"                        | `$123`                                             | None                                                |\n"
      ],
      "metadata": {
        "id": "0fkcJnFWg7mX"
      }
    },
    {
      "cell_type": "code",
      "source": [
        "# comment and uncomment 'pattern' assignment rows, to see different results\n",
        "pattern = '[w[ha]]' # where \"w\" is follwed with either \"h\" or \"a\"\n",
        "pattern = \"[0-9]\" # digit instance\n",
        "pattern = '[a-z]' # lowercase instance\n",
        "pattern = 't[  . a-z]' # where \"t\" is followed by \" \", \".\", or any lowercase letter\n",
        "pattern = '[  . a-z]t' # where \"t\" is preceeded by \" \", \".\", or any lowercase letter\n",
        "pattern = '[^a-z]' # instance that is not lowercase letter\n",
        "pattern = '[A-Z]' # uppercase letter instance\n",
        "pattern = '.' # any character in a string — except for a newline character by default\n",
        "pattern = '.+' # any single character followed by an unknown number of characters\n",
        "pattern = '[^a-zA-Z0-9]' # any character that is not letter or digit\n",
        "\n",
        "# dot and plus has special meaning in wildcard,\n",
        "# backslash \"\\\" is for escaping this and search for exact characters\n",
        "pattern = '\\.\\+' # a dot (\".\") followed by a plus (\"+\")\n",
        "pattern = '\\.' # a dot (\".\")\n",
        "\n",
        "\n",
        "symbols = string.punctuation\n",
        "pattern = fr'[{symbols}]'\n",
        "\n",
        "\n",
        "quote = 'Not all those who wander are lost.123'\n",
        "print(re.findall(pattern, quote)) # findall function returns all instances of given pattern"
      ],
      "metadata": {
        "colab": {
          "base_uri": "https://localhost:8080/"
        },
        "id": "NaK4tC0W2Dmg",
        "outputId": "01ebc83f-e296-40e9-a90a-f03eb5bb5627"
      },
      "execution_count": 54,
      "outputs": [
        {
          "output_type": "stream",
          "name": "stdout",
          "text": [
            "['.']\n"
          ]
        }
      ]
    },
    {
      "cell_type": "markdown",
      "source": [
        "Python provides a particular type of string called raw string. Raw strings are prefixed with a r. The key distinction from regular strings lies in how they handle the backslash character: in raw strings, backslashes are treated as literal characters rather than escape characters. When writing regular expressions, using raw strings is a good practice, since they can usually contain a lot of \\ characters."
      ],
      "metadata": {
        "id": "6PhB0KrrAfud"
      }
    },
    {
      "cell_type": "code",
      "source": [
        "# Regular string\n",
        "pattern1 = \"\\\\d+\"  # Backslash needs to be escaped\n",
        "pattern2 = r\"\\d+\"\n",
        "pattern3 = '\\d+'\n",
        "pattern4 = r'\\\\d+'\n",
        "pattern5 = \"\\\\a\"\n",
        "pattern6 = r'\\a+'\n",
        "pattern7 = r'\\\\a'\n",
        "pattern8 = '\\\\a'\n",
        "\n",
        "# Example string\n",
        "text = \"Here are +d, +45, and d+, \\\\d+, \\d+, a, \\\\a, \\a.\"\n",
        "for i in range(5,9):\n",
        "  pattern = globals()['pattern'+str(i)]\n",
        "  matches = re.findall(pattern, text)\n",
        "  print(str(i)+\")\", pattern, type(pattern))\n",
        "  print(\" \")\n",
        "  print(matches)\n",
        "  print(\"=\"*10)\n",
        "  print(\" \")"
      ],
      "metadata": {
        "colab": {
          "base_uri": "https://localhost:8080/"
        },
        "id": "09cZqIRtCaG0",
        "outputId": "c4487934-7c46-4216-ba16-119c76250d10"
      },
      "execution_count": 53,
      "outputs": [
        {
          "output_type": "stream",
          "name": "stdout",
          "text": [
            "5) \\a <class 'str'>\n",
            " \n",
            "['\\x07']\n",
            "==========\n",
            " \n",
            "6) \\a+ <class 'str'>\n",
            " \n",
            "['\\x07']\n",
            "==========\n",
            " \n",
            "7) \\\\a <class 'str'>\n",
            " \n",
            "['\\\\a']\n",
            "==========\n",
            " \n",
            "8) \\a <class 'str'>\n",
            " \n",
            "['\\x07']\n",
            "==========\n",
            " \n"
          ]
        }
      ]
    },
    {
      "cell_type": "markdown",
      "source": [
        "# **Defining the final random password generator functions**"
      ],
      "metadata": {
        "id": "InbcN3Y-kcak"
      }
    },
    {
      "cell_type": "code",
      "source": [
        "# 1st - direct method with for loop\n",
        "# Define the function that generates random password\n",
        "def generate_password(length, nums, special_chars, uppercase, lowercase):\n",
        "    \"\"\"\n",
        "    Generate a random password of the given length and constraints.\n",
        "\n",
        "    Args:\n",
        "        length (int): The desired length of the password.\n",
        "        nums (int): The number of digits in the password.\n",
        "        special_chars (int): The number of special characters in the password.\n",
        "        uppercase (int): The number of uppercase letters in the password.\n",
        "        lowercase (int): The number of lowercase letters in the password.\n",
        "\n",
        "    Returns:\n",
        "        str: the generated password.\n",
        "\n",
        "    Raises:\n",
        "        ValueError: If the given length is not a positive integer.\n",
        "        ValueError: If the given constraints iare less than 0.\n",
        "        TypeError: If the given length is not an integer.\n",
        "        TypeError: If the given length is missing.\n",
        "\n",
        "    Examples:\n",
        "       >>> generate_password(8)\n",
        "       kO(2!]=^\n",
        "\n",
        "       >>> generate_password(8, 1, 1, 1, 1)\n",
        "       kO(2!]=^\n",
        "\n",
        "       >>> generate_password(8, 0, 0, 1, 1)\n",
        "       kO(_!]=^\n",
        "\n",
        "       Note: the output is not repeated, as it is random.\n",
        "    \"\"\"\n",
        "    # Not mentioned in task, but added by me to prevent infinite loop\n",
        "    if length <= 0:\n",
        "        raise ValueError(\"Password length must be a positive integer.\")\n",
        "    else:\n",
        "        pass\n",
        "    if not isinstance(length, int):\n",
        "        raise TypeError(\"Password length must be an integer.\")\n",
        "    else:\n",
        "        pass\n",
        "    if not (nums>= 0) & (special_chars >= 0) & (uppercase >= 0) & (lowercase >= 0) :\n",
        "        raise  ValueError(\"The constraints cannot be less than 0.\")\n",
        "    else:\n",
        "        pass\n",
        "    # Define the possible characters for the password\n",
        "    letters = string.ascii_letters\n",
        "    digits = string.digits\n",
        "    symbols = string.punctuation\n",
        "\n",
        "    # Combine all characters\n",
        "    all_characters = letters + digits + symbols\n",
        "\n",
        "    while True:\n",
        "        password = ''\n",
        "        # Generate password\n",
        "        for _ in range(length):\n",
        "            password += secrets.choice(all_characters)\n",
        "\n",
        "        constraints = [\n",
        "            (nums, r'\\d'),\n",
        "            (lowercase, r'[a-z]'),\n",
        "            (uppercase, r'[A-Z]'),\n",
        "            (special_chars, fr'[{symbols}]')\n",
        "        ]\n",
        "\n",
        "        # Check constraints\n",
        "        count = 0\n",
        "        for constraint, pattern in constraints:\n",
        "            if constraint <= len(re.findall(pattern, password)):\n",
        "                count += 1\n",
        "\n",
        "        if count == 4:\n",
        "            break\n",
        "\n",
        "    return password"
      ],
      "metadata": {
        "id": "UUOl0QPgERNY"
      },
      "execution_count": 123,
      "outputs": []
    },
    {
      "cell_type": "code",
      "source": [
        " if __name__ == '__main__':\n",
        "    new_password = generate_password(8,1,1,1,1)\n",
        "    print(new_password)"
      ],
      "metadata": {
        "colab": {
          "base_uri": "https://localhost:8080/"
        },
        "id": "JIuyQWZllLb8",
        "outputId": "a2b30a30-172d-4e45-ec54-08410f7890fb"
      },
      "execution_count": 130,
      "outputs": [
        {
          "output_type": "stream",
          "name": "stdout",
          "text": [
            "u7QUx@YH\n"
          ]
        }
      ]
    },
    {
      "cell_type": "code",
      "source": [
        "# 2nd function - more optimized with all() function\n",
        "# define a function that generates random password\n",
        "def generate_password(length=16, nums=1, special_chars=1, uppercase=1, lowercase=1):\n",
        "    \"\"\"\n",
        "    Generate a random password of the given length and constraints.\n",
        "\n",
        "    Args:\n",
        "        length (int, optional): The desired length of the password. Default: 16\n",
        "        nums (int, optional): The number of digits in the password. Default: 1\n",
        "        special_chars (int, optional): The number of special characters in the password. Default: 1\n",
        "        uppercase (int, optional): The number of uppercase letters in the password. Default: 1\n",
        "        lowercase (int, optional): The number of lowercase letters in the password. Default: 1\n",
        "\n",
        "    Returns:\n",
        "        str: the generated password.\n",
        "\n",
        "    Raises:\n",
        "        ValueError: If the given length is not a positive integer.\n",
        "        ValueError: If the given constraints iare less than 0.\n",
        "        TypeError: If the given length is not an integer.\n",
        "\n",
        "    Examples:\n",
        "        >>> generate_password()\n",
        "        ?X2HXR`_Ta#e|Y^m\n",
        "\n",
        "        Note: Note: the output is not repeated, as it is random.\n",
        "    \"\"\"\n",
        "    # Not mentioned in task, but added by me to prevent infinite loop\n",
        "    if length <= 0:\n",
        "        raise ValueError(\"Password length must be a positive integer.\")\n",
        "    else:\n",
        "        pass\n",
        "    if not isinstance(length, int):\n",
        "        raise TypeError(\"Password length must be an integer.\")\n",
        "    else:\n",
        "        pass\n",
        "    if not (nums>= 0) & (special_chars >= 0) & (uppercase >= 0) & (lowercase >= 0) :\n",
        "        raise  ValueError(\"The constraints cannot be less than 0.\")\n",
        "    else:\n",
        "        pass\n",
        "\n",
        "    # Define the possible characters for the password\n",
        "    letters = string.ascii_letters\n",
        "    digits = string.digits\n",
        "    symbols = string.punctuation\n",
        "\n",
        "    # Combine all characters\n",
        "    all_characters = letters + digits + symbols\n",
        "\n",
        "    while True:\n",
        "        password = ''\n",
        "        # Generate password\n",
        "        for _ in range(length):\n",
        "            password += secrets.choice(all_characters)\n",
        "\n",
        "        constraints = [\n",
        "            (nums, r'\\d'),\n",
        "            (special_chars, fr'[{symbols}]'),\n",
        "            (uppercase, r'[A-Z]'),\n",
        "            (lowercase, r'[a-z]')\n",
        "        ]\n",
        "\n",
        "        # Check constraints\n",
        "        if all(\n",
        "            constraint <= len(re.findall(pattern, password))\n",
        "            for constraint, pattern in constraints\n",
        "        ):\n",
        "            break\n",
        "\n",
        "    return password"
      ],
      "metadata": {
        "id": "K8UwTFPVcCcW"
      },
      "execution_count": 126,
      "outputs": []
    },
    {
      "cell_type": "markdown",
      "source": [
        "Having all([expression for i in iterable]), means that a new list is created by evaluating expression for each i in iterable. After the all() function iterates over the newly created list, the list is deleted automatically, since it is no longer needed.\n",
        "\n",
        "Memory can be saved by using a generator expression. Generator expressions follow the syntax of list comprehensions but they use parentheses instead of square brackets."
      ],
      "metadata": {
        "id": "gSk8GqsDZGix"
      }
    },
    {
      "cell_type": "code",
      "source": [
        "# all() is a built-in Python function that returns True...\n",
        "# ...if all the elements inside a given iterable evaluate to True,...\n",
        "# ...otherwise, it returns False.\n",
        "if all([i > 5 for i in range(6,10)]):\n",
        "    print(\"All elements are greater than 5\")\n",
        "\n",
        "# Change your list comprehension into a generator expression by removing the square brackets.\n",
        "if all(i > 5 for i in range(6,10)):\n",
        "    print(\"All elements are greater than 5\")"
      ],
      "metadata": {
        "colab": {
          "base_uri": "https://localhost:8080/"
        },
        "id": "vijAn5TKXt0U",
        "outputId": "94e845ae-b64b-41a8-d759-e13b88e6ea5f"
      },
      "execution_count": 58,
      "outputs": [
        {
          "output_type": "stream",
          "name": "stdout",
          "text": [
            "All elements are greater than 5\n",
            "All elements are greater than 5\n"
          ]
        }
      ]
    },
    {
      "cell_type": "code",
      "source": [
        "if __name__ == '__main__':\n",
        "    new_password = generate_password()\n",
        "    print('Generated password:', new_password)"
      ],
      "metadata": {
        "colab": {
          "base_uri": "https://localhost:8080/"
        },
        "id": "QIRF5yQWgODB",
        "outputId": "55e3e044-e3a8-45bd-d00e-67c9be7ce7a0"
      },
      "execution_count": 127,
      "outputs": [
        {
          "output_type": "stream",
          "name": "stdout",
          "text": [
            "Generated password: ?X2HXR`_Ta#e|Y^m\n"
          ]
        }
      ]
    },
    {
      "cell_type": "markdown",
      "source": [
        "# **Adding some spice...**\n",
        "\n",
        "In this part I will add random seed to the function, in order to be able to generate same code again and again.\n",
        "\n",
        "This part is out of original task. Before going into solutions, it i important to know the speciality of secrets library and its difference from random library.\n",
        "\n",
        "#### **Secrets library**\n",
        "Source of randomness: The secrets module relies on the operating system's cryptographically secure random number generator (CSPRNG), such as:\n",
        "\n",
        "    /dev/urandom or /dev/random on Unix-like systems.\n",
        "    CryptGenRandom or BCryptGenRandom on Windows.\n",
        "\n",
        "No seed method: Unlike random, the state of the generator cannot be set or predicted by providing a seed, ensuring cryptographic security.\n",
        "\n",
        "**Key Features of secrets**\n",
        "\n",
        "1. Cryptographic Security:\n",
        "\n",
        "Uses CSPRNG for unpredictable results.\n",
        "\n",
        "Suitable for sensitive operations like password generation, token creation, or cryptography.\n",
        "\n",
        "\n",
        "\n",
        "2. Focus on Simplicity:\n",
        "\n",
        "Provides high-level functions like secrets.choice(), secrets.randbelow(), and secrets.token_hex().\n",
        "\n",
        "#### **Random library**\n",
        "\n",
        "The random module is not cryptographically secure and is designed for general-purpose randomness.\n",
        "\n",
        "1. PRNG (Pseudo-Random Number Generator):\n",
        "\n",
        "Random uses the Mersenne Twister algorithm, which is deterministic and predictable if the state or seed is known.\n",
        "You can use random.seed() to initialize the state, making it reproducible for testing.\n",
        "\n",
        "2. Use Case:\n",
        "\n",
        "Suitable for simulations, games, and non-sensitive randomness.\n",
        "Not secure for cryptography or security-sensitive applications.\n",
        "\n",
        "In order to add seed to this function, I will switch to random from secrets. It will be less secure."
      ],
      "metadata": {
        "id": "e4sbpwcbtonn"
      }
    },
    {
      "cell_type": "code",
      "source": [
        "# 3rd - optional - adding random seed\n",
        "# Define a function that generates random password\n",
        "def generate__less_secure_password(length=16, nums=1, special_chars=1, uppercase=1, lowercase=1, seed = 42):\n",
        "    \"\"\"\n",
        "    Generate a random password of the given length and constraints.\n",
        "\n",
        "    Args:\n",
        "        length (int, optional): The desired length of the password. Default: 16\n",
        "        nums (int, optional): The number of digits in the password. Default: 1\n",
        "        special_chars (int, optional): The number of special characters in the password. Default: 1\n",
        "        uppercase (int, optional): The number of uppercase letters in the password. Default: 1\n",
        "        lowercase (int, optional): The number of lowercase letters in the password. Default: 1\n",
        "        seed (int, optional): The seed for the random number generator. Default: 42\n",
        "\n",
        "    Returns:\n",
        "        str: the generated password.\n",
        "\n",
        "    Raises:\n",
        "        ValueError: If the given length is not a positive integer.\n",
        "        ValueError: If the given constraints iare less than 0.\n",
        "        TypeError: If the given length is not an integer.\n",
        "\n",
        "    Examples:\n",
        "        >>> generate_password()\n",
        "        ?X2HXR`_Ta#e|Y^m\n",
        "\n",
        "        Note: Note: the output is not repeated, as it is random.\n",
        "    \"\"\"\n",
        "    # Not mentioned in task, but added by me to prevent infinite loop\n",
        "    if length <= 0:\n",
        "        raise ValueError(\"Password length must be a positive integer.\")\n",
        "    else:\n",
        "        pass\n",
        "    if not isinstance(length, int):\n",
        "        raise TypeError(\"Password length must be an integer.\")\n",
        "    else:\n",
        "        pass\n",
        "    if not (nums>= 0) & (special_chars >= 0) & (uppercase >= 0) & (lowercase >= 0) :\n",
        "        raise  ValueError(\"The constraints cannot be less than 0.\")\n",
        "    else:\n",
        "        pass\n",
        "\n",
        "    # Define seed\n",
        "    random.seed(seed)\n",
        "\n",
        "    # Define the possible characters for the password\n",
        "    letters = string.ascii_letters\n",
        "    digits = string.digits\n",
        "    symbols = string.punctuation\n",
        "\n",
        "    # Combine all characters\n",
        "    all_characters = letters + digits + symbols\n",
        "\n",
        "    while True:\n",
        "        password = ''\n",
        "        # Generate password\n",
        "        for _ in range(length):\n",
        "            password += random.choice(all_characters)\n",
        "\n",
        "        constraints = [\n",
        "            (nums, r'\\d'),\n",
        "            (special_chars, fr'[{symbols}]'),\n",
        "            (uppercase, r'[A-Z]'),\n",
        "            (lowercase, r'[a-z]')\n",
        "        ]\n",
        "\n",
        "        # Check constraints\n",
        "        if all(\n",
        "            constraint <= len(re.findall(pattern, password))\n",
        "            for constraint, pattern in constraints\n",
        "        ):\n",
        "            break\n",
        "\n",
        "    return password"
      ],
      "metadata": {
        "id": "SM-g1733r3aE"
      },
      "execution_count": 131,
      "outputs": []
    },
    {
      "cell_type": "code",
      "source": [
        "if __name__ == '__main__':\n",
        "    new_password = generate__less_secure_password(seed=5)\n",
        "    print('Generated password:', new_password)"
      ],
      "metadata": {
        "colab": {
          "base_uri": "https://localhost:8080/"
        },
        "id": "8U89ugdUrk9O",
        "outputId": "04d03d33-235b-47df-dcbf-3826a33120c0"
      },
      "execution_count": 129,
      "outputs": [
        {
          "output_type": "stream",
          "name": "stdout",
          "text": [
            "Generated password: <GT_@&d7F@guoV8F\n"
          ]
        }
      ]
    },
    {
      "cell_type": "markdown",
      "source": [
        "# **Some examples about functions calls**"
      ],
      "metadata": {
        "id": "fjbGP1BEz7B1"
      }
    },
    {
      "cell_type": "code",
      "source": [
        "# some examples of right function call statements\n",
        "if __name__ == '__main__':\n",
        "    print(\"1st example - all are keyword arguments\")\n",
        "    new_password = generate_password(length = 8, nums = 1, special_chars = 1, uppercase = 1, lowercase = 1)\n",
        "    print(new_password, \"\\n\")\n",
        "\n",
        "    print(\"2nd example - positional arguments comes before keyword arguments\")\n",
        "    print(\"a)\")\n",
        "    new_password = generate_password(8, nums = 1, special_chars = 1, uppercase = 1, lowercase = 1)\n",
        "    print(new_password)\n",
        "    print(\"b)\")\n",
        "    new_password = generate_password(8, 1, special_chars = 1, uppercase = 1, lowercase = 1)\n",
        "    print(new_password, \"\\n\")\n",
        "\n",
        "    print(\"3rd example - all are positional arguments\")\n",
        "    new_password = generate_password(8, 1, 1, 1, 1)\n",
        "    print(new_password, \"\\n\")\n",
        "\n",
        "    print(\"4th example - order does not matter while using keyword arguments\")\n",
        "    print(\"a)\")\n",
        "    new_password = generate_password(nums = 1, special_chars = 1, length = 8, uppercase = 1, lowercase = 1)\n",
        "    print(new_password)\n",
        "    print(\"b)\")\n",
        "    new_password = generate_password(8, special_chars = 1, nums = 1, uppercase = 1, lowercase = 1)\n",
        "    print(new_password, \"\\n\")"
      ],
      "metadata": {
        "colab": {
          "base_uri": "https://localhost:8080/"
        },
        "id": "dsQm55DeZaf_",
        "outputId": "f2ee9b52-e10f-4d3a-87cd-eb33dcd0546f"
      },
      "execution_count": 132,
      "outputs": [
        {
          "output_type": "stream",
          "name": "stdout",
          "text": [
            "1st example - all are keyword arguments\n",
            "z<4,SSsn \n",
            "\n",
            "2nd example - positional arguments comes before keyword arguments\n",
            "a)\n",
            "r!)&G6x1\n",
            "b)\n",
            "S:$sww2a \n",
            "\n",
            "3rd example - all are positional arguments\n",
            "f[{e=6BL \n",
            "\n",
            "4th example - order does not matter while using keyword arguments\n",
            "a)\n",
            "_K.p}W9:\n",
            "b)\n",
            "M7GbQ;T- \n",
            "\n"
          ]
        }
      ]
    },
    {
      "cell_type": "code",
      "source": [
        "if __name__ == \"__main__\" :\n",
        "    print(\"false example - as we messed order, the 8 is the constraint for nums argument\")\n",
        "    # it will lead function to infinite loop, open comment to see result.\n",
        "    # !!! Do not forget to stop cell after a while !!!\n",
        "    # new_password = generate_password(1, 8, 1, 1, 1)"
      ],
      "metadata": {
        "colab": {
          "base_uri": "https://localhost:8080/"
        },
        "id": "0knz1aoyecpK",
        "outputId": "677e9166-22aa-4fc1-b037-816cbded0017"
      },
      "execution_count": 133,
      "outputs": [
        {
          "output_type": "stream",
          "name": "stdout",
          "text": [
            "false example - as we messed order, the 8 is the constraint for nums argument\n"
          ]
        }
      ]
    },
    {
      "cell_type": "code",
      "source": [
        "# When you give argument keyword to assign value, you should apply it to all following parameters\n",
        "# If you apply positional arguments (without giving keyword of argument),...\n",
        "# ...you can only apply it before keyword arguments,\n",
        "# like the second example in above-mentioned cell\n",
        "# uncomment the cells below to see error\n",
        "# new_password = generate_password(length = 8, 1, special_chars = 1, uppercase = 1, lowercase = 1)\n",
        "# print(new_password)"
      ],
      "metadata": {
        "id": "VzXPRLjHbQLJ"
      },
      "execution_count": 97,
      "outputs": []
    }
  ]
}