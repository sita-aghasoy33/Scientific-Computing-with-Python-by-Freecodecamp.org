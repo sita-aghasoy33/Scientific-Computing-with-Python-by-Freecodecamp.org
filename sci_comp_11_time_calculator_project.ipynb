{
  "nbformat": 4,
  "nbformat_minor": 0,
  "metadata": {
    "colab": {
      "provenance": [],
      "authorship_tag": "ABX9TyMWYtljb4W1yhMDMAjNjn+R",
      "include_colab_link": true
    },
    "kernelspec": {
      "name": "python3",
      "display_name": "Python 3"
    },
    "language_info": {
      "name": "python"
    }
  },
  "cells": [
    {
      "cell_type": "markdown",
      "metadata": {
        "id": "view-in-github",
        "colab_type": "text"
      },
      "source": [
        "<a href=\"https://colab.research.google.com/github/sita-aghasoy33/Scientific-Computing-with-Python-by-Freecodecamp.org/blob/main/sci_comp_11_time_calculator_project.ipynb\" target=\"_parent\"><img src=\"https://colab.research.google.com/assets/colab-badge.svg\" alt=\"Open In Colab\"/></a>"
      ]
    },
    {
      "cell_type": "markdown",
      "source": [
        "# **Build a Time Calculator Project**\n",
        "\n",
        "[go to the task in official web-site: www.freecodecamp.org](https://www.freecodecamp.org/learn/scientific-computing-with-python/build-a-time-calculator-project/build-a-time-calculator-project)"
      ],
      "metadata": {
        "id": "skPFJA1frQjv"
      }
    },
    {
      "cell_type": "markdown",
      "source": [
        "# **About the project**\n",
        "Write a function named add_time that takes in two required parameters and one optional parameter:\n",
        "\n",
        "a start time in the 12-hour clock format (ending in AM or PM)\n",
        "a duration time that indicates the number of hours and minutes\n",
        "(optional) a starting day of the week, case insensitive\n",
        "The function should add the duration time to the start time and return the result.\n",
        "\n",
        "If the result will be the next day, it should show (next day) after the time. If the result will be more than one day later, it should show (n days later) after the time, where \"n\" is the number of days later.\n",
        "\n",
        "If the function is given the optional starting day of the week parameter, then the output should display the day of the week of the result. The day of the week in the output should appear after the time and before the number of days later."
      ],
      "metadata": {
        "id": "Aqks00Vnsb7P"
      }
    },
    {
      "cell_type": "code",
      "execution_count": 1,
      "metadata": {
        "colab": {
          "base_uri": "https://localhost:8080/"
        },
        "id": "JPGWNg6w0we5",
        "outputId": "5e89629c-3a58-4a79-d846-f7311fe50682"
      },
      "outputs": [
        {
          "output_type": "stream",
          "name": "stdout",
          "text": [
            "12:00 PM, Tuesday\n"
          ]
        }
      ],
      "source": [
        "# @title **Nube version**\n",
        "def add_time(start, duration, day = \"\"):\n",
        "    \"\"\"\n",
        "    Returns the time after adding the duration to the start time.\n",
        "\n",
        "    Args:\n",
        "        start (str): start time given in \"h:mm\" format.\n",
        "        duration (str): duration given in \"h:mm\" format.\n",
        "        day (str, optional): day of the week. Defaulted to empty string \"\".\n",
        "\n",
        "    Returns:\n",
        "        str: time after adding the duration to the start time.\n",
        "\n",
        "    Raises:\n",
        "        ValueError: if the start time or duration is not in the correct format.\n",
        "        ValueError: if the day name is not correct.\n",
        "\n",
        "    Examples:\n",
        "        >>> add_time(\"3:00 PM\", \"3:10\")\n",
        "        '6:10 PM'\n",
        "\n",
        "        >>> add_time(\"11:30 AM\", \"2:32\", \"Monday\")\n",
        "        '2:02 PM, Monday'\n",
        "\n",
        "        >>> add_time(\"11:43 PM\", \"30:12\", \"Tuesday\")\n",
        "        '5:55 AM, Thursday (2 days later)'\n",
        "\n",
        "        >>> add_time(\"10:10 PM\", \"3:30\")\n",
        "        '1:40 AM (next day)'\n",
        "\n",
        "    \"\"\"\n",
        "\n",
        "    days_of_week = \\\n",
        "    ['Monday',\n",
        "     'Tuesday',\n",
        "     'Wednesday',\n",
        "     'Thursday',\n",
        "     'Friday',\n",
        "     'Saturday',\n",
        "     'Sunday']\n",
        "\n",
        "    del_index = start.find(\":\")\n",
        "    tod = start[::-1][:2][::-1]\n",
        "\n",
        "    hours = int(start[:del_index])\n",
        "    minutes = int(start[del_index+1:5])\n",
        "    if tod == \"PM\":\n",
        "        hours += 12\n",
        "\n",
        "    dur_hours = int(duration.split(\":\")[0])\n",
        "    dur_minutes = int(duration.split(\":\")[1])\n",
        "\n",
        "    total_minutes = minutes + dur_minutes\n",
        "    total_hours = hours + dur_hours + (total_minutes // 60)\n",
        "    total_minutes = total_minutes % 60\n",
        "\n",
        "\n",
        "    days = total_hours // 24\n",
        "    if day != \"\":\n",
        "        day = day.capitalize()\n",
        "        day_index = days_of_week.index(day) + (days % len(days_of_week)) - len(days_of_week)\n",
        "        new_day = days_of_week[day_index]\n",
        "    else:\n",
        "        new_day = \"\"\n",
        "\n",
        "    new_hours = total_hours % 24\n",
        "\n",
        "    if new_hours // 12 == 0:\n",
        "        new_tod = 'AM'\n",
        "    else:\n",
        "        new_tod = 'PM'\n",
        "    new_hours = new_hours % 12\n",
        "    if new_hours == 0:\n",
        "      new_hours = 12\n",
        "    new_minutes = total_minutes\n",
        "\n",
        "    _ = \"\" if new_day == \"\" else \", \"+new_day\n",
        "    if days == 0:\n",
        "\n",
        "        days_passed = _\n",
        "\n",
        "    elif days == 1:\n",
        "        days_passed = _+\" (next day)\"\n",
        "\n",
        "    elif days > 1:\n",
        "        days_passed = _+\" (\"+str(days)+\" days later)\"\n",
        "\n",
        "    new_time = str(new_hours)+\":\"+ \\\n",
        "               str(new_minutes).rjust(2, '0') + \" \"+ \\\n",
        "               new_tod+days_passed\n",
        "\n",
        "    return new_time\n",
        "\n",
        "print(add_time(\"11:43 AM\", \"00:17\", \"Tuesday\"))"
      ]
    },
    {
      "cell_type": "code",
      "source": [
        "# @title **Advanced version**\n",
        "def add_time(start, duration, day = \"\"):\n",
        "    \"\"\"\n",
        "    Returns the time after adding the duration to the start time.\n",
        "\n",
        "    Args:\n",
        "        start (str): start time given in \"h:mm\" format.\n",
        "        duration (str): duration given in \"h:mm\" format.\n",
        "        day (str, optional): day of the week. Defaulted to empty string \"\".\n",
        "\n",
        "    Returns:\n",
        "        str: time after adding the duration to the start time.\n",
        "\n",
        "    Raises:\n",
        "        ValueError: if the start time or duration is not in the correct format.\n",
        "        ValueError: if the day name is not correct.\n",
        "\n",
        "    Examples:\n",
        "        >>> add_time(\"3:00 PM\", \"3:10\")\n",
        "        '6:10 PM'\n",
        "\n",
        "        >>> add_time(\"11:30 AM\", \"2:32\", \"Monday\")\n",
        "        '2:02 PM, Monday'\n",
        "\n",
        "        >>> add_time(\"11:43 PM\", \"30:12\", \"Tuesday\")\n",
        "        '5:55 AM, Thursday (2 days later)'\n",
        "\n",
        "        >>> add_time(\"10:10 PM\", \"3:30\")\n",
        "        '1:40 AM (next day)'\n",
        "\n",
        "    \"\"\"\n",
        "\n",
        "    days_of_week = ['Monday', 'Tuesday', 'Wednesday', 'Thursday', 'Friday', 'Saturday', 'Sunday']\n",
        "\n",
        "    del_index = start.find(\":\")\n",
        "    tod = start[::-1][:2][::-1]\n",
        "\n",
        "    hours = int(start[:del_index])\n",
        "    minutes = int(start[del_index+1:5])\n",
        "    if tod == \"PM\":\n",
        "        hours += 12\n",
        "\n",
        "    dur_hours = int(duration.split(\":\")[0])\n",
        "    dur_minutes = int(duration.split(\":\")[1])\n",
        "\n",
        "    total_minutes = minutes + dur_minutes\n",
        "    total_hours = hours + dur_hours + (total_minutes // 60)\n",
        "    total_minutes = total_minutes % 60\n",
        "    days = total_hours // 24\n",
        "    new_hours = total_hours % 24\n",
        "    new_minutes = total_minutes\n",
        "\n",
        "    if day != \"\":\n",
        "        day = day.capitalize()\n",
        "        day_index = days_of_week.index(day) + (days % len(days_of_week)) - len(days_of_week)\n",
        "        new_day = days_of_week[day_index]\n",
        "    else:\n",
        "        new_day = \"\"\n",
        "\n",
        "\n",
        "    new_tod = 'AM' if new_hours < 12 else 'PM'\n",
        "    new_hours = new_hours - 12 if new_hours > 12 else new_hours\n",
        "    new_hours = 12 if new_hours == 0 else new_hours\n",
        "\n",
        "    _ = \"\" if new_day == \"\" else \", \"+new_day\n",
        "    if days == 0:\n",
        "        days_passed = _\n",
        "    elif days == 1:\n",
        "        days_passed = _+\" (next day)\"\n",
        "    elif days > 1:\n",
        "        days_passed = _+\" (\"+str(days)+\" days later)\"\n",
        "\n",
        "    new_time = str(new_hours)+\":\"+ \\\n",
        "               str(new_minutes).rjust(2, '0') + \" \"+ \\\n",
        "               new_tod+days_passed\n",
        "\n",
        "    return new_time\n",
        "\n",
        "print(add_time(\"03:30 PM\", \"2:12\", \"Tuesday\"))"
      ],
      "metadata": {
        "colab": {
          "base_uri": "https://localhost:8080/"
        },
        "id": "RT4O7SdKJWBA",
        "outputId": "ef8d2c93-3edf-4c5a-8abe-705088f11411"
      },
      "execution_count": 2,
      "outputs": [
        {
          "output_type": "stream",
          "name": "stdout",
          "text": [
            "5:42 PM, Tuesday\n"
          ]
        }
      ]
    },
    {
      "cell_type": "code",
      "source": [
        "# Unit tests\n",
        "time01 = {\"name\": \"time01\", \"start\": \"3:30 PM\", \"duration\": \"2:12\", \"day\": \"Monday\"}\n",
        "time02 = {\"name\": \"time02\", \"start\": \"11:43 AM\", \"duration\": \"0:20\", \"day\": \"Tuesday\"}\n",
        "time03 = {\"name\": \"time03\", \"start\": \"9:15 PM\", \"duration\": \"5:30\", \"day\": \"\"}\n",
        "time04 = {\"name\": \"time04\", \"start\": \"2:59 AM\", \"duration\": \"24:00\", \"day\": \"\"}\n",
        "time05 = {\"name\": \"time05\", \"start\": \"3:30 PM\", \"duration\": \"2:12\", \"day\": \"Monday\"}\n",
        "time06 = {\"name\": \"time06\", \"start\": \"11:55 AM\", \"duration\": \"3:12\", \"day\": \"\"}\n",
        "time07 = {\"name\": \"time07\", 'start': \"11:59 PM\", \"duration\": \"24:05\", \"day\":'Wednesday'}\n",
        "time08 = {\"name\": \"time08\", \"start\": \"8:16 PM\", \"duration\": \"466:02\", \"day\": \"tuesday\"}\n",
        "time09 = {\"name\": \"time09\", \"start\": \"5:01 AM\", \"duration\": \"0:00\", \"day\": \"wednesday\"}\n",
        "time10 = {\"name\": \"time10\", \"start\": \"11:43 AM\", \"duration\": \"0:20\", \"day\": \"Tuesday\"}\n",
        "time11 = {\"name\": \"time11\", \"start\": \"8:16 AM\", \"duration\": \"466:02\", \"day\": \"\"}\n",
        "time12 = {\"name\": \"time12\", \"start\": '2:59 AM', \"duration\": \"24:00\", \"day\": \"SaturDay\"}\n",
        "\n",
        "time_list = [time01, time02, time03, time04, time05, time06, time07, time08, time09, time10, time11, time12]"
      ],
      "metadata": {
        "id": "42BDTQKB0xje"
      },
      "execution_count": 3,
      "outputs": []
    },
    {
      "cell_type": "code",
      "source": [
        "for time in time_list:\n",
        "    print(time[\"name\"])\n",
        "    try:\n",
        "        print(add_time(time[\"start\"], time[\"duration\"], time[\"day\"]))\n",
        "    except:\n",
        "        print(\"error\")"
      ],
      "metadata": {
        "colab": {
          "base_uri": "https://localhost:8080/"
        },
        "id": "uo3lFu-D1HZL",
        "outputId": "865bcf25-aaa1-4193-fd3e-2dc8686c24be"
      },
      "execution_count": 4,
      "outputs": [
        {
          "output_type": "stream",
          "name": "stdout",
          "text": [
            "time01\n",
            "5:42 PM, Monday\n",
            "time02\n",
            "12:03 PM, Tuesday\n",
            "time03\n",
            "2:45 AM (next day)\n",
            "time04\n",
            "2:59 AM (next day)\n",
            "time05\n",
            "5:42 PM, Monday\n",
            "time06\n",
            "3:07 PM\n",
            "time07\n",
            "12:04 AM, Friday (2 days later)\n",
            "time08\n",
            "6:18 AM, Monday (20 days later)\n",
            "time09\n",
            "5:01 AM, Wednesday\n",
            "time10\n",
            "12:03 PM, Tuesday\n",
            "time11\n",
            "6:18 PM (19 days later)\n",
            "time12\n",
            "2:59 AM, Sunday (next day)\n"
          ]
        }
      ]
    },
    {
      "cell_type": "code",
      "source": [
        "add_time(start = time11[\"start\"], duration = time11[\"duration\"], day = time11[\"day\"])"
      ],
      "metadata": {
        "colab": {
          "base_uri": "https://localhost:8080/",
          "height": 35
        },
        "id": "Vw98T26Z3waH",
        "outputId": "c9d3c49c-aece-466a-adb4-a2bd048f3019"
      },
      "execution_count": 5,
      "outputs": [
        {
          "output_type": "execute_result",
          "data": {
            "text/plain": [
              "'6:18 PM (19 days later)'"
            ],
            "application/vnd.google.colaboratory.intrinsic+json": {
              "type": "string"
            }
          },
          "metadata": {},
          "execution_count": 5
        }
      ]
    }
  ]
}
