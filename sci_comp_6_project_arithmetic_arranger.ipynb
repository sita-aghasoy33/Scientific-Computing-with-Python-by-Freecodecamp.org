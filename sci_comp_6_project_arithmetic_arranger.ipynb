{
  "nbformat": 4,
  "nbformat_minor": 0,
  "metadata": {
    "colab": {
      "provenance": []
    },
    "kernelspec": {
      "name": "python3",
      "display_name": "Python 3"
    },
    "language_info": {
      "name": "python"
    }
  },
  "cells": [
    {
      "cell_type": "markdown",
      "source": [
        "# **6. Build an Arithmetic Formatter Project**\n",
        "\n",
        "[go to the task in official web-site: www.freecodecamp.org](https://www.freecodecamp.org/learn/scientific-computing-with-python/build-an-arithmetic-formatter-project/build-an-arithmetic-formatter-project)"
      ],
      "metadata": {
        "id": "tjZ-jNxmXpM3"
      }
    },
    {
      "cell_type": "markdown",
      "source": [
        "# **About the project task**\n",
        "\n",
        "This is the first certification project of *\"Scientific Computing with Python\"* path.\n",
        "Students in primary school often arrange arithmetic problems vertically to make them easier to solve. For example, \"235 + 52\" becomes:\n",
        "\n",
        "```\n",
        "  235\n",
        "+  52\n",
        "-----\n",
        "```\n",
        "Finish the arithmetic_arranger function that receives a list of strings which are arithmetic problems, and returns the problems arranged vertically and side-by-side. The function should optionally take a second argument. When the second argument is set to True, the answers should be displayed.\n"
      ],
      "metadata": {
        "id": "KU3OPjbUcfWT"
      }
    },
    {
      "cell_type": "code",
      "source": [
        "# define function to arrenge math problems vertically\n",
        "def arithmetic_arranger(problems, show_answers=False):\n",
        "    \"\"\"\n",
        "    This function takes a list of problems and arrange them vertically.\n",
        "\n",
        "    Args:\n",
        "      problems (list): list that contain strings describing math problems.\n",
        "                       also can be tuples and sets.\n",
        "      show_answers (bool, optional): defaulted to False, determines whether\n",
        "                                     function displays the result of calculation.\n",
        "    Returns:\n",
        "      str: string containing the arranged problems.\n",
        "\n",
        "    Raises:\n",
        "      Error: Too many problems.\n",
        "      Error: Operator must be '+' or '-'.\n",
        "      Error: Numbers must only contain digits.\n",
        "      Error: Numbers cannot be more than four digits.\n",
        "\n",
        "      AttributeError: if element of list is not a string (is integer)\n",
        "      ValueError: if there is no gap (\" \") or more gap (\" \"*2 or more)\n",
        "                  between operands and operator.\n",
        "      TypeError: if missing problems (list) parameter.\n",
        "\n",
        "\n",
        "      Note: first 4 errors are returned as strings. so they are basically\n",
        "            results of function, rather being actual errors.\n",
        "\n",
        "    Example:\n",
        "      >>> print(arithmetic_arranger([\"3 + 855\", \"3801 - 2\", \"45 + 43\", \"123 + 49\"]))\n",
        "         3     3801     45     123\n",
        "     + 855   -    2   + 43   +  49\n",
        "     -----   ------   ----   -----\n",
        "\n",
        "     >>> print(arithmetic_arranger([\"32 - 698\", \"1 - 3801\"], True))\n",
        "        32         1\n",
        "     - 698    - 3801\n",
        "     -----    ------\n",
        "      -666     -3800\n",
        "\n",
        "    >>> print(arithmetic_arranger(a = [\"11 + 4\", \"38015 - 2999\", \"1+2\"]))\n",
        "    Error: Numbers cannot be more than four digits.\n",
        "\n",
        "    \"\"\"\n",
        "    # 1st error check - length of the list (number of problems in list)\n",
        "    if len(problems) > 5: # if more than 5, do not proceed\n",
        "        return 'Error: Too many problems.' #- return will break the code\n",
        "        # and the subsequent codes will note proceed\n",
        "\n",
        "    # as the output contains 4 lines (with answer), we create 4 empty lines\n",
        "    line_1 = ''\n",
        "    line_2 = ''\n",
        "    line_3 = ''\n",
        "    line_4 = ''\n",
        "\n",
        "    # for each string problem in a given list parameter\n",
        "    for problem in problems:\n",
        "        num1, operator, num2 = problem.split(\" \")\n",
        "\n",
        "        # 2nd error check - problems must contain only \"+\" or \"-\"\n",
        "        if operator not in ['-', '+']:\n",
        "            return \"Error: Operator must be '+' or '-'.\"\n",
        "\n",
        "        numbers = ''+num1+num2\n",
        "        # 3rd error check - all operands shoulb contain digits\n",
        "        if not numbers.isdigit():\n",
        "            return 'Error: Numbers must only contain digits.'\n",
        "\n",
        "        # 4th error - both operands should be maximum 4 digits\n",
        "        if (len(num1) > 4) | (len(num2) > 4):\n",
        "            return 'Error: Numbers cannot be more than four digits.'\n",
        "        else:\n",
        "            line_len = max(len(num1), len(num2))+2 # take width of larger num...\n",
        "\n",
        "        # ... and use them to adjust all lines\n",
        "        line_1 +=  num1.rjust(line_len)+\"    \"\n",
        "        line_2 += operator+num2.rjust(line_len-1)+\"    \"\n",
        "        line_3 += line_len*\"-\"+ \"    \"\n",
        "        result = eval(problem)\n",
        "        line_4 += str(result).rjust(line_len)+\"    \"\n",
        "\n",
        "    # organize them vertically and assign to final output\n",
        "    final_output =  line_1.rstrip()+\"\\n\"+ \\\n",
        "                    line_2.rstrip()+\"\\n\"+ \\\n",
        "                    line_3.rstrip()\n",
        "\n",
        "    # if parameter show_answers is True, also display answer in 4th line\n",
        "    if show_answers == True:\n",
        "        final_output += \"\\n\"+line_4.rstrip()\n",
        "\n",
        "    # return the output, it will displayed only when\n",
        "    # you use this function with print.\n",
        "    return final_output\n",
        "\n",
        "# direct check\n",
        "def main():\n",
        "  a = [\"32 + 698\", \"3801 - 2\", \"45 + 43\", \"123 + 49\", \"32 + 28\"]\n",
        "  print(arithmetic_arranger(a, True))\n",
        "\n",
        "if __name__ == \"__main__\":\n",
        "    main()"
      ],
      "metadata": {
        "colab": {
          "base_uri": "https://localhost:8080/"
        },
        "id": "Hz5OCH_FBKKV",
        "outputId": "cdf05ad0-b761-4c05-cc9f-045fcb2e19d7"
      },
      "execution_count": 2,
      "outputs": [
        {
          "output_type": "stream",
          "name": "stdout",
          "text": [
            "   32      3801      45      123      32\n",
            "+ 698    -    2    + 43    +  49    + 28\n",
            "-----    ------    ----    -----    ----\n",
            "  730      3799      88      172      60\n"
          ]
        }
      ]
    },
    {
      "cell_type": "code",
      "source": [
        "# add unit tests from the official task\n",
        "unit_test_1 = [\"3801 - 2\", \"123 + 49\"]\n",
        "unit_test_2 = [\"1 + 2\", \"1 - 9380\"]\n",
        "unit_test_3 = [\"3 + 855\", \"3801 - 2\", \"45 + 43\", \"123 + 49\"]\n",
        "unit_test_4 = [\"11 + 4\", \"3801 - 2999\", \"1 + 2\", \"123 + 49\", \"1 - 9380\"]\n",
        "unit_test_5 = [\"44 + 815\", \"909 - 2\", \"45 + 43\", \"123 + 49\", \"888 + 40\", \"653 + 87\"]\n",
        "unit_test_6 = [\"3 / 855\", \"3801 - 2\", \"45 + 43\", \"123 + 49\"]\n",
        "unit_test_7 = [\"24 + 85215\", \"3801 - 2\", \"45 + 43\", \"123 + 49\"]\n",
        "unit_test_8 = [\"98 + 3g5\", \"3801 - 2\", \"45 + 43\", \"123 + 49\"]\n",
        "unit_test_9 = [\"3 + 85.5\", \"988 + 40\"]\n",
        "unit_test_10 = [\"32 - 698\", \"1 - 3801\", \"45 + 43\", \"123 + 49\", \"988 + 40\"]\n",
        "\n",
        "unit_tests = [unit_test_1, unit_test_2, unit_test_3, unit_test_4, unit_test_5, unit_test_6, unit_test_7, unit_test_8, unit_test_9, unit_test_10]"
      ],
      "metadata": {
        "id": "AsTAEcdsMkc1"
      },
      "execution_count": 3,
      "outputs": []
    },
    {
      "cell_type": "code",
      "source": [
        "# define main function print output for each unit test\n",
        "def main():\n",
        "  for i in range(len(unit_tests)):\n",
        "    unit_test = unit_tests[i]\n",
        "    print(str(i+1)+\".\", \"input:\",unit_test)\n",
        "    print(\"output:\".rjust(len(str(i+1)+\".\"+\" input:\")))\n",
        "    print(arithmetic_arranger(unit_test))\n",
        "    print(\"=\"*50)\n",
        "    print(\"\")"
      ],
      "metadata": {
        "collapsed": true,
        "id": "FrHIUqojNYpl"
      },
      "execution_count": 4,
      "outputs": []
    },
    {
      "cell_type": "code",
      "source": [
        "# call main function, if it is the original notebook\n",
        "if __name__ == \"__main__\":\n",
        "    main()"
      ],
      "metadata": {
        "colab": {
          "base_uri": "https://localhost:8080/"
        },
        "id": "rn1k49_pQOOP",
        "outputId": "94fbf648-97fb-4ba2-c640-65aea852fa5c"
      },
      "execution_count": 5,
      "outputs": [
        {
          "output_type": "stream",
          "name": "stdout",
          "text": [
            "1. input: ['3801 - 2', '123 + 49']\n",
            "  output:\n",
            "  3801      123\n",
            "-    2    +  49\n",
            "------    -----\n",
            "==================================================\n",
            "\n",
            "2. input: ['1 + 2', '1 - 9380']\n",
            "  output:\n",
            "  1         1\n",
            "+ 2    - 9380\n",
            "---    ------\n",
            "==================================================\n",
            "\n",
            "3. input: ['3 + 855', '3801 - 2', '45 + 43', '123 + 49']\n",
            "  output:\n",
            "    3      3801      45      123\n",
            "+ 855    -    2    + 43    +  49\n",
            "-----    ------    ----    -----\n",
            "==================================================\n",
            "\n",
            "4. input: ['11 + 4', '3801 - 2999', '1 + 2', '123 + 49', '1 - 9380']\n",
            "  output:\n",
            "  11      3801      1      123         1\n",
            "+  4    - 2999    + 2    +  49    - 9380\n",
            "----    ------    ---    -----    ------\n",
            "==================================================\n",
            "\n",
            "5. input: ['44 + 815', '909 - 2', '45 + 43', '123 + 49', '888 + 40', '653 + 87']\n",
            "  output:\n",
            "Error: Too many problems.\n",
            "==================================================\n",
            "\n",
            "6. input: ['3 / 855', '3801 - 2', '45 + 43', '123 + 49']\n",
            "  output:\n",
            "Error: Operator must be '+' or '-'.\n",
            "==================================================\n",
            "\n",
            "7. input: ['24 + 85215', '3801 - 2', '45 + 43', '123 + 49']\n",
            "  output:\n",
            "Error: Numbers cannot be more than four digits.\n",
            "==================================================\n",
            "\n",
            "8. input: ['98 + 3g5', '3801 - 2', '45 + 43', '123 + 49']\n",
            "  output:\n",
            "Error: Numbers must only contain digits.\n",
            "==================================================\n",
            "\n",
            "9. input: ['3 + 85.5', '988 + 40']\n",
            "  output:\n",
            "Error: Numbers must only contain digits.\n",
            "==================================================\n",
            "\n",
            "10. input: ['32 - 698', '1 - 3801', '45 + 43', '123 + 49', '988 + 40']\n",
            "   output:\n",
            "   32         1      45      123      988\n",
            "- 698    - 3801    + 43    +  49    +  40\n",
            "-----    ------    ----    -----    -----\n",
            "==================================================\n",
            "\n"
          ]
        }
      ]
    },
    {
      "cell_type": "code",
      "source": [
        "# uncomment the inputs, to check for nonstandards trials and to see potential errors\n",
        "# a = [\"32 + 698\", \"3801 - 2\", \"45 + 43\", \"123 + 49\", \"32 + 28\"]\n",
        "# a = [\"3 + 855\", \"5  +  5\"]\n",
        "# a = [\"11 + 4\", \"3801 - 2999\", \"1+2\"]\n",
        "# a = ['1 + 1']\n",
        "# a = [1 + 1, \"2 + 3\"]\n",
        "# a = set((\"11 + 4\", \"3801 - 2999\"))\n",
        "# a = (\"11 + 4\", \"3801 - 2999\")\n",
        "# a = [\"32 - 698\", \"1 - 3801\"]\n",
        "# a = []\n",
        "a = [\"11 + 4\", \"3801 - 2999\", \"1 + 2\"]\n",
        "print(arithmetic_arranger(a))\n",
        "\n",
        "# comment and uncomment to see each print result\n",
        "print(arithmetic_arranger(a, True))\n",
        "print(arithmetic_arranger(a, 'abc'))\n",
        "print(arithmetic_arranger(a, 1))\n",
        "print(arithmetic_arranger(a, 0))\n",
        "print(arithmetic_arranger(a, False))\n",
        "print(arithmetic_arranger(a, 3256))\n",
        "print(arithmetic_arranger(a,a))\n",
        "print(arithmetic_arranger(a, [1,2,3]))\n",
        "print(arithmetic_arranger(a, {'a':1, 'b':2}))"
      ],
      "metadata": {
        "colab": {
          "base_uri": "https://localhost:8080/"
        },
        "id": "izFWFb6xMZjv",
        "outputId": "77edf6f1-0268-4d3b-f78d-98d7fb5a157c"
      },
      "execution_count": 6,
      "outputs": [
        {
          "output_type": "stream",
          "name": "stdout",
          "text": [
            "  11      3801      1\n",
            "+  4    - 2999    + 2\n",
            "----    ------    ---\n",
            "  11      3801      1\n",
            "+  4    - 2999    + 2\n",
            "----    ------    ---\n",
            "  15       802      3\n",
            "  11      3801      1\n",
            "+  4    - 2999    + 2\n",
            "----    ------    ---\n",
            "  11      3801      1\n",
            "+  4    - 2999    + 2\n",
            "----    ------    ---\n",
            "  15       802      3\n",
            "  11      3801      1\n",
            "+  4    - 2999    + 2\n",
            "----    ------    ---\n",
            "  11      3801      1\n",
            "+  4    - 2999    + 2\n",
            "----    ------    ---\n",
            "  11      3801      1\n",
            "+  4    - 2999    + 2\n",
            "----    ------    ---\n",
            "  11      3801      1\n",
            "+  4    - 2999    + 2\n",
            "----    ------    ---\n",
            "  11      3801      1\n",
            "+  4    - 2999    + 2\n",
            "----    ------    ---\n",
            "  11      3801      1\n",
            "+  4    - 2999    + 2\n",
            "----    ------    ---\n"
          ]
        }
      ]
    }
  ]
}