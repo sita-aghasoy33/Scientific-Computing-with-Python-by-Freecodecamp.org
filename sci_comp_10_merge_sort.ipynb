{
  "nbformat": 4,
  "nbformat_minor": 0,
  "metadata": {
    "colab": {
      "provenance": [],
      "authorship_tag": "ABX9TyMcs3NxGs5YP58pVtOKaEj/",
      "include_colab_link": true
    },
    "kernelspec": {
      "name": "python3",
      "display_name": "Python 3"
    },
    "language_info": {
      "name": "python"
    }
  },
  "cells": [
    {
      "cell_type": "markdown",
      "metadata": {
        "id": "view-in-github",
        "colab_type": "text"
      },
      "source": [
        "<a href=\"https://colab.research.google.com/github/sita-aghasoy33/Scientific-Computing-with-Python-by-Freecodecamp.org/blob/main/sci_comp_10_merge_sort.ipynb\" target=\"_parent\"><img src=\"https://colab.research.google.com/assets/colab-badge.svg\" alt=\"Open In Colab\"/></a>"
      ]
    },
    {
      "cell_type": "markdown",
      "source": [
        "# **Learn Data Structures by Building the Merge Sort Algorithm**\n",
        "\n",
        "[go to the task in official web-site: www.freecodecamp.org](https://www.freecodecamp.org/learn/scientific-computing-with-python/learn-data-structures-by-building-the-merge-sort-algorithm/)"
      ],
      "metadata": {
        "id": "kF26Y1bcqg_0"
      }
    },
    {
      "cell_type": "markdown",
      "source": [
        "# **About Merge Sort Algoritm**\n",
        "\n",
        "#### **Merge Sort - Overview**\n",
        "\n",
        "Merge Sort is a divide-and-conquer sorting algorithm that splits an array into smaller subarrays, sorts them, and then merges them back together in order. It is efficient and has a time complexity of O(n log n) in all cases.\n",
        "\n",
        "#### **How Merge Sort Works**\n",
        "\n",
        "1. **Divide:** Split the array into two halves recursively until each subarray contains a single element.\n",
        "2. **Conquer:** Sort each of the smaller subarrays (since single-element arrays are already sorted).\n",
        "3. **Merge:** Combine the sorted subarrays into larger sorted arrays until the full array is reassembled.\n",
        "\n",
        "**Time Complexity**\n",
        "* **Best Case:** *O(n log n)*\n",
        "* **Average Case:** *O(n log n)*\n",
        "* **Worst Case:** *O(n log n)*\n",
        "\n",
        "\n",
        "**Space Complexity**\n",
        "* O(n) due to the extra space required for merging.\n",
        "\n",
        "\n",
        "**Advantages**\n",
        "* ✔️ Stable Sorting Algorithm (Preserves the order of equal elements)\n",
        "* ✔️ Efficient for Large Data Sets\n",
        "* ✔️ Guaranteed O(n log n) Performance\n",
        "\n",
        "**Disadvantages**\n",
        "* ❌ Uses Extra Space (Not in-place sorting)\n",
        "* ❌ Slower for Small Arrays Compared to QuickSort"
      ],
      "metadata": {
        "id": "8ERK7Z2quKVs"
      }
    },
    {
      "cell_type": "code",
      "execution_count": 1,
      "metadata": {
        "id": "kyOKtK-jTeVc"
      },
      "outputs": [],
      "source": [
        "# @title **Merge Sort function final version**\n",
        "def merge_sort(array):\n",
        "    \"\"\"\n",
        "    Sorts the array in ascending order.\n",
        "\n",
        "    Args:\n",
        "        array (list): List to be sorted.\n",
        "\n",
        "    Returns:\n",
        "        list: Sorted list.\n",
        "    \"\"\"\n",
        "\n",
        "    if len(array) <= 1:\n",
        "        return\n",
        "\n",
        "    # find mid point of array\n",
        "    middle_point = len(array) // 2\n",
        "\n",
        "    # split array into two arrays with midpoints\n",
        "    left_part = array[:middle_point]\n",
        "    right_part = array[middle_point:]\n",
        "\n",
        "    # recursive call for left and right part\n",
        "    merge_sort(left_part)\n",
        "    merge_sort(right_part)\n",
        "\n",
        "    left_array_index = 0\n",
        "    right_array_index = 0\n",
        "    sorted_index = 0\n",
        "\n",
        "    # while there are elements in left part and right part, compare them and add to array\n",
        "    while left_array_index < len(left_part) and right_array_index < len(right_part):\n",
        "\n",
        "        # if the first element of left element is smaller add it\n",
        "        if left_part[left_array_index] < right_part[right_array_index]:\n",
        "            array[sorted_index] = left_part[left_array_index]\n",
        "            # increment the iteration variable in order to go to next element\n",
        "            left_array_index += 1\n",
        "\n",
        "        # if the first element of right element is smaller add it\n",
        "        else:\n",
        "            array[sorted_index] = right_part[right_array_index]\n",
        "            # increment the iteration variable in order to go to next element\n",
        "            right_array_index += 1\n",
        "\n",
        "        # increment the iteration variable in order to go to next element\n",
        "        sorted_index += 1\n",
        "\n",
        "    # if there are leftover elements in left part\n",
        "    while left_array_index < len(left_part):\n",
        "        # add them to the array\n",
        "        array[sorted_index] = left_part[left_array_index]\n",
        "        left_array_index += 1\n",
        "        sorted_index += 1\n",
        "\n",
        "    # if there are leftover elements in right part\n",
        "    while right_array_index < len(right_part):\n",
        "        # add them to the array\n",
        "        array[sorted_index] = right_part[right_array_index]\n",
        "        right_array_index += 1\n",
        "        sorted_index += 1"
      ]
    },
    {
      "cell_type": "code",
      "source": [
        "# @title ### Call the function with main()\n",
        "if __name__ == '__main__':\n",
        "    numbers = [4, 10, 6, 14, 2, 1, 8, 5]\n",
        "    print('Unsorted array: ')\n",
        "    print(numbers)\n",
        "    merge_sort(numbers)\n",
        "    print('Sorted array: '+str(numbers))"
      ],
      "metadata": {
        "colab": {
          "base_uri": "https://localhost:8080/"
        },
        "id": "ivO0oYUDTiHf",
        "outputId": "f6d47d65-7e57-43e4-cd8d-6ece31563e4c"
      },
      "execution_count": 5,
      "outputs": [
        {
          "output_type": "stream",
          "name": "stdout",
          "text": [
            "Unsorted array: \n",
            "[4, 10, 6, 14, 2, 1, 8, 5]\n",
            "Sorted array: [1, 2, 4, 5, 6, 8, 10, 14]\n"
          ]
        }
      ]
    },
    {
      "cell_type": "code",
      "source": [
        "# @title **Merge Function with print statement in order to understand algorithm**\n",
        "def merge_sort_try(array):\n",
        "    if len(array) <= 1:\n",
        "        return\n",
        "\n",
        "    # find mid point of array\n",
        "    middle_point = len(array) // 2\n",
        "\n",
        "    # split array into two arrays with midpoints\n",
        "    left_part = array[:middle_point]\n",
        "    right_part = array[middle_point:]\n",
        "\n",
        "    # recursive call for left and right part\n",
        "    merge_sort(left_part)\n",
        "    merge_sort(right_part)\n",
        "    print('left part', left_part)\n",
        "    print('right part', right_part)\n",
        "\n",
        "    left_array_index = 0\n",
        "    right_array_index = 0\n",
        "    sorted_index = 0\n",
        "\n",
        "    # while there are elements in left part and right part, compare them and add to array\n",
        "    while left_array_index < len(left_part) and right_array_index < len(right_part):\n",
        "\n",
        "        # if the first element of left element is smaller add it\n",
        "        if left_part[left_array_index] < right_part[right_array_index]:\n",
        "            array[sorted_index] = left_part[left_array_index]\n",
        "\n",
        "            print('left',left_array_index)\n",
        "            print('left sorted', sorted_index)\n",
        "            print('left element', left_part[left_array_index])\n",
        "            print('right element', right_part[right_array_index])\n",
        "\n",
        "            # increment the iteration variable in order to go to next element\n",
        "            left_array_index += 1\n",
        "\n",
        "        # if the first element of right element is smaller add it\n",
        "        else:\n",
        "            array[sorted_index] = right_part[right_array_index]\n",
        "\n",
        "            print('right', right_array_index)\n",
        "            print('right sorted', sorted_index)\n",
        "            print('left element', left_part[left_array_index])\n",
        "            print('right element', right_part[right_array_index])\n",
        "\n",
        "            # increment the iteration variable in order to go to next element\n",
        "            right_array_index += 1\n",
        "\n",
        "        print(\"final decision:\", array[sorted_index])\n",
        "        # increment the iteration variable in order to go to next element\n",
        "        sorted_index += 1\n",
        "\n",
        "    # if there are leftover elements in left part\n",
        "    while left_array_index < len(left_part):\n",
        "        # add them to the array\n",
        "        array[sorted_index] = left_part[left_array_index]\n",
        "        print(\"leftover left\", left_array_index, sorted_index)\n",
        "        print('left element', left_part[left_array_index])\n",
        "        left_array_index += 1\n",
        "        sorted_index += 1\n",
        "\n",
        "    # if there are leftover elements in right part\n",
        "    while right_array_index < len(right_part):\n",
        "        # add them to the array\n",
        "        array[sorted_index] = right_part[right_array_index]\n",
        "        print(\"leftover right\", right_array_index, sorted_index)\n",
        "        print('right element', right_part[right_array_index])\n",
        "        right_array_index += 1\n",
        "        sorted_index += 1\n",
        "    print(\"\")\n",
        "    print('final array', array)\n",
        "    print(\"\")"
      ],
      "metadata": {
        "id": "2q8618A8dQ-e"
      },
      "execution_count": 6,
      "outputs": []
    },
    {
      "cell_type": "code",
      "source": [
        "# @title ### Call the function with main()\n",
        "if __name__ == '__main__':\n",
        "    numbers1 = [4, 10, 6, 14, 2, 1, 8, 5]\n",
        "    merge_sort_try(numbers1)"
      ],
      "metadata": {
        "colab": {
          "base_uri": "https://localhost:8080/"
        },
        "id": "iTYQCBEjdljQ",
        "outputId": "38081187-2d5e-46c2-eafb-8fad426ec979"
      },
      "execution_count": 7,
      "outputs": [
        {
          "output_type": "stream",
          "name": "stdout",
          "text": [
            "left part [4, 6, 10, 14]\n",
            "right part [1, 2, 5, 8]\n",
            "right 0\n",
            "right sorted 0\n",
            "left element 4\n",
            "right element 1\n",
            "final decision: 1\n",
            "right 1\n",
            "right sorted 1\n",
            "left element 4\n",
            "right element 2\n",
            "final decision: 2\n",
            "left 0\n",
            "left sorted 2\n",
            "left element 4\n",
            "right element 5\n",
            "final decision: 4\n",
            "right 2\n",
            "right sorted 3\n",
            "left element 6\n",
            "right element 5\n",
            "final decision: 5\n",
            "left 1\n",
            "left sorted 4\n",
            "left element 6\n",
            "right element 8\n",
            "final decision: 6\n",
            "right 3\n",
            "right sorted 5\n",
            "left element 10\n",
            "right element 8\n",
            "final decision: 8\n",
            "leftover left 2 6\n",
            "left element 10\n",
            "leftover left 3 7\n",
            "left element 14\n",
            "\n",
            "final array [1, 2, 4, 5, 6, 8, 10, 14]\n",
            "\n"
          ]
        }
      ]
    }
  ]
}