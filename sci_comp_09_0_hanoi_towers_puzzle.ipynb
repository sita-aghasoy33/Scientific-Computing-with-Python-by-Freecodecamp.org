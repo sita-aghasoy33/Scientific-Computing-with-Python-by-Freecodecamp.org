{
  "nbformat": 4,
  "nbformat_minor": 0,
  "metadata": {
    "colab": {
      "provenance": [],
      "authorship_tag": "ABX9TyM2cncvOtFg3DzsqrTBxIRo",
      "include_colab_link": true
    },
    "kernelspec": {
      "name": "python3",
      "display_name": "Python 3"
    },
    "language_info": {
      "name": "python"
    }
  },
  "cells": [
    {
      "cell_type": "markdown",
      "metadata": {
        "id": "view-in-github",
        "colab_type": "text"
      },
      "source": [
        "<a href=\"https://colab.research.google.com/github/sita-aghasoy33/Scientific-Computing-with-Python-by-Freecodecamp.org/blob/main/sci_comp_9_0_hanoi_towers_puzzle.ipynb\" target=\"_parent\"><img src=\"https://colab.research.google.com/assets/colab-badge.svg\" alt=\"Open In Colab\"/></a>"
      ]
    },
    {
      "cell_type": "markdown",
      "source": [
        "# **9. Learn Recursion by Solving the Tower of Hanoi Puzzle**\n",
        "\n",
        "[go to the task in official web-site: www.freecodecamp.org](https://www.freecodecamp.org/learn/scientific-computing-with-python/learn-recursion-by-solving-the-tower-of-hanoi-puzzle/)"
      ],
      "metadata": {
        "id": "YDK80tdqR0uL"
      }
    },
    {
      "cell_type": "markdown",
      "source": [
        "## **About Recursion**\n",
        "\n",
        "Recursion is a programming technique where a function calls itself to solve smaller instances of the same problem. This approach is particularly useful for problems that can be divided into similar subproblems, each of which can be solved independently and combined to form a solution to the original problem."
      ],
      "metadata": {
        "id": "HB46fw_SSHYJ"
      }
    },
    {
      "cell_type": "markdown",
      "source": [
        "## **About Hanoi Towers Puzzle**\n",
        "\n",
        "The Tower of Hanoi is a classic problem that involves moving a stack of disks from one peg to another. The puzzle consists of three rods and several disks of different diameters.\n",
        "\n",
        "The goal of this puzzle is to move the disks from the first rod to the third rod, subjected to the following constraints:\n",
        "\n",
        "Only one disk can be moved at a time.\n",
        "A larger disk cannot be placed on top of a smaller disk.\n",
        "This recursive approach ensures that each step of the puzzle is handled correctly, breaking down the problem into smaller and smaller subproblems until the base case is reached. Thus, the Tower of Hanoi is a clear and classic example of how recursion can simplify and solve complex problems.\n",
        "\n",
        " [Play Hanoi Towers Game!](https://www.mathsisfun.com/games/towerofhanoi.html)"
      ],
      "metadata": {
        "id": "l3zt1yv1JekG"
      }
    },
    {
      "cell_type": "markdown",
      "source": [],
      "metadata": {
        "id": "FhKPs3c0SV0u"
      }
    },
    {
      "cell_type": "markdown",
      "source": [
        "### **.pop() method**\n",
        "\n",
        "This method used for lists and sets. For list it eliminates the element with given index as argument. If no argument is given, it eliminates last element, if no argument is given. For sets, it eliminates a random element.\n",
        "\n",
        "\".pop()\" is a bit special, because it also **returns** eliminated element of list or set. So you can assign it to a variable or use directly in other operation.\n",
        "\n",
        "Alike with \".append()\" \".pop()\" changes the original object, so no need to assign variable again to save new list."
      ],
      "metadata": {
        "id": "5yITwqkBScZm"
      }
    },
    {
      "cell_type": "code",
      "source": [
        "# as .pop() method eliminates the last element by default\n",
        "# the three pieces of code below do the same thing.\n",
        "\n",
        "temp_list = ['a', 'b', 'c']\n",
        "_var = temp_list.pop(-1)\n",
        "print(\"type of eliminated element:\", type(_var))\n",
        "print(\"list after change:\", temp_list)\n",
        "print(\"eliminated element:\", _var)\n",
        "\n",
        "\n",
        "print(\"\\n\")\n",
        "\n",
        "temp_list = ['a', 'b', 'c']\n",
        "_var = temp_list.pop()\n",
        "print(\"type of eliminated element:\", type(_var))\n",
        "print(\"list after change:\", temp_list)\n",
        "print(\"eliminated element:\", _var)\n",
        "\n",
        "\n",
        "print(\"\\n\")\n",
        "\n",
        "temp_list = ['a', 'b', 'c']\n",
        "_var = temp_list.pop(len(temp_list)-1)\n",
        "print(\"type of eliminated element:\", type(_var))\n",
        "print(\"list after change:\", temp_list)\n",
        "print(\"eliminated element:\", _var)"
      ],
      "metadata": {
        "colab": {
          "base_uri": "https://localhost:8080/"
        },
        "id": "OA9JPPijOiHY",
        "outputId": "1eb724f3-9ac6-456f-f5d8-3455e45c84f5"
      },
      "execution_count": null,
      "outputs": [
        {
          "output_type": "stream",
          "name": "stdout",
          "text": [
            "type of eliminated element: <class 'str'>\n",
            "list after change: ['a', 'b']\n",
            "eliminated element: c\n",
            "\n",
            "\n",
            "type of eliminated element: <class 'str'>\n",
            "list after change: ['a', 'b']\n",
            "eliminated element: c\n",
            "\n",
            "\n",
            "type of eliminated element: <class 'str'>\n",
            "list after change: ['a', 'b']\n",
            "eliminated element: c\n"
          ]
        }
      ]
    },
    {
      "cell_type": "code",
      "source": [
        "# @title **Hanoi Towers puzzle solution for only *odd number* of disks**\n",
        "NUMBER_OF_DISKS = 4\n",
        "number_of_moves = 2**NUMBER_OF_DISKS - 1\n",
        "rods = {\n",
        "    'A': list(range(NUMBER_OF_DISKS, 0, -1)),\n",
        "    'B': [],\n",
        "    'C': []\n",
        "}\n",
        "\n",
        "def make_allowed_move(rod1, rod2):\n",
        "    forward = False\n",
        "    if not rods[rod2]:\n",
        "        forward = True\n",
        "    elif rods[rod1] and rods[rod1][-1] < rods[rod2][-1]:\n",
        "        forward = True\n",
        "\n",
        "    if forward:\n",
        "        print(f'Moving disk {rods[rod1][-1]} from {rod1} to {rod2}')\n",
        "        rods[rod2].append(rods[rod1].pop())\n",
        "    else:\n",
        "        print(f'Moving disk {rods[rod2][-1]} from {rod2} to {rod1}')\n",
        "        rods[rod1].append(rods[rod2].pop())\n",
        "\n",
        "    # display our progress\n",
        "    print(rods, '\\n')\n",
        "\n",
        "def move(n, source, auxiliary, target):\n",
        "    # display starting configuration\n",
        "    print(rods, '\\n')\n",
        "    for i in range(number_of_moves):\n",
        "        remainder = (i + 1) % 3\n",
        "        if remainder == 1:\n",
        "            print(f'Move {i + 1} allowed between {source} and {target}')\n",
        "            make_allowed_move(source, target)\n",
        "        elif remainder == 2:\n",
        "            print(f'Move {i + 1} allowed between {source} and {auxiliary}')\n",
        "            make_allowed_move(source, auxiliary)\n",
        "        elif remainder == 0:\n",
        "            print(f'Move {i + 1} allowed between {auxiliary} and {target}')\n",
        "            make_allowed_move(auxiliary, target)\n",
        "\n",
        "# initiate call from source A to target C with auxiliary B\n",
        "move(NUMBER_OF_DISKS, 'A', 'B', 'C')"
      ],
      "metadata": {
        "colab": {
          "base_uri": "https://localhost:8080/"
        },
        "id": "J9ZLEVOoLRkw",
        "outputId": "c95ce2d0-a270-4864-cb8b-1d6111fa78ad",
        "collapsed": true
      },
      "execution_count": null,
      "outputs": [
        {
          "output_type": "stream",
          "name": "stdout",
          "text": [
            "{'A': [4, 3, 2, 1], 'B': [], 'C': []} \n",
            "\n",
            "Move 1 allowed between A and C\n",
            "Moving disk 1 from A to C\n",
            "{'A': [4, 3, 2], 'B': [], 'C': [1]} \n",
            "\n",
            "Move 2 allowed between A and B\n",
            "Moving disk 2 from A to B\n",
            "{'A': [4, 3], 'B': [2], 'C': [1]} \n",
            "\n",
            "Move 3 allowed between B and C\n",
            "Moving disk 1 from C to B\n",
            "{'A': [4, 3], 'B': [2, 1], 'C': []} \n",
            "\n",
            "Move 4 allowed between A and C\n",
            "Moving disk 3 from A to C\n",
            "{'A': [4], 'B': [2, 1], 'C': [3]} \n",
            "\n",
            "Move 5 allowed between A and B\n",
            "Moving disk 1 from B to A\n",
            "{'A': [4, 1], 'B': [2], 'C': [3]} \n",
            "\n",
            "Move 6 allowed between B and C\n",
            "Moving disk 2 from B to C\n",
            "{'A': [4, 1], 'B': [], 'C': [3, 2]} \n",
            "\n",
            "Move 7 allowed between A and C\n",
            "Moving disk 1 from A to C\n",
            "{'A': [4], 'B': [], 'C': [3, 2, 1]} \n",
            "\n",
            "Move 8 allowed between A and B\n",
            "Moving disk 4 from A to B\n",
            "{'A': [], 'B': [4], 'C': [3, 2, 1]} \n",
            "\n",
            "Move 9 allowed between B and C\n",
            "Moving disk 1 from C to B\n",
            "{'A': [], 'B': [4, 1], 'C': [3, 2]} \n",
            "\n",
            "Move 10 allowed between A and C\n",
            "Moving disk 2 from C to A\n",
            "{'A': [2], 'B': [4, 1], 'C': [3]} \n",
            "\n",
            "Move 11 allowed between A and B\n",
            "Moving disk 1 from B to A\n",
            "{'A': [2, 1], 'B': [4], 'C': [3]} \n",
            "\n",
            "Move 12 allowed between B and C\n",
            "Moving disk 3 from C to B\n",
            "{'A': [2, 1], 'B': [4, 3], 'C': []} \n",
            "\n",
            "Move 13 allowed between A and C\n",
            "Moving disk 1 from A to C\n",
            "{'A': [2], 'B': [4, 3], 'C': [1]} \n",
            "\n",
            "Move 14 allowed between A and B\n",
            "Moving disk 2 from A to B\n",
            "{'A': [], 'B': [4, 3, 2], 'C': [1]} \n",
            "\n",
            "Move 15 allowed between B and C\n",
            "Moving disk 1 from C to B\n",
            "{'A': [], 'B': [4, 3, 2, 1], 'C': []} \n",
            "\n"
          ]
        }
      ]
    },
    {
      "cell_type": "markdown",
      "source": [
        "The function above cannot handle the even number of disks. For the odd number of disks we move upmost smallest disk from source to target in the first move. But for the even number of disks, we should make first move from source to auxiliary."
      ],
      "metadata": {
        "id": "QP-MaVqoMuEA"
      }
    },
    {
      "cell_type": "code",
      "source": [
        "# @title **Define function to solve Hanoi Tower puzzle for any given number of disks**\n",
        "\n",
        "NUMBER_OF_DISKS = 4\n",
        "number_of_moves = 2 ** NUMBER_OF_DISKS - 1\n",
        "rods = {\n",
        "    'A': list(range(NUMBER_OF_DISKS, 0, -1)),\n",
        "    'B': [],\n",
        "    'C': []\n",
        "}\n",
        "\n",
        "def make_allowed_move(rod1, rod2):\n",
        "    \"\"\"\n",
        "    Makes moves between rods of Hanoi Towers puzzle. (changes original lists)\n",
        "\n",
        "    Args:\n",
        "      rod1 (str): Name of the first rod.\n",
        "      rod2 (str): Name of the second rod.\n",
        "\n",
        "    Returns:\n",
        "      None (changes original lists and prints out result.)\n",
        "\n",
        "    Raises:\n",
        "      AttributeError: if dict values are not keys.\n",
        "    \"\"\"\n",
        "    forward = False\n",
        "    if not rods[rod2]:\n",
        "        forward = True # if rod2 is empty, go forward\n",
        "    elif rods[rod1] and rods[rod1][-1] < rods[rod2][-1]:\n",
        "        forward = True # if upper disk in rods1 is smaller than upper disk of rods2, go forward\n",
        "\n",
        "    if forward: # if forward is True, move disk from rods1 to rods2\n",
        "        print(f'Moving disk {rods[rod1][-1]} from {rod1} to {rod2}')\n",
        "        rods[rod2].append(rods[rod1].pop())\n",
        "    else: # if forward is False, move disk from rods2 to rods1\n",
        "        print(f'Moving disk {rods[rod2][-1]} from {rod2} to {rod1}')\n",
        "        rods[rod1].append(rods[rod2].pop())\n",
        "\n",
        "    # display our progress\n",
        "    print(rods, '\\n')\n",
        "\n",
        "def move(n, source, auxiliary, target):\n",
        "    \"\"\"\n",
        "    Iterative function to solve the Hanoi Towers puzzle.\n",
        "\n",
        "    Args:\n",
        "      n (int): Number of disks to move.\n",
        "      source (str): Name of the source rod.\n",
        "      auxiliary (str): Name of the auxiliary rod.\n",
        "      target (str): Name of the target rod.\n",
        "\n",
        "    Returns:\n",
        "      None (prints out starting state and each move)\n",
        "\n",
        "    Raises:\n",
        "      TypeError: if 'n' is not integer\n",
        "      RecursionError: if 'n' is negative\n",
        "      AttributeError: if 'source', 'auxiliary', or 'target' is not a string\n",
        "\n",
        "    Examples:\n",
        "      >>> move(5, 'A', 'B', 'C')\n",
        "\n",
        "      {'A': [5, 4, 3, 2, 1], 'B': [], 'C': []}\n",
        "\n",
        "      Move 1 allowed between A and C\n",
        "      Moving disk 1 from A to C\n",
        "      {'A': [5, 4, 3, 2], 'B': [], 'C': [1]}\n",
        "\n",
        "      Move 2 allowed between A and B\n",
        "      Moving disk 2 from A to B\n",
        "      {'A': [5, 4, 3], 'B': [2], 'C': [1]}\n",
        "\n",
        "      ...\n",
        "\n",
        "    \"\"\"\n",
        "    # display starting configuration\n",
        "    print(rods, '\\n')\n",
        "    for i in range(number_of_moves):\n",
        "        remainder = (i + 1) % 3\n",
        "        if remainder == 1: # for 1st move...\n",
        "            if n % 2 != 0: # ...for odd number of disks...\n",
        "                print(f'Move {i + 1} allowed between {source} and {target}')\n",
        "                make_allowed_move(source, target) #...upper disk moves to target from source\n",
        "            else: # for even number of disks...\n",
        "                print(f'Move {i + 1} allowed between {source} and {auxiliary}')\n",
        "                make_allowed_move(source, auxiliary) #...upper disk moves to auxiliary from source\n",
        "        elif remainder == 2: # for 2nd move...\n",
        "            if n % 2 != 0: # ...for odd number of disks...\n",
        "                print(f'Move {i + 1} allowed between {source} and {auxiliary}')\n",
        "                make_allowed_move(source, auxiliary) #...upper disk moves to auxiliary from source\n",
        "            else: # for even number of disks...\n",
        "                print(f'Move {i + 1} allowed between {source} and {target}')\n",
        "                make_allowed_move(source, target) #...upper disk moves to target from source\n",
        "        elif remainder == 0: # for 3rd move...\n",
        "            print(f'Move {i + 1} allowed between {auxiliary} and {target}')\n",
        "            make_allowed_move(auxiliary, target) # ...upper disk moves to target from auxiliary\n",
        "\n",
        "# initiate call from source A to target C with auxiliary B\n",
        "move(NUMBER_OF_DISKS, 'A', 'B', 'C')"
      ],
      "metadata": {
        "colab": {
          "base_uri": "https://localhost:8080/"
        },
        "id": "FRMWKWaHsl1t",
        "outputId": "e7968cd3-ad5c-4392-df88-0371e30320cc",
        "collapsed": true
      },
      "execution_count": null,
      "outputs": [
        {
          "output_type": "stream",
          "name": "stdout",
          "text": [
            "{'A': [4, 3, 2, 1], 'B': [], 'C': []} \n",
            "\n",
            "Move 1 allowed between A and B\n",
            "Moving disk 1 from A to B\n",
            "{'A': [4, 3, 2], 'B': [1], 'C': []} \n",
            "\n",
            "Move 2 allowed between A and C\n",
            "Moving disk 2 from A to C\n",
            "{'A': [4, 3], 'B': [1], 'C': [2]} \n",
            "\n",
            "Move 3 allowed between B and C\n",
            "Moving disk 1 from B to C\n",
            "{'A': [4, 3], 'B': [], 'C': [2, 1]} \n",
            "\n",
            "Move 4 allowed between A and B\n",
            "Moving disk 3 from A to B\n",
            "{'A': [4], 'B': [3], 'C': [2, 1]} \n",
            "\n",
            "Move 5 allowed between A and C\n",
            "Moving disk 1 from C to A\n",
            "{'A': [4, 1], 'B': [3], 'C': [2]} \n",
            "\n",
            "Move 6 allowed between B and C\n",
            "Moving disk 2 from C to B\n",
            "{'A': [4, 1], 'B': [3, 2], 'C': []} \n",
            "\n",
            "Move 7 allowed between A and B\n",
            "Moving disk 1 from A to B\n",
            "{'A': [4], 'B': [3, 2, 1], 'C': []} \n",
            "\n",
            "Move 8 allowed between A and C\n",
            "Moving disk 4 from A to C\n",
            "{'A': [], 'B': [3, 2, 1], 'C': [4]} \n",
            "\n",
            "Move 9 allowed between B and C\n",
            "Moving disk 1 from B to C\n",
            "{'A': [], 'B': [3, 2], 'C': [4, 1]} \n",
            "\n",
            "Move 10 allowed between A and B\n",
            "Moving disk 2 from B to A\n",
            "{'A': [2], 'B': [3], 'C': [4, 1]} \n",
            "\n",
            "Move 11 allowed between A and C\n",
            "Moving disk 1 from C to A\n",
            "{'A': [2, 1], 'B': [3], 'C': [4]} \n",
            "\n",
            "Move 12 allowed between B and C\n",
            "Moving disk 3 from B to C\n",
            "{'A': [2, 1], 'B': [], 'C': [4, 3]} \n",
            "\n",
            "Move 13 allowed between A and B\n",
            "Moving disk 1 from A to B\n",
            "{'A': [2], 'B': [1], 'C': [4, 3]} \n",
            "\n",
            "Move 14 allowed between A and C\n",
            "Moving disk 2 from A to C\n",
            "{'A': [], 'B': [1], 'C': [4, 3, 2]} \n",
            "\n",
            "Move 15 allowed between B and C\n",
            "Moving disk 1 from B to C\n",
            "{'A': [], 'B': [], 'C': [4, 3, 2, 1]} \n",
            "\n"
          ]
        }
      ]
    },
    {
      "cell_type": "code",
      "source": [
        "# @title **Hanoi Tower solution with recursive function**\n",
        "NUMBER_OF_DISKS = 5\n",
        "A = list(range(NUMBER_OF_DISKS, 0, -1))\n",
        "B = []\n",
        "C = []\n",
        "\n",
        "def move(n, source, auxiliary, target):\n",
        "    \"\"\"\n",
        "    Recursive function to solve the Hanoi Towers puzzle.\n",
        "\n",
        "    Args:\n",
        "      n (int): Number of disks to move.\n",
        "      source (list): List representing the source rod.\n",
        "      auxiliary (list): List representing the auxiliary rod.\n",
        "      target (list): List representing the target rod.\n",
        "\n",
        "    Returns:\n",
        "      None\n",
        "\n",
        "    Raises:\n",
        "      TypeError: if 'n' is not integer\n",
        "      RecursionError: if 'n' is negative\n",
        "      AttributeError: if 'source', 'auxiliary', or 'target' is not a list\n",
        "\n",
        "    Examples:\n",
        "      >>> move(5, A, B, C)\n",
        "\n",
        "    [5, 4, 3, 2] [] [1]\n",
        "\n",
        "    [5, 4, 3] [2] [1]\n",
        "\n",
        "    [5, 4, 3] [2, 1] []\n",
        "\n",
        "    ...\n",
        "\n",
        "    \"\"\"\n",
        "    if n == 0:\n",
        "        return\n",
        "    move(n-1, source, target, auxiliary)\n",
        "    target.append(source.pop())\n",
        "\n",
        "    print(A, B, C, '\\n')\n",
        "    move(n-1, auxiliary, source, target)\n",
        "\n",
        "\n",
        "move(NUMBER_OF_DISKS, A, B, C)"
      ],
      "metadata": {
        "colab": {
          "base_uri": "https://localhost:8080/"
        },
        "collapsed": true,
        "id": "ddtVMb3f7LEV",
        "outputId": "c5d5f527-9be0-4bd6-b5be-905f8dee935b"
      },
      "execution_count": null,
      "outputs": [
        {
          "output_type": "stream",
          "name": "stdout",
          "text": [
            "[5, 4, 3, 2] [] [1] \n",
            "\n",
            "[5, 4, 3] [2] [1] \n",
            "\n",
            "[5, 4, 3] [2, 1] [] \n",
            "\n",
            "[5, 4] [2, 1] [3] \n",
            "\n",
            "[5, 4, 1] [2] [3] \n",
            "\n",
            "[5, 4, 1] [] [3, 2] \n",
            "\n",
            "[5, 4] [] [3, 2, 1] \n",
            "\n",
            "[5] [4] [3, 2, 1] \n",
            "\n",
            "[5] [4, 1] [3, 2] \n",
            "\n",
            "[5, 2] [4, 1] [3] \n",
            "\n",
            "[5, 2, 1] [4] [3] \n",
            "\n",
            "[5, 2, 1] [4, 3] [] \n",
            "\n",
            "[5, 2] [4, 3] [1] \n",
            "\n",
            "[5] [4, 3, 2] [1] \n",
            "\n",
            "[5] [4, 3, 2, 1] [] \n",
            "\n",
            "[] [4, 3, 2, 1] [5] \n",
            "\n",
            "[1] [4, 3, 2] [5] \n",
            "\n",
            "[1] [4, 3] [5, 2] \n",
            "\n",
            "[] [4, 3] [5, 2, 1] \n",
            "\n",
            "[3] [4] [5, 2, 1] \n",
            "\n",
            "[3] [4, 1] [5, 2] \n",
            "\n",
            "[3, 2] [4, 1] [5] \n",
            "\n",
            "[3, 2, 1] [4] [5] \n",
            "\n",
            "[3, 2, 1] [] [5, 4] \n",
            "\n",
            "[3, 2] [] [5, 4, 1] \n",
            "\n",
            "[3] [2] [5, 4, 1] \n",
            "\n",
            "[3] [2, 1] [5, 4] \n",
            "\n",
            "[] [2, 1] [5, 4, 3] \n",
            "\n",
            "[1] [2] [5, 4, 3] \n",
            "\n",
            "[1] [] [5, 4, 3, 2] \n",
            "\n",
            "[] [] [5, 4, 3, 2, 1] \n",
            "\n"
          ]
        }
      ]
    },
    {
      "cell_type": "code",
      "source": [
        "move.__doc__"
      ],
      "metadata": {
        "colab": {
          "base_uri": "https://localhost:8080/",
          "height": 122
        },
        "id": "15YlrfxsOyIE",
        "outputId": "18fe0b90-256f-4b98-b755-4e991d2871b1"
      },
      "execution_count": null,
      "outputs": [
        {
          "output_type": "execute_result",
          "data": {
            "text/plain": [
              "\"\\n    Iterative function to solve the Hanoi Towers puzzle.\\n\\n    Args:\\n      n (int): Number of disks to move.\\n      source (str): Name of the source rod.\\n      auxiliary (str): Name of the auxiliary rod.\\n      target (str): Name of the target rod.\\n\\n    Returns:\\n      None (prints out starting state and each move)\\n\\n    Raises:\\n      TypeError: if 'n' is not integer\\n      RecursionError: if 'n' is negative\\n      AttributeError: if 'source', 'auxiliary', or 'target' is not a string\\n    \\n    Examples:\\n      >>> move(5, 'A', 'B', 'C')\\n\\n      {'A': [5, 4, 3, 2, 1], 'B': [], 'C': []} \\n\\n      Move 1 allowed between A and C\\n      Moving disk 1 from A to C\\n      {'A': [5, 4, 3, 2], 'B': [], 'C': [1]} \\n\\n      Move 2 allowed between A and B\\n      Moving disk 2 from A to B\\n      {'A': [5, 4, 3], 'B': [2], 'C': [1]} \\n\\n      ...\\n\\n    \""
            ],
            "application/vnd.google.colaboratory.intrinsic+json": {
              "type": "string"
            }
          },
          "metadata": {},
          "execution_count": 5
        }
      ]
    },
    {
      "cell_type": "code",
      "source": [
        "help(move)"
      ],
      "metadata": {
        "colab": {
          "base_uri": "https://localhost:8080/"
        },
        "id": "suQ8hg2VAWtc",
        "outputId": "c32b7512-5265-4053-d0f9-d52c5b31932a"
      },
      "execution_count": null,
      "outputs": [
        {
          "output_type": "stream",
          "name": "stdout",
          "text": [
            "Help on function move in module __main__:\n",
            "\n",
            "move(n, source, auxiliary, target)\n",
            "    Iterative function to solve the Hanoi Towers puzzle.\n",
            "    \n",
            "    Args:\n",
            "      n (int): Number of disks to move.\n",
            "      source (str): Name of the source rod.\n",
            "      auxiliary (str): Name of the auxiliary rod.\n",
            "      target (str): Name of the target rod.\n",
            "    \n",
            "    Returns:\n",
            "      None (prints out starting state and each move)\n",
            "    \n",
            "    Raises:\n",
            "      TypeError: if 'n' is not integer\n",
            "      RecursionError: if 'n' is negative\n",
            "      AttributeError: if 'source', 'auxiliary', or 'target' is not a string\n",
            "    \n",
            "    Examples:\n",
            "      >>> move(5, 'A', 'B', 'C')\n",
            "    \n",
            "      {'A': [5, 4, 3, 2, 1], 'B': [], 'C': []} \n",
            "    \n",
            "      Move 1 allowed between A and C\n",
            "      Moving disk 1 from A to C\n",
            "      {'A': [5, 4, 3, 2], 'B': [], 'C': [1]} \n",
            "    \n",
            "      Move 2 allowed between A and B\n",
            "      Moving disk 2 from A to B\n",
            "      {'A': [5, 4, 3], 'B': [2], 'C': [1]} \n",
            "    \n",
            "      ...\n",
            "\n"
          ]
        }
      ]
    }
  ]
}
