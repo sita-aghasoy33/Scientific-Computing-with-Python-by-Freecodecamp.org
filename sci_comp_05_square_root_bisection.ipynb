{
  "nbformat": 4,
  "nbformat_minor": 0,
  "metadata": {
    "colab": {
      "provenance": []
    },
    "kernelspec": {
      "name": "python3",
      "display_name": "Python 3"
    },
    "language_info": {
      "name": "python"
    }
  },
  "cells": [
    {
      "cell_type": "markdown",
      "source": [
        "# **5. Learn the Bisection Method by Finding the Square Root of a Number**\n",
        "\n",
        "[go to the task in official web-site: www.freecodecamp.org](https://www.freecodecamp.org/learn/scientific-computing-with-python/learn-the-bisection-method-by-finding-the-square-root-of-a-number/)"
      ],
      "metadata": {
        "id": "4Ae_R7docJAM"
      }
    },
    {
      "cell_type": "markdown",
      "source": [
        "# **About function**\n",
        "\n",
        "Numerical analysis is essential in scientific computing for solving equations where analytical solutions are not feasible.\n",
        "\n",
        "This project introduces numerical analysis by finding the square root of a number using the bisection method- a straightforward iterative technique to approximate solutions to problems that are difficult to solve analytically.\n",
        "\n",
        "By setting an initial range and iteratively narrowing it down based on midpoints, the code converges on an approximate value for the square root. This approach emphasizes the importance of iterative methods and tolerance levels in numerical computations.\n",
        "\n",
        "Core concepts taught in this project include the implementation of the bisection method, handling edge cases, and understanding convergence criteria in numerical algorithms."
      ],
      "metadata": {
        "id": "lHu5jrfrdFoy"
      }
    },
    {
      "cell_type": "code",
      "execution_count": 5,
      "metadata": {
        "id": "G9kJvZCWZGWa"
      },
      "outputs": [],
      "source": [
        "# define a function that calculates square root of given number with 1e-7 tolerance\n",
        "def square_root_bisection(square_target, tolerance=1e-7, max_iterations=100):\n",
        "    \"\"\"\n",
        "    Calculate the square root of a given number using the bisection method.\n",
        "\n",
        "    Args:\n",
        "        square_target (float): The number whose square root is to be calculated.\n",
        "        tolerance (float, optional): The desired tolerance for the square root. Defaults to 1e-7.\n",
        "        max_iterations (int, optional): The maximum number of iterations allowed. Defaults to 100.\n",
        "\n",
        "    Returns:\n",
        "        float: The square root of the given number with 1e-7 tolerance.\n",
        "\n",
        "    Raises:\n",
        "        ValueError: If the square root of a negative number is not defined in real numbers.\n",
        "        TypeError: If the input arguments are not of the correct type or missing.\n",
        "\n",
        "    Examples:\n",
        "        >>> square_root_bisection(16)\n",
        "        The square root of 16 is approximately 4.0\n",
        "        4.0\n",
        "    \"\"\"\n",
        "\n",
        "    # if the input value 'square_target' is negative, raise ValueError\n",
        "    if square_target < 0:\n",
        "        raise ValueError('Square root of negative number is not defined in real numbers')\n",
        "\n",
        "    # if the input value 'square_target' equals 1, then the root is 1\n",
        "    if square_target == 1:\n",
        "        root = 1\n",
        "        print(f'The square root of {square_target} is 1')\n",
        "    # if the input value 'square_target' equals 0, the root is 0\n",
        "    elif square_target == 0:\n",
        "        root = 0\n",
        "        print(f'The square root of {square_target} is 0')\n",
        "    # for all other cases, calculate square root of 'square_target' iteratively\n",
        "    # if 'square_target' is larger than 1, take average of 0 and sqaure_target itself\n",
        "    # if 'square_target' is smaller than 1, take the average of 0 and 1.\n",
        "    else:\n",
        "        low = 0\n",
        "        high = max(1, square_target)\n",
        "        root = None # assign default None to 'root'\n",
        "\n",
        "        # continue the process until...\n",
        "\n",
        "        for _ in range(max_iterations): # ...the hundredth iteration or...\n",
        "            mid = (low + high) / 2\n",
        "            square_mid = mid**2\n",
        "\n",
        "            # ...the squared 'root' - 'square_target is lower than 1e-7 ('tolerance')\n",
        "            if abs(square_mid - square_target) < tolerance:\n",
        "                root = mid\n",
        "                break\n",
        "            # if the guessed number sqaured is lower than actual 'square_target',\n",
        "            elif square_mid < square_target:\n",
        "                low = mid      # assign mid value as lower bound\n",
        "            # if the guessed value squared is higher than actual 'square_target',\n",
        "            else:\n",
        "                high = mid     # assign mid value as higher bound\n",
        "\n",
        "        # if even after 100th trial, the root has not been found wtih 1e-7 accuracy\n",
        "        # the 'root' variable remains None...\n",
        "        if root is None:\n",
        "            print(f\"Failed to converge within {max_iterations} iterations.\")\n",
        "            # ...and it means we have failed to find it with 100 iterations\n",
        "        # if the root has been found, print out the success message.\n",
        "        else:\n",
        "            print(f'The square root of {square_target} is approximately {root}')\n",
        "    # return the root value as float\n",
        "    return root"
      ]
    },
    {
      "cell_type": "code",
      "source": [
        "# define main() function\n",
        "def main():\n",
        "  N = 16\n",
        "  square_root_bisection(N)\n",
        "\n",
        "# call main() function\n",
        "if __name__ == '__main__':\n",
        "  main()"
      ],
      "metadata": {
        "id": "1bN0ngLTZYyg"
      },
      "execution_count": null,
      "outputs": []
    }
  ]
}
