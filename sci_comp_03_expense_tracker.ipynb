{
  "nbformat": 4,
  "nbformat_minor": 0,
  "metadata": {
    "colab": {
      "provenance": []
    },
    "kernelspec": {
      "name": "python3",
      "display_name": "Python 3"
    },
    "language_info": {
      "name": "python"
    }
  },
  "cells": [
    {
      "cell_type": "markdown",
      "source": [
        "# **3. Learn Lambda Functions by Building an Expense Tracker**\n",
        "\n",
        "[go to the task in official web-site: www.freecodecamp.org](https://www.freecodecamp.org/learn/scientific-computing-with-python/learn-lambda-functions-by-building-an-expense-tracker/)"
      ],
      "metadata": {
        "id": "v3oV_Gureo7e"
      }
    },
    {
      "cell_type": "markdown",
      "source": [
        "# **Expense Tracker**\n",
        "\n",
        "It is simple command-line tool to manage your expenses. This task focused on using anonymous functions (with other name it is called *'lambda functions'*\n",
        ") with **'lambda' keyword** and apply it to the lists with **'map()' function**.\n",
        "\n",
        "The final script allows you to:\n",
        "1. Add an expense\n",
        "2. List all expenses\n",
        "3. Show total expenses\n",
        "4. Filter expenses by category\n",
        "5. Exit\n",
        "\n",
        "Happy Coding!"
      ],
      "metadata": {
        "id": "G2rPuMnafwrP"
      }
    },
    {
      "cell_type": "code",
      "source": [
        "# Define a function to add expenses to the expense list\n",
        "def add_expense(expenses, amount, category):\n",
        "    \"\"\"\n",
        "    Add an expense to the list of expenses.\n",
        "\n",
        "    Args:\n",
        "        expenses (list): List of expenses.\n",
        "        amount (float): The amount of the expense.\n",
        "        category (str): The category of the expense.\n",
        "\n",
        "    Returns:\n",
        "        nothing\n",
        "\n",
        "    Raises:\n",
        "        AttributeError: If 'expenses' variable is not list.\n",
        "        TypeError: If missing a required argument.\n",
        "\n",
        "    Examples:\n",
        "        >>> add_expense(expenses = [], amount = 10, category = 'food')\n",
        "        [{'amount': 10, 'category': 'food'}]\n",
        "\n",
        "    \"\"\"\n",
        "\n",
        "    # add expense to the list with its amount and category\n",
        "    expenses.append({'amount': amount, 'category': category})\n",
        "\n"
      ],
      "metadata": {
        "id": "5oI-5EBolDZY"
      },
      "execution_count": 15,
      "outputs": []
    },
    {
      "cell_type": "code",
      "source": [],
      "metadata": {
        "id": "FyR9JNlwF5IO"
      },
      "execution_count": null,
      "outputs": []
    },
    {
      "cell_type": "code",
      "source": [
        "# Define a function to print amount and category of expenses in given list of 'expenses'\n",
        "def print_expenses(expenses):\n",
        "    \"\"\"\n",
        "    Print the list of expenses.\n",
        "\n",
        "    Args:\n",
        "        expenses (list): List of expenses.\n",
        "\n",
        "    Returns:\n",
        "        nothing\n",
        "\n",
        "    Raises:\n",
        "        AttributeError: If 'expenses' variable is not list.\n",
        "        TypeError: If missing a required argument.\n",
        "        TypeError: If element in 'expenses' variable is not dictionary.\n",
        "\n",
        "    Examples:\n",
        "        >>> print_expenses(expenses = [{'amount': 10, 'category': 'food'}])\n",
        "        Amount: 10, Category: food\n",
        "    \"\"\"\n",
        "    for expense in expenses:\n",
        "        # print amount and category for each dict element of list\n",
        "        print(f'Amount: {expense[\"amount\"]}, Category: {expense[\"category\"]}')\n",
        ""
      ],
      "metadata": {
        "id": "KpW0j4PHFMk-"
      },
      "execution_count": null,
      "outputs": []
    },
    {
      "cell_type": "code",
      "source": [
        "# Define a function to sum up all expense amounts\n",
        "def total_expenses(expenses):\n",
        "    \"\"\"\n",
        "    Calculates the total amount of expenses.\n",
        "\n",
        "    Args:\n",
        "        expenses (list): List of expenses.\n",
        "\n",
        "    Returns:\n",
        "        total (float): Total amount of expenses.\n",
        "\n",
        "    Raises:\n",
        "        TypeError: If missing a required argument.\n",
        "        TypeError: If 'amount' variable is not float.\n",
        "        TypeError: If 'expenses' variable is not list.\n",
        "        TypeError: If element in 'expenses' variable is not dictionary.\n",
        "\n",
        "    Examples:\n",
        "        >>> total_expenses(expenses = [{'amount': 10, 'category': 'food'}])\n",
        "        10\n",
        "    \"\"\"\n",
        "    return sum(map(lambda expense: expense['amount'], expenses))"
      ],
      "metadata": {
        "id": "5q5TZx10XthS"
      },
      "execution_count": 38,
      "outputs": []
    },
    {
      "cell_type": "code",
      "source": [
        "# Define a function to filter category for a given category\n",
        "def filter_expenses_by_category(expenses, category):\n",
        "    \"\"\"\n",
        "    Filters expenses by given 'category'.\n",
        "\n",
        "    Args:\n",
        "      expenses (list): List of expenses.\n",
        "      category (str): Category to filter.\n",
        "\n",
        "    Returns:\n",
        "        filtered_expenses (list): List of filtered expenses\n",
        "                                  (shown only when printed)\n",
        "\n",
        "    Raises:\n",
        "        TypeError: If missing a required argument.\n",
        "        TypeError: If 'expenses' variable is not list.\n",
        "        TypeError: If element in 'expenses' variable is not dictionary.\n",
        "\n",
        "\n",
        "    Examples:\n",
        "        >>> filter_expenses_by_category(expenses = [{'amount': 10, 'category': 'food'}], category = 'food')\n",
        "        [{'amount': 10, 'category': 'food'}]\n",
        "    \"\"\"\n",
        "    return filter(lambda expense: expense['category'] == category, expenses)"
      ],
      "metadata": {
        "colab": {
          "base_uri": "https://localhost:8080/"
        },
        "id": "g_TXkL8ras_p",
        "outputId": "71c8a458-786b-4c6a-a1d0-eac96879f1ba"
      },
      "execution_count": 44,
      "outputs": [
        {
          "output_type": "execute_result",
          "data": {
            "text/plain": [
              "100"
            ]
          },
          "metadata": {},
          "execution_count": 44
        }
      ]
    },
    {
      "cell_type": "code",
      "source": [
        "# Define a function to handle the main logic of the program\n",
        "def main():\n",
        "    expenses = []\n",
        "    while True:\n",
        "        print('\\nExpense Tracker')\n",
        "        print('1. Add an expense')\n",
        "        print('2. List all expenses')\n",
        "        print('3. Show total expenses')\n",
        "        print('4. Filter expenses by category')\n",
        "        print('5. Exit')\n",
        "\n",
        "        choice = input('Enter your choice: ')\n",
        "\n",
        "        if choice == '1':\n",
        "            amount = float(input('Enter amount: '))\n",
        "            category = input('Enter category: ')\n",
        "            add_expense(expenses, amount, category)\n",
        "\n",
        "        elif choice == '2':\n",
        "            print('\\nAll Expenses:')\n",
        "            print_expenses(expenses)\n",
        "\n",
        "        elif choice == '3':\n",
        "            print('\\nTotal Expenses: ', total_expenses(expenses))\n",
        "\n",
        "        elif choice == '4':\n",
        "            category = input('Enter category to filter: ')\n",
        "            print(f'\\nExpenses for {category}:')\n",
        "            expenses_from_category = filter_expenses_by_category(expenses, category)\n",
        "            print_expenses(expenses_from_category)\n",
        "\n",
        "        elif choice == '5':\n",
        "            print('Exiting the program.')\n",
        "            break"
      ],
      "metadata": {
        "id": "1RUDE7jjDJ9j"
      },
      "execution_count": null,
      "outputs": []
    },
    {
      "cell_type": "code",
      "source": [
        "# This line ensures that the code below runs only when the script is executed directly\n",
        "# and NOT when it is imported as a module in another script\n",
        "# follow the directions and add inputs to show results\n",
        "if __name__ == \"__main__\":\n",
        "    main() # Call the main() function"
      ],
      "metadata": {
        "colab": {
          "base_uri": "https://localhost:8080/"
        },
        "id": "DPZMWbx8CxMs",
        "outputId": "c1de4474-56f5-45ca-b51c-123bbbefb8b1"
      },
      "execution_count": 5,
      "outputs": [
        {
          "output_type": "stream",
          "name": "stdout",
          "text": [
            "\n",
            "Expense Tracker\n",
            "1. Add an expense\n",
            "2. List all expenses\n",
            "3. Show total expenses\n",
            "4. Filter expenses by category\n",
            "5. Exit\n",
            "Enter your choice: 1\n",
            "Enter amount: 100\n",
            "Enter category: \n",
            "\n",
            "Expense Tracker\n",
            "1. Add an expense\n",
            "2. List all expenses\n",
            "3. Show total expenses\n",
            "4. Filter expenses by category\n",
            "5. Exit\n",
            "Enter your choice: 2\n",
            "\n",
            "All Expenses:\n",
            "Amount: 100.0, Category: \n",
            "\n",
            "Expense Tracker\n",
            "1. Add an expense\n",
            "2. List all expenses\n",
            "3. Show total expenses\n",
            "4. Filter expenses by category\n",
            "5. Exit\n",
            "Enter your choice: 5\n",
            "Exiting the program.\n"
          ]
        }
      ]
    },
    {
      "cell_type": "code",
      "source": [],
      "metadata": {
        "id": "JUsp9t2BCx8e"
      },
      "execution_count": null,
      "outputs": []
    }
  ]
}
