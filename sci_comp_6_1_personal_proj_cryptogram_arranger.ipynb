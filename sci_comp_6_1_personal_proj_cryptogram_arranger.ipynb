{
  "nbformat": 4,
  "nbformat_minor": 0,
  "metadata": {
    "colab": {
      "provenance": [],
      "authorship_tag": "ABX9TyOxb+9ThzG9pT9zSh2lAF/T",
      "include_colab_link": true
    },
    "kernelspec": {
      "name": "python3",
      "display_name": "Python 3"
    },
    "language_info": {
      "name": "python"
    }
  },
  "cells": [
    {
      "cell_type": "markdown",
      "metadata": {
        "id": "view-in-github",
        "colab_type": "text"
      },
      "source": [
        "<a href=\"https://colab.research.google.com/github/sita-aghasoy33/Scientific-Computing-with-Python-by-Freecodecamp.org/blob/main/sci_comp_6_1_personal_proj_cryptogram_arranger.ipynb\" target=\"_parent\"><img src=\"https://colab.research.google.com/assets/colab-badge.svg\" alt=\"Open In Colab\"/></a>"
      ]
    },
    {
      "cell_type": "markdown",
      "source": [
        "# **6.1 Arithmetic Formatter and Cryptogram Arranger Functions**\n",
        "\n",
        "[go to the arithmetic formatter project in official web-site: www.freecodecamp.org](https://www.freecodecamp.org/learn/scientific-computing-with-python/build-an-arithmetic-formatter-project/build-an-arithmetic-formatter-project)\n",
        "\n",
        "\n",
        "[go to the password generator task in official web-site: www.freecodecamp.org](https://www.freecodecamp.org/learn/scientific-computing-with-python/learn-regular-expressions-by-building-a-password-generator/)"
      ],
      "metadata": {
        "id": "tjZ-jNxmXpM3"
      }
    },
    {
      "cell_type": "markdown",
      "source": [
        "# **About the project task**\n",
        "\n",
        "This is the first certification project of *\"Scientific Computing with Python\"* path.\n",
        "Students in primary school often arrange arithmetic problems vertically to make them easier to solve. For example, \"235 + 52\" becomes:\n",
        "\n",
        "```\n",
        "  235\n",
        "+  52\n",
        "-----\n",
        "```\n",
        "\n",
        "I have added different new functions to this task and expanded to work for cryptograms, as well. In this notebook we will use libraries \"re\" and \"string\" which we can see in the 7th task of the *\"Scientific Computing with Python\"* by FreeCodeCamp.org . You can visit the tasks by the link given in above cell and practise before running this notebook."
      ],
      "metadata": {
        "id": "KU3OPjbUcfWT"
      }
    },
    {
      "cell_type": "markdown",
      "source": [
        "## **About Cryptograms**\n",
        "\n",
        "A cryptogram is a type of puzzle where a piece of text is encrypted, and the goal is to decode it without knowing the encryption key. Traditionally, cryptograms use substitution ciphers, where each letter in the plaintext is replaced with a different letter or symbol.\n",
        "Key Features:\n",
        "\n",
        "**Types of Ciphers:**\n",
        "* Simple substitution: Each letter is consistently replaced by the same substitute.\n",
        "* Caesar cipher: Letters are shifted by a fixed number of places.\n",
        "* Keyword cipher: A keyword determines the substitution pattern.\n",
        "\n",
        "**Solving Cryptograms:**\n",
        "* Look for common letters (e.g., E, T, A in English).\n",
        "* Identify common word patterns (e.g., one-letter words like \"A\" or \"I\").\n",
        "* Use frequency analysis to match letters based on their occurrence.\n",
        "\n",
        "**Uses:**\n",
        "* Recreational puzzles (e.g., in newspapers or games).\n",
        "* Historical encrypted messages.\n",
        "* Cryptography education and practice.\n",
        "\n",
        "Modern cryptography has evolved far beyond simple cryptograms, but they remain a fun and challenging way to explore basic encryption principles.\n",
        "\n",
        "You can find similar puzzles in [brilliant.org](https://brilliant.org/home/).\n"
      ],
      "metadata": {
        "id": "d0cGqVTGpwpH"
      }
    },
    {
      "cell_type": "code",
      "source": [
        "# import regex and string libraries\n",
        "import re\n",
        "import string"
      ],
      "metadata": {
        "id": "blyionTd1O9p"
      },
      "execution_count": 234,
      "outputs": []
    },
    {
      "cell_type": "markdown",
      "source": [
        "## **Problems and cryptograms with two operands**\n",
        "\n",
        "Let's begin with easier task: here we have only two operands so it is easy to seperate them and arrange in vertical order."
      ],
      "metadata": {
        "id": "4KKXjCqHH6_8"
      }
    },
    {
      "cell_type": "code",
      "source": [
        "# define function to arrenge math problems vertically - for two operands\n",
        "def two_operands_arranger(problem, show_answer=False, print_orig = False):\n",
        "    \"\"\"\n",
        "    This function arranges vertically the given problem with two operands.\n",
        "\n",
        "    Args:\n",
        "      problem (str): the math problem given in string type.\n",
        "                     There should be \" \" between operands and operator\n",
        "                     (including the equal \"=\" sign and result of problem, if given.)\n",
        "\n",
        "      show_answers (bool, optional): Defaulted to False.\n",
        "                                     Determines the choice for printing answer\n",
        "                                     of given problem.\n",
        "                                     shows result if True.\n",
        "      print_orig (bool, optional): Defaulted to False.\n",
        "                                   Determines the choice for printing original\n",
        "                                   problem.\n",
        "    Returns:\n",
        "      str: the problem arranged vertically.\n",
        "\n",
        "    Raises:\n",
        "      ValueError: if the is no space \" \" between operators and operands.\n",
        "      ValueError: if there is no result after \"=\" sign\n",
        "                  (if there is no result, there should be no \"=\" at the end.)\n",
        "\n",
        "    Examples:\n",
        "      >>> problem = \"32 + 698B = 345A\"\n",
        "      >>> two_operands_arranger(problem, True, True)\n",
        "\n",
        "      \"32 + 698B = 345A\"\n",
        "\n",
        "          32\n",
        "      + 698B\n",
        "      ------\n",
        "        345A\n",
        "\n",
        "    \"\"\"\n",
        "    problem = ' '.join(problem.split()) # eliminate redundant spaces.\n",
        "\n",
        "    # raise a ValueError if the operator is directly stick to the operand\n",
        "    # like '3+6' instead of \" 3 + 6\"\n",
        "    az19 = '[a-zA-Z0-9_]'\n",
        "    symb = '[^a-zA-Z0-9_ ]'\n",
        "    if re.findall(az19+symb+'|'+symb+az19, problem):\n",
        "        raise ValueError('Error: Numbers must only contain digits. ---> ' + \\\n",
        "                         str(re.findall(az19+symb+'|'+symb+az19, problem)) + \\\n",
        "                         \" <--- seperate operators and operands with space for given example.\")\n",
        "\n",
        "    # printing original if print_orig parameter is True.\n",
        "    print(problem+\"\\n\") if print_orig else None\n",
        "\n",
        "    # as the output contains 4 lines (with answer), we create 4 empty lines\n",
        "    line_1, line_2, line_3, line_4 = '', '', '', ''\n",
        "\n",
        "    # if result is provided take it as pre-defined value\n",
        "    if problem.find('=') > -1:\n",
        "          num1, operator, num2, _, result = problem.split(\" \")\n",
        "    else: # if not calculate it, unless the operands contain alpha char.\n",
        "          num1, operator, num2 = problem.split(\" \")\n",
        "          result = eval(problem) if not re.findall(r'[a-zA-Z]', problem) else \"\"\n",
        "\n",
        "    line_len = max(len(num1), len(num2))+2 # take width of larger num...\n",
        "\n",
        "    # ... and use them to adjust all lines\n",
        "    line_1 +=  num1.rjust(line_len)+\"    \"\n",
        "    line_2 += operator+num2.rjust(line_len-1)+\"    \"\n",
        "    line_3 += line_len*\"-\"+ \"    \"\n",
        "    line_4 += str(result).rjust(line_len)+\"    \"\n",
        "\n",
        "\n",
        "    # organize them vertically and assign to final output\n",
        "    final_output =  line_1.rstrip()+\"\\n\"+ \\\n",
        "                    line_2.rstrip()+\"\\n\"+ \\\n",
        "                    line_3.rstrip()\n",
        "\n",
        "    # if parameter show_answers is True, also display answer in 4th line\n",
        "    final_output += \"\\n\"+line_4.rstrip() if show_answer else \"\"\n",
        "\n",
        "    # return output\n",
        "    return final_output"
      ],
      "metadata": {
        "id": "3Ko5pPj1aS-8"
      },
      "execution_count": 235,
      "outputs": []
    },
    {
      "cell_type": "code",
      "source": [
        "def main():\n",
        "  problem = \"32 + 698B = 345A\"\n",
        "  print(two_operands_arranger(problem, True, True))\n",
        "\n",
        "if __name__ == \"__main__\":\n",
        "  main()"
      ],
      "metadata": {
        "colab": {
          "base_uri": "https://localhost:8080/"
        },
        "id": "hACKIGDeIVVz",
        "outputId": "f4dc3feb-35b5-4a95-e14e-e50d52ec3b92"
      },
      "execution_count": 236,
      "outputs": [
        {
          "output_type": "stream",
          "name": "stdout",
          "text": [
            "32 + 698B = 345A\n",
            "\n",
            "    32\n",
            "+ 698B\n",
            "------\n",
            "  345A\n"
          ]
        }
      ]
    },
    {
      "cell_type": "markdown",
      "source": [
        "## **Problems with more operands**\n",
        "\n",
        "However, in real life examples we may face math problems with more than 2 operands. Let's write a function to arrange these type of problems.\n",
        "\n",
        "Do not forget that we can arrange both cryptograms and typical math problems with above and below-mentioned functions. So, do not be afraid to check different examples."
      ],
      "metadata": {
        "id": "uTF_wv2sIgH2"
      }
    },
    {
      "cell_type": "code",
      "source": [
        "def arithmetic_arranger(problem, show_answer = False, print_orig = False):\n",
        "    \"\"\"\n",
        "    Arranges the given math problems vertically with unlimited number of operands.\n",
        "\n",
        "    Args:\n",
        "      problem (str): the math problem given in string type.\n",
        "                     There should be \" \" between operands and operator\n",
        "                     (including the equal \"=\" sign and result of problem, if given.)\n",
        "      show_answer (bool, optional): Defaulted to False.\n",
        "                                     Determines the choice for printing answer\n",
        "                                     of given problem.\n",
        "                                     shows result if True.\n",
        "      print_orig (bool, optional): Defaulted to False.\n",
        "                                   Determines the choice for printing original.\n",
        "\n",
        "    Returns:\n",
        "      str: the problem arranged vertically.\n",
        "\n",
        "    Raises:\n",
        "      ValueError: if the is no space \" \" between operators and operands.\n",
        "      ValueError: if there is no result after \"=\" sign\n",
        "                  (if there is no result, there should be no \"=\" at the end.)\n",
        "\n",
        "    Examples:\n",
        "\n",
        "    \"\"\"\n",
        "    problem = ' '.join(problem.split()) # eliminate redundant spaces\n",
        "\n",
        "    # raise a ValueError if the operator is directly stick to the operand\n",
        "    # like '3+6' instead of \" 3 + 6\"\n",
        "    az19 = '[a-zA-Z0-9_]'\n",
        "    symb = '[^a-zA-Z0-9_ ]'\n",
        "    if re.findall(az19+symb+'|'+symb+az19, problem):\n",
        "        raise ValueError('Error: Numbers must only contain digits. ---> ' + \\\n",
        "                         str(re.findall(az19+symb+'|'+symb+az19, problem)) + \\\n",
        "                         \" <--- seperate operators and operands with space for given example.\")\n",
        "\n",
        "    # print original problem if print_orig is True\n",
        "    print(problem+\"\\n\") if print_orig else None\n",
        "\n",
        "    # create list of elements in problem\n",
        "    oper_list = problem.split(\" \")\n",
        "\n",
        "    line_len = max([len(op) for op in oper_list])+2 # define line legth as maximum lenght element\n",
        "\n",
        "    # calculate result if result is not given\n",
        "    if problem.find('=') > -1:\n",
        "        result = oper_list[-1]\n",
        "        oper_list = oper_list[:-2]\n",
        "    else: # and all operands are numeric\n",
        "        result = eval(problem) if not re.findall(r'[a-zA-Z]', problem) else \"\"\n",
        "\n",
        "\n",
        "    index = 1 # index for lines\n",
        "\n",
        "    # iterate over list of problem elements (operands and operators)\n",
        "    for op_index in range(len(oper_list)):\n",
        "        element = oper_list[op_index]\n",
        "        prev_element = oper_list[op_index-1] if op_index > 0 else ''\n",
        "\n",
        "        # for each alphanumeric element (operand) join previous element (operator)\n",
        "        # and make them one line together\n",
        "        if element not in string.punctuation:\n",
        "            globals()['line_'+str(index)] = prev_element+\" \"+element.rjust(line_len-len(prev_element)-1)+\"    \"\n",
        "            index +=1 # add one line for each operand (not operator)\n",
        "\n",
        "    # for final two lines add dotted line according to longest operand length...\n",
        "    globals()['line_'+str(index)] = (line_len)*\"-\"+ \"    \"\n",
        "    # ... and result of problem either given or calculated.\n",
        "    globals()['line_'+str(index+1)] = str(result).rjust(line_len)+\"    \"\n",
        "\n",
        "    # create an empty 'final_output' string\n",
        "    final_output =  ''\n",
        "    for line in range(1, index+show_answer+1): # and add all the lines iteratively\n",
        "        final_output += globals()['line_'+str(line)].rstrip()+\"\\n\"\n",
        "\n",
        "    return final_output"
      ],
      "metadata": {
        "id": "5GlaUvVOZ8fq"
      },
      "execution_count": 238,
      "outputs": []
    },
    {
      "cell_type": "code",
      "source": [
        "def main():\n",
        "  problem = \"P6 + P7 = 1P3\"\n",
        "  print(arithmetic_arranger(problem, True, True))\n",
        "\n",
        "if __name__ == \"__main__\":\n",
        "  main()"
      ],
      "metadata": {
        "colab": {
          "base_uri": "https://localhost:8080/"
        },
        "id": "JEnV6IKmJG_N",
        "outputId": "d50628ac-b7e3-4b90-e5b3-d8600adabec2"
      },
      "execution_count": 239,
      "outputs": [
        {
          "output_type": "stream",
          "name": "stdout",
          "text": [
            "P6 + P7 = 1P3\n",
            "\n",
            "   P6\n",
            "+  P7\n",
            "-----\n",
            "  1P3\n",
            "\n"
          ]
        }
      ]
    },
    {
      "cell_type": "markdown",
      "source": [
        "## **Decomposing cryptograms and problems**\n",
        "\n",
        "Usually for cryptograms, also in order to understand decimal places, we need split operands into their decimals and then find solution. Let's write a function which decomposes problems with unlimited operands."
      ],
      "metadata": {
        "id": "_YeV34P5JKRB"
      }
    },
    {
      "cell_type": "code",
      "source": [
        "def problem_decomposer(problem, show_answer = False, print_orig = False):\n",
        "    \"\"\"\n",
        "    Transforms a mathematical expression containing numbers and operators\n",
        "    into a decomposed format where each number is split into its decimal\n",
        "    place values, and operators are preserved.\n",
        "\n",
        "    Args:\n",
        "      problem (str): the math problem given in string type.\n",
        "                     There should be \" \" between operands and operator\n",
        "                     (including the equal \"=\" sign and result of problem, if given.)\n",
        "      show_answer (bool, optional): Defaulted to False.\n",
        "                                     Determines the choice for printing answer\n",
        "                                     of given problem.\n",
        "                                     shows result if True.\n",
        "      print_orig (bool, optional): Defaulted to False.\n",
        "                                   Determines the choice for printing original.\n",
        "\n",
        "    Returns:\n",
        "      str: the problem decomposed.\n",
        "\n",
        "    Raises:\n",
        "      ValueError: if the is no space \" \" between operators and operands.\n",
        "      ValueError: if there is no result after \"=\" sign\n",
        "                  (if there is no result, there should be no \"=\" at the end.)\n",
        "\n",
        "    Examples:\n",
        "      >>> problem = \"P7 % P7 + 26 = 1P3\"\n",
        "      >>> problem_decomposer(problem, True, True)\n",
        "\n",
        "      ['P7', '%', 'P7', '+', '26', '=', '1P3']\n",
        "\n",
        "      (10*P + 1*7) % (10*P + 1*7) + (10*2 + 1*6) = (100*1 + 10*P + 1*3)\n",
        "\n",
        "    \"\"\"\n",
        "    problem = ' '.join(problem.split()) # eliminate redundat spaces\n",
        "\n",
        "    # raise a ValueError if the operator is directly stick to the operand\n",
        "    # like '3+6' instead of \" 3 + 6\"\n",
        "    az19 = '[a-zA-Z0-9_]'\n",
        "    symb = '[^a-zA-Z0-9_ ]'\n",
        "\n",
        "    if re.findall(az19+symb+'|'+symb+az19, problem):\n",
        "        raise ValueError('Error: Numbers must only contain digits. ---> ' + \\\n",
        "                         str(re.findall(az19+symb+'|'+symb+az19, problem)) + \\\n",
        "                         \" <--- seperate operators and operands with space for given example.\")\n",
        "\n",
        "    # take all the operands and operators seperately in a list\n",
        "    elements = problem.split(\" \")\n",
        "\n",
        "    # for each operand in problem\n",
        "    for index in range(0,len(elements), 2): # miss operators iterating by 2 steps\n",
        "      element = elements[index]\n",
        "      reverse = element[::-1] # reverse each operand to make it begin from 1st place unit\n",
        "\n",
        "      # starting from first decimal place in reversed operand\n",
        "      # multiple each by exponent of 10 with according decimal place number\n",
        "      # for example, for 26 ---> 6 * 10**0 + 2 * 10**1\n",
        "      _ = [str(10**(i))+\"*\"+reverse[i] for i in range(len(reverse))]\n",
        "      new_operand = \"(\"+' + '.join(_[::-1])+\")\"\n",
        "      elements[index] = new_operand\n",
        "\n",
        "    # print original problem if print_orig is True\n",
        "    print(problem+\"\\n\") if print_orig else None\n",
        "\n",
        "    # calculate result if result is not given\n",
        "    if problem.find('=') > -1:\n",
        "        result = \"\"\n",
        "    else:  # and all operands are numeric\n",
        "        result = str(eval(problem))[::-1] if not re.findall(r'[a-zA-Z]', problem) else \"\"\n",
        "        _ = [str(10**(i))+\"*\"+result[i] for i in range(len(result))]\n",
        "        result = \" = \"+\" + \".join(_[::-1])\n",
        "\n",
        "    # return with/without answer if  show_answer is True/False\n",
        "    return ' '.join(elements).strip(\" \")+result if show_answer else ' '.join(elements[:-2]).strip(\" \")"
      ],
      "metadata": {
        "id": "XCE7Ml49tVwM"
      },
      "execution_count": 241,
      "outputs": []
    },
    {
      "cell_type": "code",
      "source": [
        "def main():\n",
        "  problem = \"P6 + P7 = 1P3\"\n",
        "  print(problem_decomposer(problem, True, True))\n",
        "\n",
        "if __name__ == \"__main__\":\n",
        "  main()"
      ],
      "metadata": {
        "colab": {
          "base_uri": "https://localhost:8080/"
        },
        "id": "28vTHOGKJr7C",
        "outputId": "759bec8c-69d6-4412-906f-eb72d14abeea"
      },
      "execution_count": 242,
      "outputs": [
        {
          "output_type": "stream",
          "name": "stdout",
          "text": [
            "P6 + P7 = 1P3\n",
            "\n",
            "(10*P + 1*6) + (10*P + 1*7) = (100*1 + 10*P + 1*3)\n"
          ]
        }
      ]
    },
    {
      "cell_type": "code",
      "source": [
        "def putting_limits(problem, function,\n",
        "                   show_answer=False, print_orig = False,\n",
        "                   only_digits = False, max_digit = 100,\n",
        "                   max_num_operands = 100, operators = list(string.punctuation)):\n",
        "    \"\"\"\n",
        "    Putting limits for arithmetic arranger and decomposer functions.\n",
        "\n",
        "    Args:\n",
        "      problem (str): the math problem given in string.\n",
        "      function (function): the function to be used.\n",
        "      show_answer (bool, optional): Defaulted to False.\n",
        "                                     Determines the choice for printing answer\n",
        "                                     of given problem.\n",
        "                                     shows result if True.\n",
        "      print_orig (bool, optional): Defaulted to False.\n",
        "                                   Determines the choice for printing original.\n",
        "      only_digits (bool, optional): Defaulted to False.\n",
        "                                    Determines the choice for numbers to be only digits.\n",
        "      max_digits (int, optional): Defaulted to 100.\n",
        "                                  Determines the max number of digits in an operand.\n",
        "      operators (list, optional): Defaulted to list(string.punctuation).\n",
        "                                  Determines the allowed operators.\n",
        "    Returns:\n",
        "      str: the problem arranged according to given function.\n",
        "\n",
        "    Raises:\n",
        "      ValueError: if the is no space \" \" between operators and operands.\n",
        "      ValueError: if there is no result after \"=\" sign\n",
        "                  (if there is no result, there should be no \"=\" at the end.)\n",
        "\n",
        "    Examples:\n",
        "      >>> problem = \"32abc % 698 = 345\"\n",
        "      >>> putting_limits(problem, arithmetic_arranger, True, True)\n",
        "\n",
        "      'Error: Numbers must only contain digits.'\n",
        "\n",
        "      >>> problem = \"32 + 698B = 345A\"\n",
        "      >>> putting_limits(problem, arithmetic_arranger, True, True)\n",
        "\n",
        "       32a\n",
        "      %698\n",
        "      ----\n",
        "       345\n",
        "\n",
        "    \"\"\"\n",
        "    # 2nd error - numbers must contain only digits.\n",
        "    oper_list = problem.split(\" \")\n",
        "    if re.findall(r'[a-zA-Z]', problem) and only_digits:\n",
        "        return 'Error: Numbers must only contain digits.'\n",
        "\n",
        "    # 3rd error - only \"+\" or \"-\" operator is acceptable\n",
        "    if [1 for i in re.findall(r'[^\\w\\s]', problem) if i not in operators+[\"=\"]]:\n",
        "        return \"Error: Operator must be either of given operators: \"+str(operators)\n",
        "\n",
        "    # 4th error - both operands should be maximum 4 digits\n",
        "    if max([len(op) for op in oper_list]) > max_digit:\n",
        "        return \"Error: Numbers cannot be more than \"+str(max_digit)+\" digits.\"\n",
        "\n",
        "    # 5th error - number of operands should not exceed\n",
        "    sum([1 for i in re.findall(r'[^\\w\\s]', problem)])+1 > max_num_operands\n",
        "    if sum([1 for i in re.findall(r'[^\\w\\s]', problem)])+1 > max_num_operands:\n",
        "        return 'Error: Too many operands.'+\" The number of operands should not exceed \"+str(max_num_operands)+\".\"\n",
        "\n",
        "    return function(problem, show_answer, print_orig)"
      ],
      "metadata": {
        "id": "ylTr6Z7U_qyz"
      },
      "execution_count": 244,
      "outputs": []
    },
    {
      "cell_type": "code",
      "source": [
        "def apply_to_list_of_probs(problems, function,\n",
        "                           show_answer=False, print_orig = False,\n",
        "                           max_num_problems = 100, only_digits = False, max_digit = 100,\n",
        "                           max_num_operands = 100, operators = list(string.punctuation)):\n",
        "\n",
        "  # 1st error - the number of problems in given list should not exceed 'max_num_problems'\n",
        "  if len(problems) > max_num_problems:\n",
        "    return 'Error: Too many problems.'+ \\\n",
        "          \" The number of problems should not exceed \"+str(max_num_problems)+\".\"\n",
        "\n",
        "  # if no error, apply the selected function with limitations\n",
        "  else:\n",
        "    _ = [putting_limits(problem, function, show_answer, print_orig,\n",
        "                        only_digits, max_digit, max_num_operands, operators) \\\n",
        "                        for problem in problems]\n",
        "\n",
        "    return _"
      ],
      "metadata": {
        "id": "nwPTPT09olqn"
      },
      "execution_count": 248,
      "outputs": []
    },
    {
      "cell_type": "code",
      "source": [
        "def main():\n",
        "  problem_list = ['P6 + P7 = 1P3', 'B8 % 3 = 8A', '55 - 34', 'ABB + BB = BBA', 'XX + YY = A']\n",
        "  arranged_prob_list = apply_to_list_of_probs(problem_list, arithmetic_arranger)\n",
        "  print(arranged_prob_list)\n",
        "  decomposed_prob_list = apply_to_list_of_probs(problem_list, problem_decomposer)\n",
        "  print(decomposed_prob_list)\n",
        "\n",
        "if __name__ == \"__main__\":\n",
        "  main()"
      ],
      "metadata": {
        "colab": {
          "base_uri": "https://localhost:8080/"
        },
        "id": "RRGOp5BHLPp7",
        "outputId": "e8a6e070-4079-4920-98de-4dcae5d77809"
      },
      "execution_count": 250,
      "outputs": [
        {
          "output_type": "stream",
          "name": "stdout",
          "text": [
            "['   P6\\n+  P7\\n-----\\n', '  B8\\n%  3\\n----\\n', '  55\\n- 34\\n----\\n', '  ABB\\n+  BB\\n-----\\n', '  XX\\n+ YY\\n----\\n']\n",
            "['(10*P + 1*6) + (10*P + 1*7)', '(10*B + 1*8) % (1*3)', '(10*5 + 1*5)', '(100*A + 10*B + 1*B) + (10*B + 1*B)', '(10*X + 1*X) + (10*Y + 1*Y)']\n"
          ]
        }
      ]
    },
    {
      "cell_type": "code",
      "source": [
        "def print_arranged_problems(arranged_problems):\n",
        "\n",
        "  for index in range(len(arranged_problems)):\n",
        "      print(\"Problem \"+str(index+1)+\":\")\n",
        "      print(arranged_problems[index])\n",
        "      print(\"=\"*50)\n",
        "      print(\" \")"
      ],
      "metadata": {
        "id": "_PsM5Q9lq-ET"
      },
      "execution_count": 258,
      "outputs": []
    },
    {
      "cell_type": "code",
      "source": [
        "def main():\n",
        "  problem_list = ['P6 + P7 = 1P3', 'B8 % 3 = 8A', '55 - 34', 'ABB + BB = BBA', 'XX + YY = A']\n",
        "  arranged_prob_list = apply_to_list_of_probs(problem_list, arithmetic_arranger)\n",
        "  print(arranged_prob_list)\n",
        "  print_arranged_problems(arranged_prob_list)\n",
        "  print(\"\")\n",
        "  decomposed_prob_list = apply_to_list_of_probs(problem_list, problem_decomposer)\n",
        "  print(decomposed_prob_list)\n",
        "  print_arranged_problems(decomposed_prob_list)\n",
        "  print(\"\")\n",
        "\n",
        "if __name__ == \"__main__\":\n",
        "  main()"
      ],
      "metadata": {
        "colab": {
          "base_uri": "https://localhost:8080/"
        },
        "id": "SKIsEGXgLm3Y",
        "outputId": "9247e761-07ab-4bbf-fe12-63be0b0c0582"
      },
      "execution_count": 259,
      "outputs": [
        {
          "output_type": "stream",
          "name": "stdout",
          "text": [
            "['   P6\\n+  P7\\n-----\\n', '  B8\\n%  3\\n----\\n', '  55\\n- 34\\n----\\n', '  ABB\\n+  BB\\n-----\\n', '  XX\\n+ YY\\n----\\n']\n",
            "Problem 1:\n",
            "   P6\n",
            "+  P7\n",
            "-----\n",
            "\n",
            "==================================================\n",
            " \n",
            "Problem 2:\n",
            "  B8\n",
            "%  3\n",
            "----\n",
            "\n",
            "==================================================\n",
            " \n",
            "Problem 3:\n",
            "  55\n",
            "- 34\n",
            "----\n",
            "\n",
            "==================================================\n",
            " \n",
            "Problem 4:\n",
            "  ABB\n",
            "+  BB\n",
            "-----\n",
            "\n",
            "==================================================\n",
            " \n",
            "Problem 5:\n",
            "  XX\n",
            "+ YY\n",
            "----\n",
            "\n",
            "==================================================\n",
            " \n",
            "\n",
            "['(10*P + 1*6) + (10*P + 1*7)', '(10*B + 1*8) % (1*3)', '(10*5 + 1*5)', '(100*A + 10*B + 1*B) + (10*B + 1*B)', '(10*X + 1*X) + (10*Y + 1*Y)']\n",
            "Problem 1:\n",
            "(10*P + 1*6) + (10*P + 1*7)\n",
            "==================================================\n",
            " \n",
            "Problem 2:\n",
            "(10*B + 1*8) % (1*3)\n",
            "==================================================\n",
            " \n",
            "Problem 3:\n",
            "(10*5 + 1*5)\n",
            "==================================================\n",
            " \n",
            "Problem 4:\n",
            "(100*A + 10*B + 1*B) + (10*B + 1*B)\n",
            "==================================================\n",
            " \n",
            "Problem 5:\n",
            "(10*X + 1*X) + (10*Y + 1*Y)\n",
            "==================================================\n",
            " \n",
            "\n"
          ]
        }
      ]
    }
  ]
}